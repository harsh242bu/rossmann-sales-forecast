{
 "cells": [
  {
   "cell_type": "code",
   "execution_count": 1,
   "id": "b3119e28-7d34-488c-b853-7e5fe026f0bc",
   "metadata": {},
   "outputs": [],
   "source": [
    "import pandas as pd\n",
    "import numpy as np\n",
    "import datetime\n",
    "import plotly.express as px\n",
    "from pmdarima.arima import auto_arima\n",
    "from statsmodels.tsa.seasonal import seasonal_decompose \n",
    "from statsmodels.tsa.stattools import adfuller\n",
    "from statsmodels.tsa.statespace.sarimax import SARIMAX\n",
    "from statsmodels.graphics.tsaplots import plot_acf,plot_pacf\n",
    "from statsmodels.tsa.stattools import acovf,acf,pacf\n",
    "from sklearn.metrics import mean_squared_error"
   ]
  },
  {
   "cell_type": "code",
   "execution_count": 2,
   "id": "089a2641-a283-44fc-8013-869593625049",
   "metadata": {},
   "outputs": [
    {
     "name": "stderr",
     "output_type": "stream",
     "text": [
      "/tmp/ipykernel_10927/3598239639.py:3: DtypeWarning: Columns (7) have mixed types. Specify dtype option on import or set low_memory=False.\n",
      "  train_df = pd.read_csv('data/train.csv')\n"
     ]
    }
   ],
   "source": [
    "store_df = pd.read_csv('data/store.csv')\n",
    "test_df = pd.read_csv('data/test.csv')\n",
    "train_df = pd.read_csv('data/train.csv')\n",
    "sample_submission_df = pd.read_csv('data/sample_submission.csv')"
   ]
  },
  {
   "cell_type": "code",
   "execution_count": 3,
   "id": "f0bd19ca",
   "metadata": {},
   "outputs": [
    {
     "data": {
      "text/html": [
       "<div>\n",
       "<style scoped>\n",
       "    .dataframe tbody tr th:only-of-type {\n",
       "        vertical-align: middle;\n",
       "    }\n",
       "\n",
       "    .dataframe tbody tr th {\n",
       "        vertical-align: top;\n",
       "    }\n",
       "\n",
       "    .dataframe thead th {\n",
       "        text-align: right;\n",
       "    }\n",
       "</style>\n",
       "<table border=\"1\" class=\"dataframe\">\n",
       "  <thead>\n",
       "    <tr style=\"text-align: right;\">\n",
       "      <th></th>\n",
       "      <th>Store</th>\n",
       "      <th>DayOfWeek</th>\n",
       "      <th>Date</th>\n",
       "      <th>Sales</th>\n",
       "      <th>Customers</th>\n",
       "      <th>Open</th>\n",
       "      <th>Promo</th>\n",
       "      <th>StateHoliday</th>\n",
       "      <th>SchoolHoliday</th>\n",
       "    </tr>\n",
       "  </thead>\n",
       "  <tbody>\n",
       "    <tr>\n",
       "      <th>0</th>\n",
       "      <td>1</td>\n",
       "      <td>5</td>\n",
       "      <td>2015-07-31</td>\n",
       "      <td>5263</td>\n",
       "      <td>555</td>\n",
       "      <td>1</td>\n",
       "      <td>1</td>\n",
       "      <td>0</td>\n",
       "      <td>1</td>\n",
       "    </tr>\n",
       "    <tr>\n",
       "      <th>1</th>\n",
       "      <td>2</td>\n",
       "      <td>5</td>\n",
       "      <td>2015-07-31</td>\n",
       "      <td>6064</td>\n",
       "      <td>625</td>\n",
       "      <td>1</td>\n",
       "      <td>1</td>\n",
       "      <td>0</td>\n",
       "      <td>1</td>\n",
       "    </tr>\n",
       "    <tr>\n",
       "      <th>2</th>\n",
       "      <td>3</td>\n",
       "      <td>5</td>\n",
       "      <td>2015-07-31</td>\n",
       "      <td>8314</td>\n",
       "      <td>821</td>\n",
       "      <td>1</td>\n",
       "      <td>1</td>\n",
       "      <td>0</td>\n",
       "      <td>1</td>\n",
       "    </tr>\n",
       "    <tr>\n",
       "      <th>3</th>\n",
       "      <td>4</td>\n",
       "      <td>5</td>\n",
       "      <td>2015-07-31</td>\n",
       "      <td>13995</td>\n",
       "      <td>1498</td>\n",
       "      <td>1</td>\n",
       "      <td>1</td>\n",
       "      <td>0</td>\n",
       "      <td>1</td>\n",
       "    </tr>\n",
       "    <tr>\n",
       "      <th>4</th>\n",
       "      <td>5</td>\n",
       "      <td>5</td>\n",
       "      <td>2015-07-31</td>\n",
       "      <td>4822</td>\n",
       "      <td>559</td>\n",
       "      <td>1</td>\n",
       "      <td>1</td>\n",
       "      <td>0</td>\n",
       "      <td>1</td>\n",
       "    </tr>\n",
       "    <tr>\n",
       "      <th>...</th>\n",
       "      <td>...</td>\n",
       "      <td>...</td>\n",
       "      <td>...</td>\n",
       "      <td>...</td>\n",
       "      <td>...</td>\n",
       "      <td>...</td>\n",
       "      <td>...</td>\n",
       "      <td>...</td>\n",
       "      <td>...</td>\n",
       "    </tr>\n",
       "    <tr>\n",
       "      <th>1017204</th>\n",
       "      <td>1111</td>\n",
       "      <td>2</td>\n",
       "      <td>2013-01-01</td>\n",
       "      <td>0</td>\n",
       "      <td>0</td>\n",
       "      <td>0</td>\n",
       "      <td>0</td>\n",
       "      <td>a</td>\n",
       "      <td>1</td>\n",
       "    </tr>\n",
       "    <tr>\n",
       "      <th>1017205</th>\n",
       "      <td>1112</td>\n",
       "      <td>2</td>\n",
       "      <td>2013-01-01</td>\n",
       "      <td>0</td>\n",
       "      <td>0</td>\n",
       "      <td>0</td>\n",
       "      <td>0</td>\n",
       "      <td>a</td>\n",
       "      <td>1</td>\n",
       "    </tr>\n",
       "    <tr>\n",
       "      <th>1017206</th>\n",
       "      <td>1113</td>\n",
       "      <td>2</td>\n",
       "      <td>2013-01-01</td>\n",
       "      <td>0</td>\n",
       "      <td>0</td>\n",
       "      <td>0</td>\n",
       "      <td>0</td>\n",
       "      <td>a</td>\n",
       "      <td>1</td>\n",
       "    </tr>\n",
       "    <tr>\n",
       "      <th>1017207</th>\n",
       "      <td>1114</td>\n",
       "      <td>2</td>\n",
       "      <td>2013-01-01</td>\n",
       "      <td>0</td>\n",
       "      <td>0</td>\n",
       "      <td>0</td>\n",
       "      <td>0</td>\n",
       "      <td>a</td>\n",
       "      <td>1</td>\n",
       "    </tr>\n",
       "    <tr>\n",
       "      <th>1017208</th>\n",
       "      <td>1115</td>\n",
       "      <td>2</td>\n",
       "      <td>2013-01-01</td>\n",
       "      <td>0</td>\n",
       "      <td>0</td>\n",
       "      <td>0</td>\n",
       "      <td>0</td>\n",
       "      <td>a</td>\n",
       "      <td>1</td>\n",
       "    </tr>\n",
       "  </tbody>\n",
       "</table>\n",
       "<p>1017209 rows × 9 columns</p>\n",
       "</div>"
      ],
      "text/plain": [
       "         Store  DayOfWeek        Date  Sales  Customers  Open  Promo  \\\n",
       "0            1          5  2015-07-31   5263        555     1      1   \n",
       "1            2          5  2015-07-31   6064        625     1      1   \n",
       "2            3          5  2015-07-31   8314        821     1      1   \n",
       "3            4          5  2015-07-31  13995       1498     1      1   \n",
       "4            5          5  2015-07-31   4822        559     1      1   \n",
       "...        ...        ...         ...    ...        ...   ...    ...   \n",
       "1017204   1111          2  2013-01-01      0          0     0      0   \n",
       "1017205   1112          2  2013-01-01      0          0     0      0   \n",
       "1017206   1113          2  2013-01-01      0          0     0      0   \n",
       "1017207   1114          2  2013-01-01      0          0     0      0   \n",
       "1017208   1115          2  2013-01-01      0          0     0      0   \n",
       "\n",
       "        StateHoliday  SchoolHoliday  \n",
       "0                  0              1  \n",
       "1                  0              1  \n",
       "2                  0              1  \n",
       "3                  0              1  \n",
       "4                  0              1  \n",
       "...              ...            ...  \n",
       "1017204            a              1  \n",
       "1017205            a              1  \n",
       "1017206            a              1  \n",
       "1017207            a              1  \n",
       "1017208            a              1  \n",
       "\n",
       "[1017209 rows x 9 columns]"
      ]
     },
     "execution_count": 3,
     "metadata": {},
     "output_type": "execute_result"
    }
   ],
   "source": [
    "train_df"
   ]
  },
  {
   "cell_type": "code",
   "execution_count": 4,
   "id": "5c11ffde",
   "metadata": {},
   "outputs": [
    {
     "data": {
      "text/html": [
       "<div>\n",
       "<style scoped>\n",
       "    .dataframe tbody tr th:only-of-type {\n",
       "        vertical-align: middle;\n",
       "    }\n",
       "\n",
       "    .dataframe tbody tr th {\n",
       "        vertical-align: top;\n",
       "    }\n",
       "\n",
       "    .dataframe thead th {\n",
       "        text-align: right;\n",
       "    }\n",
       "</style>\n",
       "<table border=\"1\" class=\"dataframe\">\n",
       "  <thead>\n",
       "    <tr style=\"text-align: right;\">\n",
       "      <th></th>\n",
       "      <th>Store</th>\n",
       "      <th>StoreType</th>\n",
       "      <th>Assortment</th>\n",
       "      <th>CompetitionDistance</th>\n",
       "      <th>CompetitionOpenSinceMonth</th>\n",
       "      <th>CompetitionOpenSinceYear</th>\n",
       "      <th>Promo2</th>\n",
       "      <th>Promo2SinceWeek</th>\n",
       "      <th>Promo2SinceYear</th>\n",
       "      <th>PromoInterval</th>\n",
       "    </tr>\n",
       "  </thead>\n",
       "  <tbody>\n",
       "    <tr>\n",
       "      <th>0</th>\n",
       "      <td>1</td>\n",
       "      <td>c</td>\n",
       "      <td>a</td>\n",
       "      <td>1270.0</td>\n",
       "      <td>9.0</td>\n",
       "      <td>2008.0</td>\n",
       "      <td>0</td>\n",
       "      <td>NaN</td>\n",
       "      <td>NaN</td>\n",
       "      <td>NaN</td>\n",
       "    </tr>\n",
       "    <tr>\n",
       "      <th>1</th>\n",
       "      <td>2</td>\n",
       "      <td>a</td>\n",
       "      <td>a</td>\n",
       "      <td>570.0</td>\n",
       "      <td>11.0</td>\n",
       "      <td>2007.0</td>\n",
       "      <td>1</td>\n",
       "      <td>13.0</td>\n",
       "      <td>2010.0</td>\n",
       "      <td>Jan,Apr,Jul,Oct</td>\n",
       "    </tr>\n",
       "    <tr>\n",
       "      <th>2</th>\n",
       "      <td>3</td>\n",
       "      <td>a</td>\n",
       "      <td>a</td>\n",
       "      <td>14130.0</td>\n",
       "      <td>12.0</td>\n",
       "      <td>2006.0</td>\n",
       "      <td>1</td>\n",
       "      <td>14.0</td>\n",
       "      <td>2011.0</td>\n",
       "      <td>Jan,Apr,Jul,Oct</td>\n",
       "    </tr>\n",
       "    <tr>\n",
       "      <th>3</th>\n",
       "      <td>4</td>\n",
       "      <td>c</td>\n",
       "      <td>c</td>\n",
       "      <td>620.0</td>\n",
       "      <td>9.0</td>\n",
       "      <td>2009.0</td>\n",
       "      <td>0</td>\n",
       "      <td>NaN</td>\n",
       "      <td>NaN</td>\n",
       "      <td>NaN</td>\n",
       "    </tr>\n",
       "    <tr>\n",
       "      <th>4</th>\n",
       "      <td>5</td>\n",
       "      <td>a</td>\n",
       "      <td>a</td>\n",
       "      <td>29910.0</td>\n",
       "      <td>4.0</td>\n",
       "      <td>2015.0</td>\n",
       "      <td>0</td>\n",
       "      <td>NaN</td>\n",
       "      <td>NaN</td>\n",
       "      <td>NaN</td>\n",
       "    </tr>\n",
       "    <tr>\n",
       "      <th>...</th>\n",
       "      <td>...</td>\n",
       "      <td>...</td>\n",
       "      <td>...</td>\n",
       "      <td>...</td>\n",
       "      <td>...</td>\n",
       "      <td>...</td>\n",
       "      <td>...</td>\n",
       "      <td>...</td>\n",
       "      <td>...</td>\n",
       "      <td>...</td>\n",
       "    </tr>\n",
       "    <tr>\n",
       "      <th>1110</th>\n",
       "      <td>1111</td>\n",
       "      <td>a</td>\n",
       "      <td>a</td>\n",
       "      <td>1900.0</td>\n",
       "      <td>6.0</td>\n",
       "      <td>2014.0</td>\n",
       "      <td>1</td>\n",
       "      <td>31.0</td>\n",
       "      <td>2013.0</td>\n",
       "      <td>Jan,Apr,Jul,Oct</td>\n",
       "    </tr>\n",
       "    <tr>\n",
       "      <th>1111</th>\n",
       "      <td>1112</td>\n",
       "      <td>c</td>\n",
       "      <td>c</td>\n",
       "      <td>1880.0</td>\n",
       "      <td>4.0</td>\n",
       "      <td>2006.0</td>\n",
       "      <td>0</td>\n",
       "      <td>NaN</td>\n",
       "      <td>NaN</td>\n",
       "      <td>NaN</td>\n",
       "    </tr>\n",
       "    <tr>\n",
       "      <th>1112</th>\n",
       "      <td>1113</td>\n",
       "      <td>a</td>\n",
       "      <td>c</td>\n",
       "      <td>9260.0</td>\n",
       "      <td>NaN</td>\n",
       "      <td>NaN</td>\n",
       "      <td>0</td>\n",
       "      <td>NaN</td>\n",
       "      <td>NaN</td>\n",
       "      <td>NaN</td>\n",
       "    </tr>\n",
       "    <tr>\n",
       "      <th>1113</th>\n",
       "      <td>1114</td>\n",
       "      <td>a</td>\n",
       "      <td>c</td>\n",
       "      <td>870.0</td>\n",
       "      <td>NaN</td>\n",
       "      <td>NaN</td>\n",
       "      <td>0</td>\n",
       "      <td>NaN</td>\n",
       "      <td>NaN</td>\n",
       "      <td>NaN</td>\n",
       "    </tr>\n",
       "    <tr>\n",
       "      <th>1114</th>\n",
       "      <td>1115</td>\n",
       "      <td>d</td>\n",
       "      <td>c</td>\n",
       "      <td>5350.0</td>\n",
       "      <td>NaN</td>\n",
       "      <td>NaN</td>\n",
       "      <td>1</td>\n",
       "      <td>22.0</td>\n",
       "      <td>2012.0</td>\n",
       "      <td>Mar,Jun,Sept,Dec</td>\n",
       "    </tr>\n",
       "  </tbody>\n",
       "</table>\n",
       "<p>1115 rows × 10 columns</p>\n",
       "</div>"
      ],
      "text/plain": [
       "      Store StoreType Assortment  CompetitionDistance  \\\n",
       "0         1         c          a               1270.0   \n",
       "1         2         a          a                570.0   \n",
       "2         3         a          a              14130.0   \n",
       "3         4         c          c                620.0   \n",
       "4         5         a          a              29910.0   \n",
       "...     ...       ...        ...                  ...   \n",
       "1110   1111         a          a               1900.0   \n",
       "1111   1112         c          c               1880.0   \n",
       "1112   1113         a          c               9260.0   \n",
       "1113   1114         a          c                870.0   \n",
       "1114   1115         d          c               5350.0   \n",
       "\n",
       "      CompetitionOpenSinceMonth  CompetitionOpenSinceYear  Promo2  \\\n",
       "0                           9.0                    2008.0       0   \n",
       "1                          11.0                    2007.0       1   \n",
       "2                          12.0                    2006.0       1   \n",
       "3                           9.0                    2009.0       0   \n",
       "4                           4.0                    2015.0       0   \n",
       "...                         ...                       ...     ...   \n",
       "1110                        6.0                    2014.0       1   \n",
       "1111                        4.0                    2006.0       0   \n",
       "1112                        NaN                       NaN       0   \n",
       "1113                        NaN                       NaN       0   \n",
       "1114                        NaN                       NaN       1   \n",
       "\n",
       "      Promo2SinceWeek  Promo2SinceYear     PromoInterval  \n",
       "0                 NaN              NaN               NaN  \n",
       "1                13.0           2010.0   Jan,Apr,Jul,Oct  \n",
       "2                14.0           2011.0   Jan,Apr,Jul,Oct  \n",
       "3                 NaN              NaN               NaN  \n",
       "4                 NaN              NaN               NaN  \n",
       "...               ...              ...               ...  \n",
       "1110             31.0           2013.0   Jan,Apr,Jul,Oct  \n",
       "1111              NaN              NaN               NaN  \n",
       "1112              NaN              NaN               NaN  \n",
       "1113              NaN              NaN               NaN  \n",
       "1114             22.0           2012.0  Mar,Jun,Sept,Dec  \n",
       "\n",
       "[1115 rows x 10 columns]"
      ]
     },
     "execution_count": 4,
     "metadata": {},
     "output_type": "execute_result"
    }
   ],
   "source": [
    "store_df"
   ]
  },
  {
   "cell_type": "markdown",
   "id": "49df9bf2",
   "metadata": {},
   "source": [
    "## Data preprocessing"
   ]
  },
  {
   "cell_type": "markdown",
   "id": "a0890bad-b870-46ea-a382-5db6e7709293",
   "metadata": {},
   "source": [
    "#### Checking any problems with the data"
   ]
  },
  {
   "cell_type": "code",
   "execution_count": 5,
   "id": "e6e1a393",
   "metadata": {},
   "outputs": [
    {
     "data": {
      "text/plain": [
       "array(['0', 'a', 'b', 'c', 0], dtype=object)"
      ]
     },
     "execution_count": 5,
     "metadata": {},
     "output_type": "execute_result"
    }
   ],
   "source": [
    "train_df.StateHoliday.unique()"
   ]
  },
  {
   "cell_type": "markdown",
   "id": "0e9eba66-212b-488f-9070-7281ba02d03d",
   "metadata": {},
   "source": [
    "The value 0 occurs in two data types"
   ]
  },
  {
   "cell_type": "code",
   "execution_count": 6,
   "id": "8e44f48e",
   "metadata": {},
   "outputs": [
    {
     "data": {
      "text/plain": [
       "Store            0\n",
       "DayOfWeek        0\n",
       "Date             0\n",
       "Sales            0\n",
       "Customers        0\n",
       "Open             0\n",
       "Promo            0\n",
       "StateHoliday     0\n",
       "SchoolHoliday    0\n",
       "dtype: int64"
      ]
     },
     "execution_count": 6,
     "metadata": {},
     "output_type": "execute_result"
    }
   ],
   "source": [
    "train_df.isnull().sum()"
   ]
  },
  {
   "cell_type": "code",
   "execution_count": 7,
   "id": "45ccca0c",
   "metadata": {},
   "outputs": [],
   "source": [
    "def one_hot_encode(df, column_name):\n",
    "    one_hot_df = pd.get_dummies(df[column_name], prefix=column_name+\"_\", drop_first=False, dtype=int)\n",
    "    new_cols = df.columns.drop(column_name)\n",
    "    new_df = pd.concat([df[new_cols], one_hot_df], axis=1)\n",
    "    return new_df\n",
    "\n",
    "def preprocess_data(df):\n",
    "    df['Date'] = pd.to_datetime(df['Date'])\n",
    "    df.loc[df['StateHoliday'] == 0, 'StateHoliday'] = '0'\n",
    "    df = one_hot_encode(df, 'StateHoliday')\n",
    "    df = df.iloc[::-1].reset_index(drop=True)\n",
    "    \n",
    "    return df\n",
    "    "
   ]
  },
  {
   "cell_type": "code",
   "execution_count": 8,
   "id": "21987bb9",
   "metadata": {},
   "outputs": [
    {
     "data": {
      "text/html": [
       "<div>\n",
       "<style scoped>\n",
       "    .dataframe tbody tr th:only-of-type {\n",
       "        vertical-align: middle;\n",
       "    }\n",
       "\n",
       "    .dataframe tbody tr th {\n",
       "        vertical-align: top;\n",
       "    }\n",
       "\n",
       "    .dataframe thead th {\n",
       "        text-align: right;\n",
       "    }\n",
       "</style>\n",
       "<table border=\"1\" class=\"dataframe\">\n",
       "  <thead>\n",
       "    <tr style=\"text-align: right;\">\n",
       "      <th></th>\n",
       "      <th>Store</th>\n",
       "      <th>DayOfWeek</th>\n",
       "      <th>Date</th>\n",
       "      <th>Sales</th>\n",
       "      <th>Customers</th>\n",
       "      <th>Open</th>\n",
       "      <th>Promo</th>\n",
       "      <th>SchoolHoliday</th>\n",
       "      <th>StateHoliday__0</th>\n",
       "      <th>StateHoliday__a</th>\n",
       "      <th>StateHoliday__b</th>\n",
       "      <th>StateHoliday__c</th>\n",
       "    </tr>\n",
       "  </thead>\n",
       "  <tbody>\n",
       "    <tr>\n",
       "      <th>0</th>\n",
       "      <td>1115</td>\n",
       "      <td>2</td>\n",
       "      <td>2013-01-01</td>\n",
       "      <td>0</td>\n",
       "      <td>0</td>\n",
       "      <td>0</td>\n",
       "      <td>0</td>\n",
       "      <td>1</td>\n",
       "      <td>0</td>\n",
       "      <td>1</td>\n",
       "      <td>0</td>\n",
       "      <td>0</td>\n",
       "    </tr>\n",
       "    <tr>\n",
       "      <th>1</th>\n",
       "      <td>1114</td>\n",
       "      <td>2</td>\n",
       "      <td>2013-01-01</td>\n",
       "      <td>0</td>\n",
       "      <td>0</td>\n",
       "      <td>0</td>\n",
       "      <td>0</td>\n",
       "      <td>1</td>\n",
       "      <td>0</td>\n",
       "      <td>1</td>\n",
       "      <td>0</td>\n",
       "      <td>0</td>\n",
       "    </tr>\n",
       "    <tr>\n",
       "      <th>2</th>\n",
       "      <td>1113</td>\n",
       "      <td>2</td>\n",
       "      <td>2013-01-01</td>\n",
       "      <td>0</td>\n",
       "      <td>0</td>\n",
       "      <td>0</td>\n",
       "      <td>0</td>\n",
       "      <td>1</td>\n",
       "      <td>0</td>\n",
       "      <td>1</td>\n",
       "      <td>0</td>\n",
       "      <td>0</td>\n",
       "    </tr>\n",
       "    <tr>\n",
       "      <th>3</th>\n",
       "      <td>1112</td>\n",
       "      <td>2</td>\n",
       "      <td>2013-01-01</td>\n",
       "      <td>0</td>\n",
       "      <td>0</td>\n",
       "      <td>0</td>\n",
       "      <td>0</td>\n",
       "      <td>1</td>\n",
       "      <td>0</td>\n",
       "      <td>1</td>\n",
       "      <td>0</td>\n",
       "      <td>0</td>\n",
       "    </tr>\n",
       "    <tr>\n",
       "      <th>4</th>\n",
       "      <td>1111</td>\n",
       "      <td>2</td>\n",
       "      <td>2013-01-01</td>\n",
       "      <td>0</td>\n",
       "      <td>0</td>\n",
       "      <td>0</td>\n",
       "      <td>0</td>\n",
       "      <td>1</td>\n",
       "      <td>0</td>\n",
       "      <td>1</td>\n",
       "      <td>0</td>\n",
       "      <td>0</td>\n",
       "    </tr>\n",
       "  </tbody>\n",
       "</table>\n",
       "</div>"
      ],
      "text/plain": [
       "   Store  DayOfWeek       Date  Sales  Customers  Open  Promo  SchoolHoliday  \\\n",
       "0   1115          2 2013-01-01      0          0     0      0              1   \n",
       "1   1114          2 2013-01-01      0          0     0      0              1   \n",
       "2   1113          2 2013-01-01      0          0     0      0              1   \n",
       "3   1112          2 2013-01-01      0          0     0      0              1   \n",
       "4   1111          2 2013-01-01      0          0     0      0              1   \n",
       "\n",
       "   StateHoliday__0  StateHoliday__a  StateHoliday__b  StateHoliday__c  \n",
       "0                0                1                0                0  \n",
       "1                0                1                0                0  \n",
       "2                0                1                0                0  \n",
       "3                0                1                0                0  \n",
       "4                0                1                0                0  "
      ]
     },
     "execution_count": 8,
     "metadata": {},
     "output_type": "execute_result"
    }
   ],
   "source": [
    "train_df = preprocess_data(train_df)\n",
    "train_df.head()"
   ]
  },
  {
   "cell_type": "code",
   "execution_count": 9,
   "id": "221173ee",
   "metadata": {},
   "outputs": [
    {
     "data": {
      "text/html": [
       "<div>\n",
       "<style scoped>\n",
       "    .dataframe tbody tr th:only-of-type {\n",
       "        vertical-align: middle;\n",
       "    }\n",
       "\n",
       "    .dataframe tbody tr th {\n",
       "        vertical-align: top;\n",
       "    }\n",
       "\n",
       "    .dataframe thead th {\n",
       "        text-align: right;\n",
       "    }\n",
       "</style>\n",
       "<table border=\"1\" class=\"dataframe\">\n",
       "  <thead>\n",
       "    <tr style=\"text-align: right;\">\n",
       "      <th></th>\n",
       "      <th>Id</th>\n",
       "      <th>Store</th>\n",
       "      <th>DayOfWeek</th>\n",
       "      <th>Date</th>\n",
       "      <th>Open</th>\n",
       "      <th>Promo</th>\n",
       "      <th>SchoolHoliday</th>\n",
       "      <th>StateHoliday__0</th>\n",
       "      <th>StateHoliday__a</th>\n",
       "    </tr>\n",
       "  </thead>\n",
       "  <tbody>\n",
       "    <tr>\n",
       "      <th>0</th>\n",
       "      <td>41088</td>\n",
       "      <td>1115</td>\n",
       "      <td>6</td>\n",
       "      <td>2015-08-01</td>\n",
       "      <td>1.0</td>\n",
       "      <td>0</td>\n",
       "      <td>1</td>\n",
       "      <td>1</td>\n",
       "      <td>0</td>\n",
       "    </tr>\n",
       "    <tr>\n",
       "      <th>1</th>\n",
       "      <td>41087</td>\n",
       "      <td>1114</td>\n",
       "      <td>6</td>\n",
       "      <td>2015-08-01</td>\n",
       "      <td>1.0</td>\n",
       "      <td>0</td>\n",
       "      <td>0</td>\n",
       "      <td>1</td>\n",
       "      <td>0</td>\n",
       "    </tr>\n",
       "    <tr>\n",
       "      <th>2</th>\n",
       "      <td>41086</td>\n",
       "      <td>1113</td>\n",
       "      <td>6</td>\n",
       "      <td>2015-08-01</td>\n",
       "      <td>1.0</td>\n",
       "      <td>0</td>\n",
       "      <td>0</td>\n",
       "      <td>1</td>\n",
       "      <td>0</td>\n",
       "    </tr>\n",
       "    <tr>\n",
       "      <th>3</th>\n",
       "      <td>41085</td>\n",
       "      <td>1112</td>\n",
       "      <td>6</td>\n",
       "      <td>2015-08-01</td>\n",
       "      <td>1.0</td>\n",
       "      <td>0</td>\n",
       "      <td>0</td>\n",
       "      <td>1</td>\n",
       "      <td>0</td>\n",
       "    </tr>\n",
       "    <tr>\n",
       "      <th>4</th>\n",
       "      <td>41084</td>\n",
       "      <td>1111</td>\n",
       "      <td>6</td>\n",
       "      <td>2015-08-01</td>\n",
       "      <td>1.0</td>\n",
       "      <td>0</td>\n",
       "      <td>0</td>\n",
       "      <td>1</td>\n",
       "      <td>0</td>\n",
       "    </tr>\n",
       "  </tbody>\n",
       "</table>\n",
       "</div>"
      ],
      "text/plain": [
       "      Id  Store  DayOfWeek       Date  Open  Promo  SchoolHoliday  \\\n",
       "0  41088   1115          6 2015-08-01   1.0      0              1   \n",
       "1  41087   1114          6 2015-08-01   1.0      0              0   \n",
       "2  41086   1113          6 2015-08-01   1.0      0              0   \n",
       "3  41085   1112          6 2015-08-01   1.0      0              0   \n",
       "4  41084   1111          6 2015-08-01   1.0      0              0   \n",
       "\n",
       "   StateHoliday__0  StateHoliday__a  \n",
       "0                1                0  \n",
       "1                1                0  \n",
       "2                1                0  \n",
       "3                1                0  \n",
       "4                1                0  "
      ]
     },
     "execution_count": 9,
     "metadata": {},
     "output_type": "execute_result"
    }
   ],
   "source": [
    "test_df = preprocess_data(test_df)\n",
    "test_df.head()"
   ]
  },
  {
   "cell_type": "markdown",
   "id": "6c13cd9d-4b69-4986-a2ee-3307585c8aa4",
   "metadata": {},
   "source": [
    "## Exploring the data"
   ]
  },
  {
   "cell_type": "code",
   "execution_count": 10,
   "id": "39687ea9",
   "metadata": {},
   "outputs": [
    {
     "data": {
      "text/html": [
       "<div>\n",
       "<style scoped>\n",
       "    .dataframe tbody tr th:only-of-type {\n",
       "        vertical-align: middle;\n",
       "    }\n",
       "\n",
       "    .dataframe tbody tr th {\n",
       "        vertical-align: top;\n",
       "    }\n",
       "\n",
       "    .dataframe thead th {\n",
       "        text-align: right;\n",
       "    }\n",
       "</style>\n",
       "<table border=\"1\" class=\"dataframe\">\n",
       "  <thead>\n",
       "    <tr style=\"text-align: right;\">\n",
       "      <th></th>\n",
       "      <th>DayOfWeek</th>\n",
       "      <th>Date</th>\n",
       "      <th>Sales</th>\n",
       "      <th>Customers</th>\n",
       "      <th>Open</th>\n",
       "      <th>Promo</th>\n",
       "      <th>SchoolHoliday</th>\n",
       "      <th>StateHoliday__0</th>\n",
       "      <th>StateHoliday__a</th>\n",
       "      <th>StateHoliday__b</th>\n",
       "      <th>StateHoliday__c</th>\n",
       "    </tr>\n",
       "  </thead>\n",
       "  <tbody>\n",
       "    <tr>\n",
       "      <th>DayOfWeek</th>\n",
       "      <td>1.000000</td>\n",
       "      <td>0.000183</td>\n",
       "      <td>-0.462125</td>\n",
       "      <td>-0.386445</td>\n",
       "      <td>-0.528963</td>\n",
       "      <td>-0.392925</td>\n",
       "      <td>-0.205388</td>\n",
       "      <td>0.052889</td>\n",
       "      <td>-0.040981</td>\n",
       "      <td>-0.040668</td>\n",
       "      <td>-0.001345</td>\n",
       "    </tr>\n",
       "    <tr>\n",
       "      <th>Date</th>\n",
       "      <td>0.000183</td>\n",
       "      <td>1.000000</td>\n",
       "      <td>0.041904</td>\n",
       "      <td>0.012679</td>\n",
       "      <td>-0.000157</td>\n",
       "      <td>0.017249</td>\n",
       "      <td>0.001068</td>\n",
       "      <td>-0.003736</td>\n",
       "      <td>-0.001144</td>\n",
       "      <td>-0.000957</td>\n",
       "      <td>0.013887</td>\n",
       "    </tr>\n",
       "    <tr>\n",
       "      <th>Sales</th>\n",
       "      <td>-0.462125</td>\n",
       "      <td>0.041904</td>\n",
       "      <td>1.000000</td>\n",
       "      <td>0.894711</td>\n",
       "      <td>0.678472</td>\n",
       "      <td>0.452345</td>\n",
       "      <td>0.085124</td>\n",
       "      <td>0.254216</td>\n",
       "      <td>-0.203028</td>\n",
       "      <td>-0.117497</td>\n",
       "      <td>-0.092618</td>\n",
       "    </tr>\n",
       "    <tr>\n",
       "      <th>Customers</th>\n",
       "      <td>-0.386445</td>\n",
       "      <td>0.012679</td>\n",
       "      <td>0.894711</td>\n",
       "      <td>1.000000</td>\n",
       "      <td>0.616768</td>\n",
       "      <td>0.316169</td>\n",
       "      <td>0.071568</td>\n",
       "      <td>0.226608</td>\n",
       "      <td>-0.180900</td>\n",
       "      <td>-0.104522</td>\n",
       "      <td>-0.083007</td>\n",
       "    </tr>\n",
       "    <tr>\n",
       "      <th>Open</th>\n",
       "      <td>-0.528963</td>\n",
       "      <td>-0.000157</td>\n",
       "      <td>0.678472</td>\n",
       "      <td>0.616768</td>\n",
       "      <td>1.000000</td>\n",
       "      <td>0.295042</td>\n",
       "      <td>0.086171</td>\n",
       "      <td>0.378378</td>\n",
       "      <td>-0.302107</td>\n",
       "      <td>-0.175158</td>\n",
       "      <td>-0.137685</td>\n",
       "    </tr>\n",
       "    <tr>\n",
       "      <th>Promo</th>\n",
       "      <td>-0.392925</td>\n",
       "      <td>0.017249</td>\n",
       "      <td>0.452345</td>\n",
       "      <td>0.316169</td>\n",
       "      <td>0.295042</td>\n",
       "      <td>1.000000</td>\n",
       "      <td>0.067483</td>\n",
       "      <td>0.012353</td>\n",
       "      <td>-0.004034</td>\n",
       "      <td>0.019847</td>\n",
       "      <td>-0.049964</td>\n",
       "    </tr>\n",
       "    <tr>\n",
       "      <th>SchoolHoliday</th>\n",
       "      <td>-0.205388</td>\n",
       "      <td>0.001068</td>\n",
       "      <td>0.085124</td>\n",
       "      <td>0.071568</td>\n",
       "      <td>0.086171</td>\n",
       "      <td>0.067483</td>\n",
       "      <td>1.000000</td>\n",
       "      <td>-0.148651</td>\n",
       "      <td>0.029126</td>\n",
       "      <td>0.159098</td>\n",
       "      <td>0.136405</td>\n",
       "    </tr>\n",
       "    <tr>\n",
       "      <th>StateHoliday__0</th>\n",
       "      <td>0.052889</td>\n",
       "      <td>-0.003736</td>\n",
       "      <td>0.254216</td>\n",
       "      <td>0.226608</td>\n",
       "      <td>0.378378</td>\n",
       "      <td>0.012353</td>\n",
       "      <td>-0.148651</td>\n",
       "      <td>1.000000</td>\n",
       "      <td>-0.803389</td>\n",
       "      <td>-0.458547</td>\n",
       "      <td>-0.358514</td>\n",
       "    </tr>\n",
       "    <tr>\n",
       "      <th>StateHoliday__a</th>\n",
       "      <td>-0.040981</td>\n",
       "      <td>-0.001144</td>\n",
       "      <td>-0.203028</td>\n",
       "      <td>-0.180900</td>\n",
       "      <td>-0.302107</td>\n",
       "      <td>-0.004034</td>\n",
       "      <td>0.029126</td>\n",
       "      <td>-0.803389</td>\n",
       "      <td>1.000000</td>\n",
       "      <td>-0.011599</td>\n",
       "      <td>-0.009069</td>\n",
       "    </tr>\n",
       "    <tr>\n",
       "      <th>StateHoliday__b</th>\n",
       "      <td>-0.040668</td>\n",
       "      <td>-0.000957</td>\n",
       "      <td>-0.117497</td>\n",
       "      <td>-0.104522</td>\n",
       "      <td>-0.175158</td>\n",
       "      <td>0.019847</td>\n",
       "      <td>0.159098</td>\n",
       "      <td>-0.458547</td>\n",
       "      <td>-0.011599</td>\n",
       "      <td>1.000000</td>\n",
       "      <td>-0.005176</td>\n",
       "    </tr>\n",
       "    <tr>\n",
       "      <th>StateHoliday__c</th>\n",
       "      <td>-0.001345</td>\n",
       "      <td>0.013887</td>\n",
       "      <td>-0.092618</td>\n",
       "      <td>-0.083007</td>\n",
       "      <td>-0.137685</td>\n",
       "      <td>-0.049964</td>\n",
       "      <td>0.136405</td>\n",
       "      <td>-0.358514</td>\n",
       "      <td>-0.009069</td>\n",
       "      <td>-0.005176</td>\n",
       "      <td>1.000000</td>\n",
       "    </tr>\n",
       "  </tbody>\n",
       "</table>\n",
       "</div>"
      ],
      "text/plain": [
       "                 DayOfWeek      Date     Sales  Customers      Open     Promo  \\\n",
       "DayOfWeek         1.000000  0.000183 -0.462125  -0.386445 -0.528963 -0.392925   \n",
       "Date              0.000183  1.000000  0.041904   0.012679 -0.000157  0.017249   \n",
       "Sales            -0.462125  0.041904  1.000000   0.894711  0.678472  0.452345   \n",
       "Customers        -0.386445  0.012679  0.894711   1.000000  0.616768  0.316169   \n",
       "Open             -0.528963 -0.000157  0.678472   0.616768  1.000000  0.295042   \n",
       "Promo            -0.392925  0.017249  0.452345   0.316169  0.295042  1.000000   \n",
       "SchoolHoliday    -0.205388  0.001068  0.085124   0.071568  0.086171  0.067483   \n",
       "StateHoliday__0   0.052889 -0.003736  0.254216   0.226608  0.378378  0.012353   \n",
       "StateHoliday__a  -0.040981 -0.001144 -0.203028  -0.180900 -0.302107 -0.004034   \n",
       "StateHoliday__b  -0.040668 -0.000957 -0.117497  -0.104522 -0.175158  0.019847   \n",
       "StateHoliday__c  -0.001345  0.013887 -0.092618  -0.083007 -0.137685 -0.049964   \n",
       "\n",
       "                 SchoolHoliday  StateHoliday__0  StateHoliday__a  \\\n",
       "DayOfWeek            -0.205388         0.052889        -0.040981   \n",
       "Date                  0.001068        -0.003736        -0.001144   \n",
       "Sales                 0.085124         0.254216        -0.203028   \n",
       "Customers             0.071568         0.226608        -0.180900   \n",
       "Open                  0.086171         0.378378        -0.302107   \n",
       "Promo                 0.067483         0.012353        -0.004034   \n",
       "SchoolHoliday         1.000000        -0.148651         0.029126   \n",
       "StateHoliday__0      -0.148651         1.000000        -0.803389   \n",
       "StateHoliday__a       0.029126        -0.803389         1.000000   \n",
       "StateHoliday__b       0.159098        -0.458547        -0.011599   \n",
       "StateHoliday__c       0.136405        -0.358514        -0.009069   \n",
       "\n",
       "                 StateHoliday__b  StateHoliday__c  \n",
       "DayOfWeek              -0.040668        -0.001345  \n",
       "Date                   -0.000957         0.013887  \n",
       "Sales                  -0.117497        -0.092618  \n",
       "Customers              -0.104522        -0.083007  \n",
       "Open                   -0.175158        -0.137685  \n",
       "Promo                   0.019847        -0.049964  \n",
       "SchoolHoliday           0.159098         0.136405  \n",
       "StateHoliday__0        -0.458547        -0.358514  \n",
       "StateHoliday__a        -0.011599        -0.009069  \n",
       "StateHoliday__b         1.000000        -0.005176  \n",
       "StateHoliday__c        -0.005176         1.000000  "
      ]
     },
     "execution_count": 10,
     "metadata": {},
     "output_type": "execute_result"
    }
   ],
   "source": [
    "corr_df = train_df[list(train_df.columns[1:])].corr()\n",
    "corr_df"
   ]
  },
  {
   "cell_type": "code",
   "execution_count": 11,
   "id": "b931a8b4",
   "metadata": {},
   "outputs": [
    {
     "data": {
      "application/vnd.plotly.v1+json": {
       "config": {
        "plotlyServerURL": "https://plot.ly"
       },
       "data": [
        {
         "coloraxis": "coloraxis",
         "hovertemplate": "x: %{x}<br>y: %{y}<br>color: %{z}<extra></extra>",
         "name": "0",
         "type": "heatmap",
         "x": [
          "DayOfWeek",
          "Date",
          "Sales",
          "Customers",
          "Open",
          "Promo",
          "SchoolHoliday",
          "StateHoliday__0",
          "StateHoliday__a",
          "StateHoliday__b",
          "StateHoliday__c"
         ],
         "xaxis": "x",
         "y": [
          "DayOfWeek",
          "Date",
          "Sales",
          "Customers",
          "Open",
          "Promo",
          "SchoolHoliday",
          "StateHoliday__0",
          "StateHoliday__a",
          "StateHoliday__b",
          "StateHoliday__c"
         ],
         "yaxis": "y",
         "z": [
          [
           1,
           0.00018278638135082033,
           -0.4621250232272833,
           -0.38644472139811736,
           -0.5289625424849851,
           -0.3929252863655054,
           -0.2053882508274344,
           0.052888768801430446,
           -0.04098140501548769,
           -0.04066836044625602,
           -0.0013454132176787777
          ],
          [
           0.00018278638135082033,
           1,
           0.041903637334989335,
           0.012678797563089206,
           -0.0001566381364046607,
           0.017248601964369774,
           0.0010683728553859172,
           -0.0037358110312503265,
           -0.001143949215160019,
           -0.0009574772127950164,
           0.013887132794201094
          ],
          [
           -0.4621250232272833,
           0.041903637334989335,
           1,
           0.8947107733016904,
           0.6784723460141665,
           0.4523447198239848,
           0.08512403767585298,
           0.25421582501410667,
           -0.2030279847987807,
           -0.11749650442823438,
           -0.09261768435298134
          ],
          [
           -0.38644472139811736,
           0.012678797563089206,
           0.8947107733016904,
           1,
           0.6167682882434139,
           0.316169476674256,
           0.07156784213311568,
           0.22660757464268233,
           -0.18089957975457926,
           -0.10452242904513272,
           -0.08300669267877318
          ],
          [
           -0.5289625424849851,
           -0.0001566381364046607,
           0.6784723460141665,
           0.6167682882434139,
           1,
           0.2950422588363196,
           0.08617060381965146,
           0.37837795816326475,
           -0.30210678020076115,
           -0.1751578147227663,
           -0.1376850855771298
          ],
          [
           -0.3929252863655054,
           0.017248601964369774,
           0.4523447198239848,
           0.316169476674256,
           0.2950422588363196,
           1,
           0.06748281226680958,
           0.012353083697243403,
           -0.004033888929830519,
           0.019846579693877323,
           -0.04996370323086443
          ],
          [
           -0.2053882508274344,
           0.0010683728553859172,
           0.08512403767585298,
           0.07156784213311568,
           0.08617060381965146,
           0.06748281226680958,
           1,
           -0.1486510165871202,
           0.029125945533783858,
           0.15909772006811576,
           0.13640534580070987
          ],
          [
           0.052888768801430446,
           -0.0037358110312503265,
           0.25421582501410667,
           0.22660757464268233,
           0.37837795816326475,
           0.012353083697243403,
           -0.1486510165871202,
           1,
           -0.8033890692430268,
           -0.4585466089627434,
           -0.358514322859329
          ],
          [
           -0.04098140501548769,
           -0.001143949215160019,
           -0.2030279847987807,
           -0.18089957975457926,
           -0.30210678020076115,
           -0.004033888929830519,
           0.029125945533783858,
           -0.8033890692430268,
           1,
           -0.011599093960936432,
           -0.009068742927993796
          ],
          [
           -0.04066836044625602,
           -0.0009574772127950164,
           -0.11749650442823438,
           -0.10452242904513272,
           -0.1751578147227663,
           0.019846579693877323,
           0.15909772006811576,
           -0.4585466089627434,
           -0.011599093960936432,
           1,
           -0.00517612384383661
          ],
          [
           -0.0013454132176787777,
           0.013887132794201094,
           -0.09261768435298134,
           -0.08300669267877318,
           -0.1376850855771298,
           -0.04996370323086443,
           0.13640534580070987,
           -0.358514322859329,
           -0.009068742927993796,
           -0.00517612384383661,
           1
          ]
         ]
        }
       ],
       "layout": {
        "coloraxis": {
         "colorscale": [
          [
           0,
           "#0d0887"
          ],
          [
           0.1111111111111111,
           "#46039f"
          ],
          [
           0.2222222222222222,
           "#7201a8"
          ],
          [
           0.3333333333333333,
           "#9c179e"
          ],
          [
           0.4444444444444444,
           "#bd3786"
          ],
          [
           0.5555555555555556,
           "#d8576b"
          ],
          [
           0.6666666666666666,
           "#ed7953"
          ],
          [
           0.7777777777777778,
           "#fb9f3a"
          ],
          [
           0.8888888888888888,
           "#fdca26"
          ],
          [
           1,
           "#f0f921"
          ]
         ]
        },
        "margin": {
         "t": 60
        },
        "template": {
         "data": {
          "bar": [
           {
            "error_x": {
             "color": "#2a3f5f"
            },
            "error_y": {
             "color": "#2a3f5f"
            },
            "marker": {
             "line": {
              "color": "#E5ECF6",
              "width": 0.5
             },
             "pattern": {
              "fillmode": "overlay",
              "size": 10,
              "solidity": 0.2
             }
            },
            "type": "bar"
           }
          ],
          "barpolar": [
           {
            "marker": {
             "line": {
              "color": "#E5ECF6",
              "width": 0.5
             },
             "pattern": {
              "fillmode": "overlay",
              "size": 10,
              "solidity": 0.2
             }
            },
            "type": "barpolar"
           }
          ],
          "carpet": [
           {
            "aaxis": {
             "endlinecolor": "#2a3f5f",
             "gridcolor": "white",
             "linecolor": "white",
             "minorgridcolor": "white",
             "startlinecolor": "#2a3f5f"
            },
            "baxis": {
             "endlinecolor": "#2a3f5f",
             "gridcolor": "white",
             "linecolor": "white",
             "minorgridcolor": "white",
             "startlinecolor": "#2a3f5f"
            },
            "type": "carpet"
           }
          ],
          "choropleth": [
           {
            "colorbar": {
             "outlinewidth": 0,
             "ticks": ""
            },
            "type": "choropleth"
           }
          ],
          "contour": [
           {
            "colorbar": {
             "outlinewidth": 0,
             "ticks": ""
            },
            "colorscale": [
             [
              0,
              "#0d0887"
             ],
             [
              0.1111111111111111,
              "#46039f"
             ],
             [
              0.2222222222222222,
              "#7201a8"
             ],
             [
              0.3333333333333333,
              "#9c179e"
             ],
             [
              0.4444444444444444,
              "#bd3786"
             ],
             [
              0.5555555555555556,
              "#d8576b"
             ],
             [
              0.6666666666666666,
              "#ed7953"
             ],
             [
              0.7777777777777778,
              "#fb9f3a"
             ],
             [
              0.8888888888888888,
              "#fdca26"
             ],
             [
              1,
              "#f0f921"
             ]
            ],
            "type": "contour"
           }
          ],
          "contourcarpet": [
           {
            "colorbar": {
             "outlinewidth": 0,
             "ticks": ""
            },
            "type": "contourcarpet"
           }
          ],
          "heatmap": [
           {
            "colorbar": {
             "outlinewidth": 0,
             "ticks": ""
            },
            "colorscale": [
             [
              0,
              "#0d0887"
             ],
             [
              0.1111111111111111,
              "#46039f"
             ],
             [
              0.2222222222222222,
              "#7201a8"
             ],
             [
              0.3333333333333333,
              "#9c179e"
             ],
             [
              0.4444444444444444,
              "#bd3786"
             ],
             [
              0.5555555555555556,
              "#d8576b"
             ],
             [
              0.6666666666666666,
              "#ed7953"
             ],
             [
              0.7777777777777778,
              "#fb9f3a"
             ],
             [
              0.8888888888888888,
              "#fdca26"
             ],
             [
              1,
              "#f0f921"
             ]
            ],
            "type": "heatmap"
           }
          ],
          "heatmapgl": [
           {
            "colorbar": {
             "outlinewidth": 0,
             "ticks": ""
            },
            "colorscale": [
             [
              0,
              "#0d0887"
             ],
             [
              0.1111111111111111,
              "#46039f"
             ],
             [
              0.2222222222222222,
              "#7201a8"
             ],
             [
              0.3333333333333333,
              "#9c179e"
             ],
             [
              0.4444444444444444,
              "#bd3786"
             ],
             [
              0.5555555555555556,
              "#d8576b"
             ],
             [
              0.6666666666666666,
              "#ed7953"
             ],
             [
              0.7777777777777778,
              "#fb9f3a"
             ],
             [
              0.8888888888888888,
              "#fdca26"
             ],
             [
              1,
              "#f0f921"
             ]
            ],
            "type": "heatmapgl"
           }
          ],
          "histogram": [
           {
            "marker": {
             "pattern": {
              "fillmode": "overlay",
              "size": 10,
              "solidity": 0.2
             }
            },
            "type": "histogram"
           }
          ],
          "histogram2d": [
           {
            "colorbar": {
             "outlinewidth": 0,
             "ticks": ""
            },
            "colorscale": [
             [
              0,
              "#0d0887"
             ],
             [
              0.1111111111111111,
              "#46039f"
             ],
             [
              0.2222222222222222,
              "#7201a8"
             ],
             [
              0.3333333333333333,
              "#9c179e"
             ],
             [
              0.4444444444444444,
              "#bd3786"
             ],
             [
              0.5555555555555556,
              "#d8576b"
             ],
             [
              0.6666666666666666,
              "#ed7953"
             ],
             [
              0.7777777777777778,
              "#fb9f3a"
             ],
             [
              0.8888888888888888,
              "#fdca26"
             ],
             [
              1,
              "#f0f921"
             ]
            ],
            "type": "histogram2d"
           }
          ],
          "histogram2dcontour": [
           {
            "colorbar": {
             "outlinewidth": 0,
             "ticks": ""
            },
            "colorscale": [
             [
              0,
              "#0d0887"
             ],
             [
              0.1111111111111111,
              "#46039f"
             ],
             [
              0.2222222222222222,
              "#7201a8"
             ],
             [
              0.3333333333333333,
              "#9c179e"
             ],
             [
              0.4444444444444444,
              "#bd3786"
             ],
             [
              0.5555555555555556,
              "#d8576b"
             ],
             [
              0.6666666666666666,
              "#ed7953"
             ],
             [
              0.7777777777777778,
              "#fb9f3a"
             ],
             [
              0.8888888888888888,
              "#fdca26"
             ],
             [
              1,
              "#f0f921"
             ]
            ],
            "type": "histogram2dcontour"
           }
          ],
          "mesh3d": [
           {
            "colorbar": {
             "outlinewidth": 0,
             "ticks": ""
            },
            "type": "mesh3d"
           }
          ],
          "parcoords": [
           {
            "line": {
             "colorbar": {
              "outlinewidth": 0,
              "ticks": ""
             }
            },
            "type": "parcoords"
           }
          ],
          "pie": [
           {
            "automargin": true,
            "type": "pie"
           }
          ],
          "scatter": [
           {
            "fillpattern": {
             "fillmode": "overlay",
             "size": 10,
             "solidity": 0.2
            },
            "type": "scatter"
           }
          ],
          "scatter3d": [
           {
            "line": {
             "colorbar": {
              "outlinewidth": 0,
              "ticks": ""
             }
            },
            "marker": {
             "colorbar": {
              "outlinewidth": 0,
              "ticks": ""
             }
            },
            "type": "scatter3d"
           }
          ],
          "scattercarpet": [
           {
            "marker": {
             "colorbar": {
              "outlinewidth": 0,
              "ticks": ""
             }
            },
            "type": "scattercarpet"
           }
          ],
          "scattergeo": [
           {
            "marker": {
             "colorbar": {
              "outlinewidth": 0,
              "ticks": ""
             }
            },
            "type": "scattergeo"
           }
          ],
          "scattergl": [
           {
            "marker": {
             "colorbar": {
              "outlinewidth": 0,
              "ticks": ""
             }
            },
            "type": "scattergl"
           }
          ],
          "scattermapbox": [
           {
            "marker": {
             "colorbar": {
              "outlinewidth": 0,
              "ticks": ""
             }
            },
            "type": "scattermapbox"
           }
          ],
          "scatterpolar": [
           {
            "marker": {
             "colorbar": {
              "outlinewidth": 0,
              "ticks": ""
             }
            },
            "type": "scatterpolar"
           }
          ],
          "scatterpolargl": [
           {
            "marker": {
             "colorbar": {
              "outlinewidth": 0,
              "ticks": ""
             }
            },
            "type": "scatterpolargl"
           }
          ],
          "scatterternary": [
           {
            "marker": {
             "colorbar": {
              "outlinewidth": 0,
              "ticks": ""
             }
            },
            "type": "scatterternary"
           }
          ],
          "surface": [
           {
            "colorbar": {
             "outlinewidth": 0,
             "ticks": ""
            },
            "colorscale": [
             [
              0,
              "#0d0887"
             ],
             [
              0.1111111111111111,
              "#46039f"
             ],
             [
              0.2222222222222222,
              "#7201a8"
             ],
             [
              0.3333333333333333,
              "#9c179e"
             ],
             [
              0.4444444444444444,
              "#bd3786"
             ],
             [
              0.5555555555555556,
              "#d8576b"
             ],
             [
              0.6666666666666666,
              "#ed7953"
             ],
             [
              0.7777777777777778,
              "#fb9f3a"
             ],
             [
              0.8888888888888888,
              "#fdca26"
             ],
             [
              1,
              "#f0f921"
             ]
            ],
            "type": "surface"
           }
          ],
          "table": [
           {
            "cells": {
             "fill": {
              "color": "#EBF0F8"
             },
             "line": {
              "color": "white"
             }
            },
            "header": {
             "fill": {
              "color": "#C8D4E3"
             },
             "line": {
              "color": "white"
             }
            },
            "type": "table"
           }
          ]
         },
         "layout": {
          "annotationdefaults": {
           "arrowcolor": "#2a3f5f",
           "arrowhead": 0,
           "arrowwidth": 1
          },
          "autotypenumbers": "strict",
          "coloraxis": {
           "colorbar": {
            "outlinewidth": 0,
            "ticks": ""
           }
          },
          "colorscale": {
           "diverging": [
            [
             0,
             "#8e0152"
            ],
            [
             0.1,
             "#c51b7d"
            ],
            [
             0.2,
             "#de77ae"
            ],
            [
             0.3,
             "#f1b6da"
            ],
            [
             0.4,
             "#fde0ef"
            ],
            [
             0.5,
             "#f7f7f7"
            ],
            [
             0.6,
             "#e6f5d0"
            ],
            [
             0.7,
             "#b8e186"
            ],
            [
             0.8,
             "#7fbc41"
            ],
            [
             0.9,
             "#4d9221"
            ],
            [
             1,
             "#276419"
            ]
           ],
           "sequential": [
            [
             0,
             "#0d0887"
            ],
            [
             0.1111111111111111,
             "#46039f"
            ],
            [
             0.2222222222222222,
             "#7201a8"
            ],
            [
             0.3333333333333333,
             "#9c179e"
            ],
            [
             0.4444444444444444,
             "#bd3786"
            ],
            [
             0.5555555555555556,
             "#d8576b"
            ],
            [
             0.6666666666666666,
             "#ed7953"
            ],
            [
             0.7777777777777778,
             "#fb9f3a"
            ],
            [
             0.8888888888888888,
             "#fdca26"
            ],
            [
             1,
             "#f0f921"
            ]
           ],
           "sequentialminus": [
            [
             0,
             "#0d0887"
            ],
            [
             0.1111111111111111,
             "#46039f"
            ],
            [
             0.2222222222222222,
             "#7201a8"
            ],
            [
             0.3333333333333333,
             "#9c179e"
            ],
            [
             0.4444444444444444,
             "#bd3786"
            ],
            [
             0.5555555555555556,
             "#d8576b"
            ],
            [
             0.6666666666666666,
             "#ed7953"
            ],
            [
             0.7777777777777778,
             "#fb9f3a"
            ],
            [
             0.8888888888888888,
             "#fdca26"
            ],
            [
             1,
             "#f0f921"
            ]
           ]
          },
          "colorway": [
           "#636efa",
           "#EF553B",
           "#00cc96",
           "#ab63fa",
           "#FFA15A",
           "#19d3f3",
           "#FF6692",
           "#B6E880",
           "#FF97FF",
           "#FECB52"
          ],
          "font": {
           "color": "#2a3f5f"
          },
          "geo": {
           "bgcolor": "white",
           "lakecolor": "white",
           "landcolor": "#E5ECF6",
           "showlakes": true,
           "showland": true,
           "subunitcolor": "white"
          },
          "hoverlabel": {
           "align": "left"
          },
          "hovermode": "closest",
          "mapbox": {
           "style": "light"
          },
          "paper_bgcolor": "white",
          "plot_bgcolor": "#E5ECF6",
          "polar": {
           "angularaxis": {
            "gridcolor": "white",
            "linecolor": "white",
            "ticks": ""
           },
           "bgcolor": "#E5ECF6",
           "radialaxis": {
            "gridcolor": "white",
            "linecolor": "white",
            "ticks": ""
           }
          },
          "scene": {
           "xaxis": {
            "backgroundcolor": "#E5ECF6",
            "gridcolor": "white",
            "gridwidth": 2,
            "linecolor": "white",
            "showbackground": true,
            "ticks": "",
            "zerolinecolor": "white"
           },
           "yaxis": {
            "backgroundcolor": "#E5ECF6",
            "gridcolor": "white",
            "gridwidth": 2,
            "linecolor": "white",
            "showbackground": true,
            "ticks": "",
            "zerolinecolor": "white"
           },
           "zaxis": {
            "backgroundcolor": "#E5ECF6",
            "gridcolor": "white",
            "gridwidth": 2,
            "linecolor": "white",
            "showbackground": true,
            "ticks": "",
            "zerolinecolor": "white"
           }
          },
          "shapedefaults": {
           "line": {
            "color": "#2a3f5f"
           }
          },
          "ternary": {
           "aaxis": {
            "gridcolor": "white",
            "linecolor": "white",
            "ticks": ""
           },
           "baxis": {
            "gridcolor": "white",
            "linecolor": "white",
            "ticks": ""
           },
           "bgcolor": "#E5ECF6",
           "caxis": {
            "gridcolor": "white",
            "linecolor": "white",
            "ticks": ""
           }
          },
          "title": {
           "x": 0.05
          },
          "xaxis": {
           "automargin": true,
           "gridcolor": "white",
           "linecolor": "white",
           "ticks": "",
           "title": {
            "standoff": 15
           },
           "zerolinecolor": "white",
           "zerolinewidth": 2
          },
          "yaxis": {
           "automargin": true,
           "gridcolor": "white",
           "linecolor": "white",
           "ticks": "",
           "title": {
            "standoff": 15
           },
           "zerolinecolor": "white",
           "zerolinewidth": 2
          }
         }
        },
        "xaxis": {
         "anchor": "y",
         "constrain": "domain",
         "domain": [
          0,
          1
         ],
         "scaleanchor": "y"
        },
        "yaxis": {
         "anchor": "x",
         "autorange": "reversed",
         "constrain": "domain",
         "domain": [
          0,
          1
         ]
        }
       }
      }
     },
     "metadata": {},
     "output_type": "display_data"
    }
   ],
   "source": [
    "fig = px.imshow(corr_df)\n",
    "fig.show()"
   ]
  },
  {
   "cell_type": "markdown",
   "id": "1b977bf0-96e0-4bdf-ba1e-5071f301c45f",
   "metadata": {},
   "source": [
    "Customers and Open columns are strongly correlated with Sales"
   ]
  },
  {
   "cell_type": "markdown",
   "id": "20fe0c81",
   "metadata": {},
   "source": [
    "#### Looking at the data of a random store"
   ]
  },
  {
   "cell_type": "code",
   "execution_count": 12,
   "id": "01f7a595",
   "metadata": {},
   "outputs": [
    {
     "data": {
      "text/html": [
       "<div>\n",
       "<style scoped>\n",
       "    .dataframe tbody tr th:only-of-type {\n",
       "        vertical-align: middle;\n",
       "    }\n",
       "\n",
       "    .dataframe tbody tr th {\n",
       "        vertical-align: top;\n",
       "    }\n",
       "\n",
       "    .dataframe thead th {\n",
       "        text-align: right;\n",
       "    }\n",
       "</style>\n",
       "<table border=\"1\" class=\"dataframe\">\n",
       "  <thead>\n",
       "    <tr style=\"text-align: right;\">\n",
       "      <th></th>\n",
       "      <th>Store</th>\n",
       "      <th>DayOfWeek</th>\n",
       "      <th>Date</th>\n",
       "      <th>Sales</th>\n",
       "      <th>Customers</th>\n",
       "      <th>Open</th>\n",
       "      <th>Promo</th>\n",
       "      <th>SchoolHoliday</th>\n",
       "      <th>StateHoliday__0</th>\n",
       "      <th>StateHoliday__a</th>\n",
       "      <th>StateHoliday__b</th>\n",
       "      <th>StateHoliday__c</th>\n",
       "    </tr>\n",
       "  </thead>\n",
       "  <tbody>\n",
       "    <tr>\n",
       "      <th>104</th>\n",
       "      <td>1011</td>\n",
       "      <td>2</td>\n",
       "      <td>2013-01-01</td>\n",
       "      <td>0</td>\n",
       "      <td>0</td>\n",
       "      <td>0</td>\n",
       "      <td>0</td>\n",
       "      <td>1</td>\n",
       "      <td>0</td>\n",
       "      <td>1</td>\n",
       "      <td>0</td>\n",
       "      <td>0</td>\n",
       "    </tr>\n",
       "    <tr>\n",
       "      <th>1218</th>\n",
       "      <td>1011</td>\n",
       "      <td>3</td>\n",
       "      <td>2013-01-02</td>\n",
       "      <td>7049</td>\n",
       "      <td>900</td>\n",
       "      <td>1</td>\n",
       "      <td>0</td>\n",
       "      <td>1</td>\n",
       "      <td>1</td>\n",
       "      <td>0</td>\n",
       "      <td>0</td>\n",
       "      <td>0</td>\n",
       "    </tr>\n",
       "    <tr>\n",
       "      <th>2333</th>\n",
       "      <td>1011</td>\n",
       "      <td>4</td>\n",
       "      <td>2013-01-03</td>\n",
       "      <td>6377</td>\n",
       "      <td>802</td>\n",
       "      <td>1</td>\n",
       "      <td>0</td>\n",
       "      <td>1</td>\n",
       "      <td>1</td>\n",
       "      <td>0</td>\n",
       "      <td>0</td>\n",
       "      <td>0</td>\n",
       "    </tr>\n",
       "    <tr>\n",
       "      <th>3448</th>\n",
       "      <td>1011</td>\n",
       "      <td>5</td>\n",
       "      <td>2013-01-04</td>\n",
       "      <td>5981</td>\n",
       "      <td>793</td>\n",
       "      <td>1</td>\n",
       "      <td>0</td>\n",
       "      <td>1</td>\n",
       "      <td>1</td>\n",
       "      <td>0</td>\n",
       "      <td>0</td>\n",
       "      <td>0</td>\n",
       "    </tr>\n",
       "    <tr>\n",
       "      <th>4563</th>\n",
       "      <td>1011</td>\n",
       "      <td>6</td>\n",
       "      <td>2013-01-05</td>\n",
       "      <td>7963</td>\n",
       "      <td>1043</td>\n",
       "      <td>1</td>\n",
       "      <td>0</td>\n",
       "      <td>0</td>\n",
       "      <td>1</td>\n",
       "      <td>0</td>\n",
       "      <td>0</td>\n",
       "      <td>0</td>\n",
       "    </tr>\n",
       "    <tr>\n",
       "      <th>...</th>\n",
       "      <td>...</td>\n",
       "      <td>...</td>\n",
       "      <td>...</td>\n",
       "      <td>...</td>\n",
       "      <td>...</td>\n",
       "      <td>...</td>\n",
       "      <td>...</td>\n",
       "      <td>...</td>\n",
       "      <td>...</td>\n",
       "      <td>...</td>\n",
       "      <td>...</td>\n",
       "      <td>...</td>\n",
       "    </tr>\n",
       "    <tr>\n",
       "      <th>1011738</th>\n",
       "      <td>1011</td>\n",
       "      <td>1</td>\n",
       "      <td>2015-07-27</td>\n",
       "      <td>10066</td>\n",
       "      <td>902</td>\n",
       "      <td>1</td>\n",
       "      <td>1</td>\n",
       "      <td>1</td>\n",
       "      <td>1</td>\n",
       "      <td>0</td>\n",
       "      <td>0</td>\n",
       "      <td>0</td>\n",
       "    </tr>\n",
       "    <tr>\n",
       "      <th>1012853</th>\n",
       "      <td>1011</td>\n",
       "      <td>2</td>\n",
       "      <td>2015-07-28</td>\n",
       "      <td>8673</td>\n",
       "      <td>834</td>\n",
       "      <td>1</td>\n",
       "      <td>1</td>\n",
       "      <td>1</td>\n",
       "      <td>1</td>\n",
       "      <td>0</td>\n",
       "      <td>0</td>\n",
       "      <td>0</td>\n",
       "    </tr>\n",
       "    <tr>\n",
       "      <th>1013968</th>\n",
       "      <td>1011</td>\n",
       "      <td>3</td>\n",
       "      <td>2015-07-29</td>\n",
       "      <td>7755</td>\n",
       "      <td>732</td>\n",
       "      <td>1</td>\n",
       "      <td>1</td>\n",
       "      <td>1</td>\n",
       "      <td>1</td>\n",
       "      <td>0</td>\n",
       "      <td>0</td>\n",
       "      <td>0</td>\n",
       "    </tr>\n",
       "    <tr>\n",
       "      <th>1015083</th>\n",
       "      <td>1011</td>\n",
       "      <td>4</td>\n",
       "      <td>2015-07-30</td>\n",
       "      <td>9227</td>\n",
       "      <td>877</td>\n",
       "      <td>1</td>\n",
       "      <td>1</td>\n",
       "      <td>1</td>\n",
       "      <td>1</td>\n",
       "      <td>0</td>\n",
       "      <td>0</td>\n",
       "      <td>0</td>\n",
       "    </tr>\n",
       "    <tr>\n",
       "      <th>1016198</th>\n",
       "      <td>1011</td>\n",
       "      <td>5</td>\n",
       "      <td>2015-07-31</td>\n",
       "      <td>10134</td>\n",
       "      <td>1021</td>\n",
       "      <td>1</td>\n",
       "      <td>1</td>\n",
       "      <td>1</td>\n",
       "      <td>1</td>\n",
       "      <td>0</td>\n",
       "      <td>0</td>\n",
       "      <td>0</td>\n",
       "    </tr>\n",
       "  </tbody>\n",
       "</table>\n",
       "<p>942 rows × 12 columns</p>\n",
       "</div>"
      ],
      "text/plain": [
       "         Store  DayOfWeek       Date  Sales  Customers  Open  Promo  \\\n",
       "104       1011          2 2013-01-01      0          0     0      0   \n",
       "1218      1011          3 2013-01-02   7049        900     1      0   \n",
       "2333      1011          4 2013-01-03   6377        802     1      0   \n",
       "3448      1011          5 2013-01-04   5981        793     1      0   \n",
       "4563      1011          6 2013-01-05   7963       1043     1      0   \n",
       "...        ...        ...        ...    ...        ...   ...    ...   \n",
       "1011738   1011          1 2015-07-27  10066        902     1      1   \n",
       "1012853   1011          2 2015-07-28   8673        834     1      1   \n",
       "1013968   1011          3 2015-07-29   7755        732     1      1   \n",
       "1015083   1011          4 2015-07-30   9227        877     1      1   \n",
       "1016198   1011          5 2015-07-31  10134       1021     1      1   \n",
       "\n",
       "         SchoolHoliday  StateHoliday__0  StateHoliday__a  StateHoliday__b  \\\n",
       "104                  1                0                1                0   \n",
       "1218                 1                1                0                0   \n",
       "2333                 1                1                0                0   \n",
       "3448                 1                1                0                0   \n",
       "4563                 0                1                0                0   \n",
       "...                ...              ...              ...              ...   \n",
       "1011738              1                1                0                0   \n",
       "1012853              1                1                0                0   \n",
       "1013968              1                1                0                0   \n",
       "1015083              1                1                0                0   \n",
       "1016198              1                1                0                0   \n",
       "\n",
       "         StateHoliday__c  \n",
       "104                    0  \n",
       "1218                   0  \n",
       "2333                   0  \n",
       "3448                   0  \n",
       "4563                   0  \n",
       "...                  ...  \n",
       "1011738                0  \n",
       "1012853                0  \n",
       "1013968                0  \n",
       "1015083                0  \n",
       "1016198                0  \n",
       "\n",
       "[942 rows x 12 columns]"
      ]
     },
     "execution_count": 12,
     "metadata": {},
     "output_type": "execute_result"
    }
   ],
   "source": [
    "df_store_x = train_df[train_df['Store'] == 1011]\n",
    "df_store_x"
   ]
  },
  {
   "cell_type": "code",
   "execution_count": 13,
   "id": "3a33cdbe",
   "metadata": {},
   "outputs": [
    {
     "data": {
      "text/html": [
       "<div>\n",
       "<style scoped>\n",
       "    .dataframe tbody tr th:only-of-type {\n",
       "        vertical-align: middle;\n",
       "    }\n",
       "\n",
       "    .dataframe tbody tr th {\n",
       "        vertical-align: top;\n",
       "    }\n",
       "\n",
       "    .dataframe thead th {\n",
       "        text-align: right;\n",
       "    }\n",
       "</style>\n",
       "<table border=\"1\" class=\"dataframe\">\n",
       "  <thead>\n",
       "    <tr style=\"text-align: right;\">\n",
       "      <th></th>\n",
       "      <th>DayOfWeek</th>\n",
       "      <th>Date</th>\n",
       "      <th>Sales</th>\n",
       "      <th>Customers</th>\n",
       "      <th>Open</th>\n",
       "      <th>Promo</th>\n",
       "      <th>SchoolHoliday</th>\n",
       "      <th>StateHoliday__0</th>\n",
       "      <th>StateHoliday__a</th>\n",
       "      <th>StateHoliday__b</th>\n",
       "      <th>StateHoliday__c</th>\n",
       "    </tr>\n",
       "  </thead>\n",
       "  <tbody>\n",
       "    <tr>\n",
       "      <th>DayOfWeek</th>\n",
       "      <td>1.000000</td>\n",
       "      <td>0.000183</td>\n",
       "      <td>-0.462125</td>\n",
       "      <td>-0.386445</td>\n",
       "      <td>-0.528963</td>\n",
       "      <td>-0.392925</td>\n",
       "      <td>-0.205388</td>\n",
       "      <td>0.052889</td>\n",
       "      <td>-0.040981</td>\n",
       "      <td>-0.040668</td>\n",
       "      <td>-0.001345</td>\n",
       "    </tr>\n",
       "    <tr>\n",
       "      <th>Date</th>\n",
       "      <td>0.000183</td>\n",
       "      <td>1.000000</td>\n",
       "      <td>0.041904</td>\n",
       "      <td>0.012679</td>\n",
       "      <td>-0.000157</td>\n",
       "      <td>0.017249</td>\n",
       "      <td>0.001068</td>\n",
       "      <td>-0.003736</td>\n",
       "      <td>-0.001144</td>\n",
       "      <td>-0.000957</td>\n",
       "      <td>0.013887</td>\n",
       "    </tr>\n",
       "    <tr>\n",
       "      <th>Sales</th>\n",
       "      <td>-0.462125</td>\n",
       "      <td>0.041904</td>\n",
       "      <td>1.000000</td>\n",
       "      <td>0.894711</td>\n",
       "      <td>0.678472</td>\n",
       "      <td>0.452345</td>\n",
       "      <td>0.085124</td>\n",
       "      <td>0.254216</td>\n",
       "      <td>-0.203028</td>\n",
       "      <td>-0.117497</td>\n",
       "      <td>-0.092618</td>\n",
       "    </tr>\n",
       "    <tr>\n",
       "      <th>Customers</th>\n",
       "      <td>-0.386445</td>\n",
       "      <td>0.012679</td>\n",
       "      <td>0.894711</td>\n",
       "      <td>1.000000</td>\n",
       "      <td>0.616768</td>\n",
       "      <td>0.316169</td>\n",
       "      <td>0.071568</td>\n",
       "      <td>0.226608</td>\n",
       "      <td>-0.180900</td>\n",
       "      <td>-0.104522</td>\n",
       "      <td>-0.083007</td>\n",
       "    </tr>\n",
       "    <tr>\n",
       "      <th>Open</th>\n",
       "      <td>-0.528963</td>\n",
       "      <td>-0.000157</td>\n",
       "      <td>0.678472</td>\n",
       "      <td>0.616768</td>\n",
       "      <td>1.000000</td>\n",
       "      <td>0.295042</td>\n",
       "      <td>0.086171</td>\n",
       "      <td>0.378378</td>\n",
       "      <td>-0.302107</td>\n",
       "      <td>-0.175158</td>\n",
       "      <td>-0.137685</td>\n",
       "    </tr>\n",
       "    <tr>\n",
       "      <th>Promo</th>\n",
       "      <td>-0.392925</td>\n",
       "      <td>0.017249</td>\n",
       "      <td>0.452345</td>\n",
       "      <td>0.316169</td>\n",
       "      <td>0.295042</td>\n",
       "      <td>1.000000</td>\n",
       "      <td>0.067483</td>\n",
       "      <td>0.012353</td>\n",
       "      <td>-0.004034</td>\n",
       "      <td>0.019847</td>\n",
       "      <td>-0.049964</td>\n",
       "    </tr>\n",
       "    <tr>\n",
       "      <th>SchoolHoliday</th>\n",
       "      <td>-0.205388</td>\n",
       "      <td>0.001068</td>\n",
       "      <td>0.085124</td>\n",
       "      <td>0.071568</td>\n",
       "      <td>0.086171</td>\n",
       "      <td>0.067483</td>\n",
       "      <td>1.000000</td>\n",
       "      <td>-0.148651</td>\n",
       "      <td>0.029126</td>\n",
       "      <td>0.159098</td>\n",
       "      <td>0.136405</td>\n",
       "    </tr>\n",
       "    <tr>\n",
       "      <th>StateHoliday__0</th>\n",
       "      <td>0.052889</td>\n",
       "      <td>-0.003736</td>\n",
       "      <td>0.254216</td>\n",
       "      <td>0.226608</td>\n",
       "      <td>0.378378</td>\n",
       "      <td>0.012353</td>\n",
       "      <td>-0.148651</td>\n",
       "      <td>1.000000</td>\n",
       "      <td>-0.803389</td>\n",
       "      <td>-0.458547</td>\n",
       "      <td>-0.358514</td>\n",
       "    </tr>\n",
       "    <tr>\n",
       "      <th>StateHoliday__a</th>\n",
       "      <td>-0.040981</td>\n",
       "      <td>-0.001144</td>\n",
       "      <td>-0.203028</td>\n",
       "      <td>-0.180900</td>\n",
       "      <td>-0.302107</td>\n",
       "      <td>-0.004034</td>\n",
       "      <td>0.029126</td>\n",
       "      <td>-0.803389</td>\n",
       "      <td>1.000000</td>\n",
       "      <td>-0.011599</td>\n",
       "      <td>-0.009069</td>\n",
       "    </tr>\n",
       "    <tr>\n",
       "      <th>StateHoliday__b</th>\n",
       "      <td>-0.040668</td>\n",
       "      <td>-0.000957</td>\n",
       "      <td>-0.117497</td>\n",
       "      <td>-0.104522</td>\n",
       "      <td>-0.175158</td>\n",
       "      <td>0.019847</td>\n",
       "      <td>0.159098</td>\n",
       "      <td>-0.458547</td>\n",
       "      <td>-0.011599</td>\n",
       "      <td>1.000000</td>\n",
       "      <td>-0.005176</td>\n",
       "    </tr>\n",
       "    <tr>\n",
       "      <th>StateHoliday__c</th>\n",
       "      <td>-0.001345</td>\n",
       "      <td>0.013887</td>\n",
       "      <td>-0.092618</td>\n",
       "      <td>-0.083007</td>\n",
       "      <td>-0.137685</td>\n",
       "      <td>-0.049964</td>\n",
       "      <td>0.136405</td>\n",
       "      <td>-0.358514</td>\n",
       "      <td>-0.009069</td>\n",
       "      <td>-0.005176</td>\n",
       "      <td>1.000000</td>\n",
       "    </tr>\n",
       "  </tbody>\n",
       "</table>\n",
       "</div>"
      ],
      "text/plain": [
       "                 DayOfWeek      Date     Sales  Customers      Open     Promo  \\\n",
       "DayOfWeek         1.000000  0.000183 -0.462125  -0.386445 -0.528963 -0.392925   \n",
       "Date              0.000183  1.000000  0.041904   0.012679 -0.000157  0.017249   \n",
       "Sales            -0.462125  0.041904  1.000000   0.894711  0.678472  0.452345   \n",
       "Customers        -0.386445  0.012679  0.894711   1.000000  0.616768  0.316169   \n",
       "Open             -0.528963 -0.000157  0.678472   0.616768  1.000000  0.295042   \n",
       "Promo            -0.392925  0.017249  0.452345   0.316169  0.295042  1.000000   \n",
       "SchoolHoliday    -0.205388  0.001068  0.085124   0.071568  0.086171  0.067483   \n",
       "StateHoliday__0   0.052889 -0.003736  0.254216   0.226608  0.378378  0.012353   \n",
       "StateHoliday__a  -0.040981 -0.001144 -0.203028  -0.180900 -0.302107 -0.004034   \n",
       "StateHoliday__b  -0.040668 -0.000957 -0.117497  -0.104522 -0.175158  0.019847   \n",
       "StateHoliday__c  -0.001345  0.013887 -0.092618  -0.083007 -0.137685 -0.049964   \n",
       "\n",
       "                 SchoolHoliday  StateHoliday__0  StateHoliday__a  \\\n",
       "DayOfWeek            -0.205388         0.052889        -0.040981   \n",
       "Date                  0.001068        -0.003736        -0.001144   \n",
       "Sales                 0.085124         0.254216        -0.203028   \n",
       "Customers             0.071568         0.226608        -0.180900   \n",
       "Open                  0.086171         0.378378        -0.302107   \n",
       "Promo                 0.067483         0.012353        -0.004034   \n",
       "SchoolHoliday         1.000000        -0.148651         0.029126   \n",
       "StateHoliday__0      -0.148651         1.000000        -0.803389   \n",
       "StateHoliday__a       0.029126        -0.803389         1.000000   \n",
       "StateHoliday__b       0.159098        -0.458547        -0.011599   \n",
       "StateHoliday__c       0.136405        -0.358514        -0.009069   \n",
       "\n",
       "                 StateHoliday__b  StateHoliday__c  \n",
       "DayOfWeek              -0.040668        -0.001345  \n",
       "Date                   -0.000957         0.013887  \n",
       "Sales                  -0.117497        -0.092618  \n",
       "Customers              -0.104522        -0.083007  \n",
       "Open                   -0.175158        -0.137685  \n",
       "Promo                   0.019847        -0.049964  \n",
       "SchoolHoliday           0.159098         0.136405  \n",
       "StateHoliday__0        -0.458547        -0.358514  \n",
       "StateHoliday__a        -0.011599        -0.009069  \n",
       "StateHoliday__b         1.000000        -0.005176  \n",
       "StateHoliday__c        -0.005176         1.000000  "
      ]
     },
     "execution_count": 13,
     "metadata": {},
     "output_type": "execute_result"
    }
   ],
   "source": [
    "store_corr_df = train_df[list(df_store_x.columns[1:])].corr()\n",
    "store_corr_df"
   ]
  },
  {
   "cell_type": "code",
   "execution_count": 14,
   "id": "273ac4ce",
   "metadata": {},
   "outputs": [
    {
     "data": {
      "application/vnd.plotly.v1+json": {
       "config": {
        "plotlyServerURL": "https://plot.ly"
       },
       "data": [
        {
         "coloraxis": "coloraxis",
         "hovertemplate": "x: %{x}<br>y: %{y}<br>color: %{z}<extra></extra>",
         "name": "0",
         "type": "heatmap",
         "x": [
          "DayOfWeek",
          "Date",
          "Sales",
          "Customers",
          "Open",
          "Promo",
          "SchoolHoliday",
          "StateHoliday__0",
          "StateHoliday__a",
          "StateHoliday__b",
          "StateHoliday__c"
         ],
         "xaxis": "x",
         "y": [
          "DayOfWeek",
          "Date",
          "Sales",
          "Customers",
          "Open",
          "Promo",
          "SchoolHoliday",
          "StateHoliday__0",
          "StateHoliday__a",
          "StateHoliday__b",
          "StateHoliday__c"
         ],
         "yaxis": "y",
         "z": [
          [
           1,
           0.00018278638135082033,
           -0.4621250232272833,
           -0.38644472139811736,
           -0.5289625424849851,
           -0.3929252863655054,
           -0.2053882508274344,
           0.052888768801430446,
           -0.04098140501548769,
           -0.04066836044625602,
           -0.0013454132176787777
          ],
          [
           0.00018278638135082033,
           1,
           0.041903637334989335,
           0.012678797563089206,
           -0.0001566381364046607,
           0.017248601964369774,
           0.0010683728553859172,
           -0.0037358110312503265,
           -0.001143949215160019,
           -0.0009574772127950164,
           0.013887132794201094
          ],
          [
           -0.4621250232272833,
           0.041903637334989335,
           1,
           0.8947107733016904,
           0.6784723460141665,
           0.4523447198239848,
           0.08512403767585298,
           0.25421582501410667,
           -0.2030279847987807,
           -0.11749650442823438,
           -0.09261768435298134
          ],
          [
           -0.38644472139811736,
           0.012678797563089206,
           0.8947107733016904,
           1,
           0.6167682882434139,
           0.316169476674256,
           0.07156784213311568,
           0.22660757464268233,
           -0.18089957975457926,
           -0.10452242904513272,
           -0.08300669267877318
          ],
          [
           -0.5289625424849851,
           -0.0001566381364046607,
           0.6784723460141665,
           0.6167682882434139,
           1,
           0.2950422588363196,
           0.08617060381965146,
           0.37837795816326475,
           -0.30210678020076115,
           -0.1751578147227663,
           -0.1376850855771298
          ],
          [
           -0.3929252863655054,
           0.017248601964369774,
           0.4523447198239848,
           0.316169476674256,
           0.2950422588363196,
           1,
           0.06748281226680958,
           0.012353083697243403,
           -0.004033888929830519,
           0.019846579693877323,
           -0.04996370323086443
          ],
          [
           -0.2053882508274344,
           0.0010683728553859172,
           0.08512403767585298,
           0.07156784213311568,
           0.08617060381965146,
           0.06748281226680958,
           1,
           -0.1486510165871202,
           0.029125945533783858,
           0.15909772006811576,
           0.13640534580070987
          ],
          [
           0.052888768801430446,
           -0.0037358110312503265,
           0.25421582501410667,
           0.22660757464268233,
           0.37837795816326475,
           0.012353083697243403,
           -0.1486510165871202,
           1,
           -0.8033890692430268,
           -0.4585466089627434,
           -0.358514322859329
          ],
          [
           -0.04098140501548769,
           -0.001143949215160019,
           -0.2030279847987807,
           -0.18089957975457926,
           -0.30210678020076115,
           -0.004033888929830519,
           0.029125945533783858,
           -0.8033890692430268,
           1,
           -0.011599093960936432,
           -0.009068742927993796
          ],
          [
           -0.04066836044625602,
           -0.0009574772127950164,
           -0.11749650442823438,
           -0.10452242904513272,
           -0.1751578147227663,
           0.019846579693877323,
           0.15909772006811576,
           -0.4585466089627434,
           -0.011599093960936432,
           1,
           -0.00517612384383661
          ],
          [
           -0.0013454132176787777,
           0.013887132794201094,
           -0.09261768435298134,
           -0.08300669267877318,
           -0.1376850855771298,
           -0.04996370323086443,
           0.13640534580070987,
           -0.358514322859329,
           -0.009068742927993796,
           -0.00517612384383661,
           1
          ]
         ]
        }
       ],
       "layout": {
        "coloraxis": {
         "colorscale": [
          [
           0,
           "#0d0887"
          ],
          [
           0.1111111111111111,
           "#46039f"
          ],
          [
           0.2222222222222222,
           "#7201a8"
          ],
          [
           0.3333333333333333,
           "#9c179e"
          ],
          [
           0.4444444444444444,
           "#bd3786"
          ],
          [
           0.5555555555555556,
           "#d8576b"
          ],
          [
           0.6666666666666666,
           "#ed7953"
          ],
          [
           0.7777777777777778,
           "#fb9f3a"
          ],
          [
           0.8888888888888888,
           "#fdca26"
          ],
          [
           1,
           "#f0f921"
          ]
         ]
        },
        "margin": {
         "t": 60
        },
        "template": {
         "data": {
          "bar": [
           {
            "error_x": {
             "color": "#2a3f5f"
            },
            "error_y": {
             "color": "#2a3f5f"
            },
            "marker": {
             "line": {
              "color": "#E5ECF6",
              "width": 0.5
             },
             "pattern": {
              "fillmode": "overlay",
              "size": 10,
              "solidity": 0.2
             }
            },
            "type": "bar"
           }
          ],
          "barpolar": [
           {
            "marker": {
             "line": {
              "color": "#E5ECF6",
              "width": 0.5
             },
             "pattern": {
              "fillmode": "overlay",
              "size": 10,
              "solidity": 0.2
             }
            },
            "type": "barpolar"
           }
          ],
          "carpet": [
           {
            "aaxis": {
             "endlinecolor": "#2a3f5f",
             "gridcolor": "white",
             "linecolor": "white",
             "minorgridcolor": "white",
             "startlinecolor": "#2a3f5f"
            },
            "baxis": {
             "endlinecolor": "#2a3f5f",
             "gridcolor": "white",
             "linecolor": "white",
             "minorgridcolor": "white",
             "startlinecolor": "#2a3f5f"
            },
            "type": "carpet"
           }
          ],
          "choropleth": [
           {
            "colorbar": {
             "outlinewidth": 0,
             "ticks": ""
            },
            "type": "choropleth"
           }
          ],
          "contour": [
           {
            "colorbar": {
             "outlinewidth": 0,
             "ticks": ""
            },
            "colorscale": [
             [
              0,
              "#0d0887"
             ],
             [
              0.1111111111111111,
              "#46039f"
             ],
             [
              0.2222222222222222,
              "#7201a8"
             ],
             [
              0.3333333333333333,
              "#9c179e"
             ],
             [
              0.4444444444444444,
              "#bd3786"
             ],
             [
              0.5555555555555556,
              "#d8576b"
             ],
             [
              0.6666666666666666,
              "#ed7953"
             ],
             [
              0.7777777777777778,
              "#fb9f3a"
             ],
             [
              0.8888888888888888,
              "#fdca26"
             ],
             [
              1,
              "#f0f921"
             ]
            ],
            "type": "contour"
           }
          ],
          "contourcarpet": [
           {
            "colorbar": {
             "outlinewidth": 0,
             "ticks": ""
            },
            "type": "contourcarpet"
           }
          ],
          "heatmap": [
           {
            "colorbar": {
             "outlinewidth": 0,
             "ticks": ""
            },
            "colorscale": [
             [
              0,
              "#0d0887"
             ],
             [
              0.1111111111111111,
              "#46039f"
             ],
             [
              0.2222222222222222,
              "#7201a8"
             ],
             [
              0.3333333333333333,
              "#9c179e"
             ],
             [
              0.4444444444444444,
              "#bd3786"
             ],
             [
              0.5555555555555556,
              "#d8576b"
             ],
             [
              0.6666666666666666,
              "#ed7953"
             ],
             [
              0.7777777777777778,
              "#fb9f3a"
             ],
             [
              0.8888888888888888,
              "#fdca26"
             ],
             [
              1,
              "#f0f921"
             ]
            ],
            "type": "heatmap"
           }
          ],
          "heatmapgl": [
           {
            "colorbar": {
             "outlinewidth": 0,
             "ticks": ""
            },
            "colorscale": [
             [
              0,
              "#0d0887"
             ],
             [
              0.1111111111111111,
              "#46039f"
             ],
             [
              0.2222222222222222,
              "#7201a8"
             ],
             [
              0.3333333333333333,
              "#9c179e"
             ],
             [
              0.4444444444444444,
              "#bd3786"
             ],
             [
              0.5555555555555556,
              "#d8576b"
             ],
             [
              0.6666666666666666,
              "#ed7953"
             ],
             [
              0.7777777777777778,
              "#fb9f3a"
             ],
             [
              0.8888888888888888,
              "#fdca26"
             ],
             [
              1,
              "#f0f921"
             ]
            ],
            "type": "heatmapgl"
           }
          ],
          "histogram": [
           {
            "marker": {
             "pattern": {
              "fillmode": "overlay",
              "size": 10,
              "solidity": 0.2
             }
            },
            "type": "histogram"
           }
          ],
          "histogram2d": [
           {
            "colorbar": {
             "outlinewidth": 0,
             "ticks": ""
            },
            "colorscale": [
             [
              0,
              "#0d0887"
             ],
             [
              0.1111111111111111,
              "#46039f"
             ],
             [
              0.2222222222222222,
              "#7201a8"
             ],
             [
              0.3333333333333333,
              "#9c179e"
             ],
             [
              0.4444444444444444,
              "#bd3786"
             ],
             [
              0.5555555555555556,
              "#d8576b"
             ],
             [
              0.6666666666666666,
              "#ed7953"
             ],
             [
              0.7777777777777778,
              "#fb9f3a"
             ],
             [
              0.8888888888888888,
              "#fdca26"
             ],
             [
              1,
              "#f0f921"
             ]
            ],
            "type": "histogram2d"
           }
          ],
          "histogram2dcontour": [
           {
            "colorbar": {
             "outlinewidth": 0,
             "ticks": ""
            },
            "colorscale": [
             [
              0,
              "#0d0887"
             ],
             [
              0.1111111111111111,
              "#46039f"
             ],
             [
              0.2222222222222222,
              "#7201a8"
             ],
             [
              0.3333333333333333,
              "#9c179e"
             ],
             [
              0.4444444444444444,
              "#bd3786"
             ],
             [
              0.5555555555555556,
              "#d8576b"
             ],
             [
              0.6666666666666666,
              "#ed7953"
             ],
             [
              0.7777777777777778,
              "#fb9f3a"
             ],
             [
              0.8888888888888888,
              "#fdca26"
             ],
             [
              1,
              "#f0f921"
             ]
            ],
            "type": "histogram2dcontour"
           }
          ],
          "mesh3d": [
           {
            "colorbar": {
             "outlinewidth": 0,
             "ticks": ""
            },
            "type": "mesh3d"
           }
          ],
          "parcoords": [
           {
            "line": {
             "colorbar": {
              "outlinewidth": 0,
              "ticks": ""
             }
            },
            "type": "parcoords"
           }
          ],
          "pie": [
           {
            "automargin": true,
            "type": "pie"
           }
          ],
          "scatter": [
           {
            "fillpattern": {
             "fillmode": "overlay",
             "size": 10,
             "solidity": 0.2
            },
            "type": "scatter"
           }
          ],
          "scatter3d": [
           {
            "line": {
             "colorbar": {
              "outlinewidth": 0,
              "ticks": ""
             }
            },
            "marker": {
             "colorbar": {
              "outlinewidth": 0,
              "ticks": ""
             }
            },
            "type": "scatter3d"
           }
          ],
          "scattercarpet": [
           {
            "marker": {
             "colorbar": {
              "outlinewidth": 0,
              "ticks": ""
             }
            },
            "type": "scattercarpet"
           }
          ],
          "scattergeo": [
           {
            "marker": {
             "colorbar": {
              "outlinewidth": 0,
              "ticks": ""
             }
            },
            "type": "scattergeo"
           }
          ],
          "scattergl": [
           {
            "marker": {
             "colorbar": {
              "outlinewidth": 0,
              "ticks": ""
             }
            },
            "type": "scattergl"
           }
          ],
          "scattermapbox": [
           {
            "marker": {
             "colorbar": {
              "outlinewidth": 0,
              "ticks": ""
             }
            },
            "type": "scattermapbox"
           }
          ],
          "scatterpolar": [
           {
            "marker": {
             "colorbar": {
              "outlinewidth": 0,
              "ticks": ""
             }
            },
            "type": "scatterpolar"
           }
          ],
          "scatterpolargl": [
           {
            "marker": {
             "colorbar": {
              "outlinewidth": 0,
              "ticks": ""
             }
            },
            "type": "scatterpolargl"
           }
          ],
          "scatterternary": [
           {
            "marker": {
             "colorbar": {
              "outlinewidth": 0,
              "ticks": ""
             }
            },
            "type": "scatterternary"
           }
          ],
          "surface": [
           {
            "colorbar": {
             "outlinewidth": 0,
             "ticks": ""
            },
            "colorscale": [
             [
              0,
              "#0d0887"
             ],
             [
              0.1111111111111111,
              "#46039f"
             ],
             [
              0.2222222222222222,
              "#7201a8"
             ],
             [
              0.3333333333333333,
              "#9c179e"
             ],
             [
              0.4444444444444444,
              "#bd3786"
             ],
             [
              0.5555555555555556,
              "#d8576b"
             ],
             [
              0.6666666666666666,
              "#ed7953"
             ],
             [
              0.7777777777777778,
              "#fb9f3a"
             ],
             [
              0.8888888888888888,
              "#fdca26"
             ],
             [
              1,
              "#f0f921"
             ]
            ],
            "type": "surface"
           }
          ],
          "table": [
           {
            "cells": {
             "fill": {
              "color": "#EBF0F8"
             },
             "line": {
              "color": "white"
             }
            },
            "header": {
             "fill": {
              "color": "#C8D4E3"
             },
             "line": {
              "color": "white"
             }
            },
            "type": "table"
           }
          ]
         },
         "layout": {
          "annotationdefaults": {
           "arrowcolor": "#2a3f5f",
           "arrowhead": 0,
           "arrowwidth": 1
          },
          "autotypenumbers": "strict",
          "coloraxis": {
           "colorbar": {
            "outlinewidth": 0,
            "ticks": ""
           }
          },
          "colorscale": {
           "diverging": [
            [
             0,
             "#8e0152"
            ],
            [
             0.1,
             "#c51b7d"
            ],
            [
             0.2,
             "#de77ae"
            ],
            [
             0.3,
             "#f1b6da"
            ],
            [
             0.4,
             "#fde0ef"
            ],
            [
             0.5,
             "#f7f7f7"
            ],
            [
             0.6,
             "#e6f5d0"
            ],
            [
             0.7,
             "#b8e186"
            ],
            [
             0.8,
             "#7fbc41"
            ],
            [
             0.9,
             "#4d9221"
            ],
            [
             1,
             "#276419"
            ]
           ],
           "sequential": [
            [
             0,
             "#0d0887"
            ],
            [
             0.1111111111111111,
             "#46039f"
            ],
            [
             0.2222222222222222,
             "#7201a8"
            ],
            [
             0.3333333333333333,
             "#9c179e"
            ],
            [
             0.4444444444444444,
             "#bd3786"
            ],
            [
             0.5555555555555556,
             "#d8576b"
            ],
            [
             0.6666666666666666,
             "#ed7953"
            ],
            [
             0.7777777777777778,
             "#fb9f3a"
            ],
            [
             0.8888888888888888,
             "#fdca26"
            ],
            [
             1,
             "#f0f921"
            ]
           ],
           "sequentialminus": [
            [
             0,
             "#0d0887"
            ],
            [
             0.1111111111111111,
             "#46039f"
            ],
            [
             0.2222222222222222,
             "#7201a8"
            ],
            [
             0.3333333333333333,
             "#9c179e"
            ],
            [
             0.4444444444444444,
             "#bd3786"
            ],
            [
             0.5555555555555556,
             "#d8576b"
            ],
            [
             0.6666666666666666,
             "#ed7953"
            ],
            [
             0.7777777777777778,
             "#fb9f3a"
            ],
            [
             0.8888888888888888,
             "#fdca26"
            ],
            [
             1,
             "#f0f921"
            ]
           ]
          },
          "colorway": [
           "#636efa",
           "#EF553B",
           "#00cc96",
           "#ab63fa",
           "#FFA15A",
           "#19d3f3",
           "#FF6692",
           "#B6E880",
           "#FF97FF",
           "#FECB52"
          ],
          "font": {
           "color": "#2a3f5f"
          },
          "geo": {
           "bgcolor": "white",
           "lakecolor": "white",
           "landcolor": "#E5ECF6",
           "showlakes": true,
           "showland": true,
           "subunitcolor": "white"
          },
          "hoverlabel": {
           "align": "left"
          },
          "hovermode": "closest",
          "mapbox": {
           "style": "light"
          },
          "paper_bgcolor": "white",
          "plot_bgcolor": "#E5ECF6",
          "polar": {
           "angularaxis": {
            "gridcolor": "white",
            "linecolor": "white",
            "ticks": ""
           },
           "bgcolor": "#E5ECF6",
           "radialaxis": {
            "gridcolor": "white",
            "linecolor": "white",
            "ticks": ""
           }
          },
          "scene": {
           "xaxis": {
            "backgroundcolor": "#E5ECF6",
            "gridcolor": "white",
            "gridwidth": 2,
            "linecolor": "white",
            "showbackground": true,
            "ticks": "",
            "zerolinecolor": "white"
           },
           "yaxis": {
            "backgroundcolor": "#E5ECF6",
            "gridcolor": "white",
            "gridwidth": 2,
            "linecolor": "white",
            "showbackground": true,
            "ticks": "",
            "zerolinecolor": "white"
           },
           "zaxis": {
            "backgroundcolor": "#E5ECF6",
            "gridcolor": "white",
            "gridwidth": 2,
            "linecolor": "white",
            "showbackground": true,
            "ticks": "",
            "zerolinecolor": "white"
           }
          },
          "shapedefaults": {
           "line": {
            "color": "#2a3f5f"
           }
          },
          "ternary": {
           "aaxis": {
            "gridcolor": "white",
            "linecolor": "white",
            "ticks": ""
           },
           "baxis": {
            "gridcolor": "white",
            "linecolor": "white",
            "ticks": ""
           },
           "bgcolor": "#E5ECF6",
           "caxis": {
            "gridcolor": "white",
            "linecolor": "white",
            "ticks": ""
           }
          },
          "title": {
           "x": 0.05
          },
          "xaxis": {
           "automargin": true,
           "gridcolor": "white",
           "linecolor": "white",
           "ticks": "",
           "title": {
            "standoff": 15
           },
           "zerolinecolor": "white",
           "zerolinewidth": 2
          },
          "yaxis": {
           "automargin": true,
           "gridcolor": "white",
           "linecolor": "white",
           "ticks": "",
           "title": {
            "standoff": 15
           },
           "zerolinecolor": "white",
           "zerolinewidth": 2
          }
         }
        },
        "xaxis": {
         "anchor": "y",
         "constrain": "domain",
         "domain": [
          0,
          1
         ],
         "scaleanchor": "y"
        },
        "yaxis": {
         "anchor": "x",
         "autorange": "reversed",
         "constrain": "domain",
         "domain": [
          0,
          1
         ]
        }
       }
      }
     },
     "metadata": {},
     "output_type": "display_data"
    }
   ],
   "source": [
    "fig = px.imshow(store_corr_df)\n",
    "fig.show()"
   ]
  },
  {
   "cell_type": "markdown",
   "id": "98da36a3-9e41-4c9b-a908-1ffaa612796f",
   "metadata": {},
   "source": [
    "Same correlation is observed for this particular store"
   ]
  },
  {
   "cell_type": "markdown",
   "id": "934189ce-8739-4fa5-bf75-3fb37b014d7e",
   "metadata": {},
   "source": [
    "### Trend plot"
   ]
  },
  {
   "cell_type": "code",
   "execution_count": 15,
   "id": "bac13ea3",
   "metadata": {},
   "outputs": [
    {
     "data": {
      "application/vnd.plotly.v1+json": {
       "config": {
        "plotlyServerURL": "https://plot.ly"
       },
       "data": [
        {
         "hovertemplate": "Date=%{x}<br>Sales=%{y}<extra></extra>",
         "legendgroup": "",
         "line": {
          "color": "#636efa",
          "dash": "solid"
         },
         "marker": {
          "symbol": "circle"
         },
         "mode": "lines",
         "name": "",
         "orientation": "v",
         "showlegend": false,
         "type": "scatter",
         "x": [
          "2013-01-01T00:00:00",
          "2013-01-02T00:00:00",
          "2013-01-03T00:00:00",
          "2013-01-04T00:00:00",
          "2013-01-05T00:00:00",
          "2013-01-06T00:00:00",
          "2013-01-07T00:00:00",
          "2013-01-08T00:00:00",
          "2013-01-09T00:00:00",
          "2013-01-10T00:00:00",
          "2013-01-11T00:00:00",
          "2013-01-12T00:00:00",
          "2013-01-13T00:00:00",
          "2013-01-14T00:00:00",
          "2013-01-15T00:00:00",
          "2013-01-16T00:00:00",
          "2013-01-17T00:00:00",
          "2013-01-18T00:00:00",
          "2013-01-19T00:00:00",
          "2013-01-20T00:00:00",
          "2013-01-21T00:00:00",
          "2013-01-22T00:00:00",
          "2013-01-23T00:00:00",
          "2013-01-24T00:00:00",
          "2013-01-25T00:00:00",
          "2013-01-26T00:00:00",
          "2013-01-27T00:00:00",
          "2013-01-28T00:00:00",
          "2013-01-29T00:00:00",
          "2013-01-30T00:00:00",
          "2013-01-31T00:00:00",
          "2013-02-01T00:00:00",
          "2013-02-02T00:00:00",
          "2013-02-03T00:00:00",
          "2013-02-04T00:00:00",
          "2013-02-05T00:00:00",
          "2013-02-06T00:00:00",
          "2013-02-07T00:00:00",
          "2013-02-08T00:00:00",
          "2013-02-09T00:00:00",
          "2013-02-10T00:00:00",
          "2013-02-11T00:00:00",
          "2013-02-12T00:00:00",
          "2013-02-13T00:00:00",
          "2013-02-14T00:00:00",
          "2013-02-15T00:00:00",
          "2013-02-16T00:00:00",
          "2013-02-17T00:00:00",
          "2013-02-18T00:00:00",
          "2013-02-19T00:00:00",
          "2013-02-20T00:00:00",
          "2013-02-21T00:00:00",
          "2013-02-22T00:00:00",
          "2013-02-23T00:00:00",
          "2013-02-24T00:00:00",
          "2013-02-25T00:00:00",
          "2013-02-26T00:00:00",
          "2013-02-27T00:00:00",
          "2013-02-28T00:00:00",
          "2013-03-01T00:00:00",
          "2013-03-02T00:00:00",
          "2013-03-03T00:00:00",
          "2013-03-04T00:00:00",
          "2013-03-05T00:00:00",
          "2013-03-06T00:00:00",
          "2013-03-07T00:00:00",
          "2013-03-08T00:00:00",
          "2013-03-09T00:00:00",
          "2013-03-10T00:00:00",
          "2013-03-11T00:00:00",
          "2013-03-12T00:00:00",
          "2013-03-13T00:00:00",
          "2013-03-14T00:00:00",
          "2013-03-15T00:00:00",
          "2013-03-16T00:00:00",
          "2013-03-17T00:00:00",
          "2013-03-18T00:00:00",
          "2013-03-19T00:00:00",
          "2013-03-20T00:00:00",
          "2013-03-21T00:00:00",
          "2013-03-22T00:00:00",
          "2013-03-23T00:00:00",
          "2013-03-24T00:00:00",
          "2013-03-25T00:00:00",
          "2013-03-26T00:00:00",
          "2013-03-27T00:00:00",
          "2013-03-28T00:00:00",
          "2013-03-29T00:00:00",
          "2013-03-30T00:00:00",
          "2013-03-31T00:00:00",
          "2013-04-01T00:00:00",
          "2013-04-02T00:00:00",
          "2013-04-03T00:00:00",
          "2013-04-04T00:00:00",
          "2013-04-05T00:00:00",
          "2013-04-06T00:00:00",
          "2013-04-07T00:00:00",
          "2013-04-08T00:00:00",
          "2013-04-09T00:00:00",
          "2013-04-10T00:00:00",
          "2013-04-11T00:00:00",
          "2013-04-12T00:00:00",
          "2013-04-13T00:00:00",
          "2013-04-14T00:00:00",
          "2013-04-15T00:00:00",
          "2013-04-16T00:00:00",
          "2013-04-17T00:00:00",
          "2013-04-18T00:00:00",
          "2013-04-19T00:00:00",
          "2013-04-20T00:00:00",
          "2013-04-21T00:00:00",
          "2013-04-22T00:00:00",
          "2013-04-23T00:00:00",
          "2013-04-24T00:00:00",
          "2013-04-25T00:00:00",
          "2013-04-26T00:00:00",
          "2013-04-27T00:00:00",
          "2013-04-28T00:00:00",
          "2013-04-29T00:00:00",
          "2013-04-30T00:00:00",
          "2013-05-01T00:00:00",
          "2013-05-02T00:00:00",
          "2013-05-03T00:00:00",
          "2013-05-04T00:00:00",
          "2013-05-05T00:00:00",
          "2013-05-06T00:00:00",
          "2013-05-07T00:00:00",
          "2013-05-08T00:00:00",
          "2013-05-09T00:00:00",
          "2013-05-10T00:00:00",
          "2013-05-11T00:00:00",
          "2013-05-12T00:00:00",
          "2013-05-13T00:00:00",
          "2013-05-14T00:00:00",
          "2013-05-15T00:00:00",
          "2013-05-16T00:00:00",
          "2013-05-17T00:00:00",
          "2013-05-18T00:00:00",
          "2013-05-19T00:00:00",
          "2013-05-20T00:00:00",
          "2013-05-21T00:00:00",
          "2013-05-22T00:00:00",
          "2013-05-23T00:00:00",
          "2013-05-24T00:00:00",
          "2013-05-25T00:00:00",
          "2013-05-26T00:00:00",
          "2013-05-27T00:00:00",
          "2013-05-28T00:00:00",
          "2013-05-29T00:00:00",
          "2013-05-30T00:00:00",
          "2013-05-31T00:00:00",
          "2013-06-01T00:00:00",
          "2013-06-02T00:00:00",
          "2013-06-03T00:00:00",
          "2013-06-04T00:00:00",
          "2013-06-05T00:00:00",
          "2013-06-06T00:00:00",
          "2013-06-07T00:00:00",
          "2013-06-08T00:00:00",
          "2013-06-09T00:00:00",
          "2013-06-10T00:00:00",
          "2013-06-11T00:00:00",
          "2013-06-12T00:00:00",
          "2013-06-13T00:00:00",
          "2013-06-14T00:00:00",
          "2013-06-15T00:00:00",
          "2013-06-16T00:00:00",
          "2013-06-17T00:00:00",
          "2013-06-18T00:00:00",
          "2013-06-19T00:00:00",
          "2013-06-20T00:00:00",
          "2013-06-21T00:00:00",
          "2013-06-22T00:00:00",
          "2013-06-23T00:00:00",
          "2013-06-24T00:00:00",
          "2013-06-25T00:00:00",
          "2013-06-26T00:00:00",
          "2013-06-27T00:00:00",
          "2013-06-28T00:00:00",
          "2013-06-29T00:00:00",
          "2013-06-30T00:00:00",
          "2013-07-01T00:00:00",
          "2013-07-02T00:00:00",
          "2013-07-03T00:00:00",
          "2013-07-04T00:00:00",
          "2013-07-05T00:00:00",
          "2013-07-06T00:00:00",
          "2013-07-07T00:00:00",
          "2013-07-08T00:00:00",
          "2013-07-09T00:00:00",
          "2013-07-10T00:00:00",
          "2013-07-11T00:00:00",
          "2013-07-12T00:00:00",
          "2013-07-13T00:00:00",
          "2013-07-14T00:00:00",
          "2013-07-15T00:00:00",
          "2013-07-16T00:00:00",
          "2013-07-17T00:00:00",
          "2013-07-18T00:00:00",
          "2013-07-19T00:00:00",
          "2013-07-20T00:00:00",
          "2013-07-21T00:00:00",
          "2013-07-22T00:00:00",
          "2013-07-23T00:00:00",
          "2013-07-24T00:00:00",
          "2013-07-25T00:00:00",
          "2013-07-26T00:00:00",
          "2013-07-27T00:00:00",
          "2013-07-28T00:00:00",
          "2013-07-29T00:00:00",
          "2013-07-30T00:00:00",
          "2013-07-31T00:00:00",
          "2013-08-01T00:00:00",
          "2013-08-02T00:00:00",
          "2013-08-03T00:00:00",
          "2013-08-04T00:00:00",
          "2013-08-05T00:00:00",
          "2013-08-06T00:00:00",
          "2013-08-07T00:00:00",
          "2013-08-08T00:00:00",
          "2013-08-09T00:00:00",
          "2013-08-10T00:00:00",
          "2013-08-11T00:00:00",
          "2013-08-12T00:00:00",
          "2013-08-13T00:00:00",
          "2013-08-14T00:00:00",
          "2013-08-15T00:00:00",
          "2013-08-16T00:00:00",
          "2013-08-17T00:00:00",
          "2013-08-18T00:00:00",
          "2013-08-19T00:00:00",
          "2013-08-20T00:00:00",
          "2013-08-21T00:00:00",
          "2013-08-22T00:00:00",
          "2013-08-23T00:00:00",
          "2013-08-24T00:00:00",
          "2013-08-25T00:00:00",
          "2013-08-26T00:00:00",
          "2013-08-27T00:00:00",
          "2013-08-28T00:00:00",
          "2013-08-29T00:00:00",
          "2013-08-30T00:00:00",
          "2013-08-31T00:00:00",
          "2013-09-01T00:00:00",
          "2013-09-02T00:00:00",
          "2013-09-03T00:00:00",
          "2013-09-04T00:00:00",
          "2013-09-05T00:00:00",
          "2013-09-06T00:00:00",
          "2013-09-07T00:00:00",
          "2013-09-08T00:00:00",
          "2013-09-09T00:00:00",
          "2013-09-10T00:00:00",
          "2013-09-11T00:00:00",
          "2013-09-12T00:00:00",
          "2013-09-13T00:00:00",
          "2013-09-14T00:00:00",
          "2013-09-15T00:00:00",
          "2013-09-16T00:00:00",
          "2013-09-17T00:00:00",
          "2013-09-18T00:00:00",
          "2013-09-19T00:00:00",
          "2013-09-20T00:00:00",
          "2013-09-21T00:00:00",
          "2013-09-22T00:00:00",
          "2013-09-23T00:00:00",
          "2013-09-24T00:00:00",
          "2013-09-25T00:00:00",
          "2013-09-26T00:00:00",
          "2013-09-27T00:00:00",
          "2013-09-28T00:00:00",
          "2013-09-29T00:00:00",
          "2013-09-30T00:00:00",
          "2013-10-01T00:00:00",
          "2013-10-02T00:00:00",
          "2013-10-03T00:00:00",
          "2013-10-04T00:00:00",
          "2013-10-05T00:00:00",
          "2013-10-06T00:00:00",
          "2013-10-07T00:00:00",
          "2013-10-08T00:00:00",
          "2013-10-09T00:00:00",
          "2013-10-10T00:00:00",
          "2013-10-11T00:00:00",
          "2013-10-12T00:00:00",
          "2013-10-13T00:00:00",
          "2013-10-14T00:00:00",
          "2013-10-15T00:00:00",
          "2013-10-16T00:00:00",
          "2013-10-17T00:00:00",
          "2013-10-18T00:00:00",
          "2013-10-19T00:00:00",
          "2013-10-20T00:00:00",
          "2013-10-21T00:00:00",
          "2013-10-22T00:00:00",
          "2013-10-23T00:00:00",
          "2013-10-24T00:00:00",
          "2013-10-25T00:00:00",
          "2013-10-26T00:00:00",
          "2013-10-27T00:00:00",
          "2013-10-28T00:00:00",
          "2013-10-29T00:00:00",
          "2013-10-30T00:00:00",
          "2013-10-31T00:00:00",
          "2013-11-01T00:00:00",
          "2013-11-02T00:00:00",
          "2013-11-03T00:00:00",
          "2013-11-04T00:00:00",
          "2013-11-05T00:00:00",
          "2013-11-06T00:00:00",
          "2013-11-07T00:00:00",
          "2013-11-08T00:00:00",
          "2013-11-09T00:00:00",
          "2013-11-10T00:00:00",
          "2013-11-11T00:00:00",
          "2013-11-12T00:00:00",
          "2013-11-13T00:00:00",
          "2013-11-14T00:00:00",
          "2013-11-15T00:00:00",
          "2013-11-16T00:00:00",
          "2013-11-17T00:00:00",
          "2013-11-18T00:00:00",
          "2013-11-19T00:00:00",
          "2013-11-20T00:00:00",
          "2013-11-21T00:00:00",
          "2013-11-22T00:00:00",
          "2013-11-23T00:00:00",
          "2013-11-24T00:00:00",
          "2013-11-25T00:00:00",
          "2013-11-26T00:00:00",
          "2013-11-27T00:00:00",
          "2013-11-28T00:00:00",
          "2013-11-29T00:00:00",
          "2013-11-30T00:00:00",
          "2013-12-01T00:00:00",
          "2013-12-02T00:00:00",
          "2013-12-03T00:00:00",
          "2013-12-04T00:00:00",
          "2013-12-05T00:00:00",
          "2013-12-06T00:00:00",
          "2013-12-07T00:00:00",
          "2013-12-08T00:00:00",
          "2013-12-09T00:00:00",
          "2013-12-10T00:00:00",
          "2013-12-11T00:00:00",
          "2013-12-12T00:00:00",
          "2013-12-13T00:00:00",
          "2013-12-14T00:00:00",
          "2013-12-15T00:00:00",
          "2013-12-16T00:00:00",
          "2013-12-17T00:00:00",
          "2013-12-18T00:00:00",
          "2013-12-19T00:00:00",
          "2013-12-20T00:00:00",
          "2013-12-21T00:00:00",
          "2013-12-22T00:00:00",
          "2013-12-23T00:00:00",
          "2013-12-24T00:00:00",
          "2013-12-25T00:00:00",
          "2013-12-26T00:00:00",
          "2013-12-27T00:00:00",
          "2013-12-28T00:00:00",
          "2013-12-29T00:00:00",
          "2013-12-30T00:00:00",
          "2013-12-31T00:00:00",
          "2014-01-01T00:00:00",
          "2014-01-02T00:00:00",
          "2014-01-03T00:00:00",
          "2014-01-04T00:00:00",
          "2014-01-05T00:00:00",
          "2014-01-06T00:00:00",
          "2014-01-07T00:00:00",
          "2014-01-08T00:00:00",
          "2014-01-09T00:00:00",
          "2014-01-10T00:00:00",
          "2014-01-11T00:00:00",
          "2014-01-12T00:00:00",
          "2014-01-13T00:00:00",
          "2014-01-14T00:00:00",
          "2014-01-15T00:00:00",
          "2014-01-16T00:00:00",
          "2014-01-17T00:00:00",
          "2014-01-18T00:00:00",
          "2014-01-19T00:00:00",
          "2014-01-20T00:00:00",
          "2014-01-21T00:00:00",
          "2014-01-22T00:00:00",
          "2014-01-23T00:00:00",
          "2014-01-24T00:00:00",
          "2014-01-25T00:00:00",
          "2014-01-26T00:00:00",
          "2014-01-27T00:00:00",
          "2014-01-28T00:00:00",
          "2014-01-29T00:00:00",
          "2014-01-30T00:00:00",
          "2014-01-31T00:00:00",
          "2014-02-01T00:00:00",
          "2014-02-02T00:00:00",
          "2014-02-03T00:00:00",
          "2014-02-04T00:00:00",
          "2014-02-05T00:00:00",
          "2014-02-06T00:00:00",
          "2014-02-07T00:00:00",
          "2014-02-08T00:00:00",
          "2014-02-09T00:00:00",
          "2014-02-10T00:00:00",
          "2014-02-11T00:00:00",
          "2014-02-12T00:00:00",
          "2014-02-13T00:00:00",
          "2014-02-14T00:00:00",
          "2014-02-15T00:00:00",
          "2014-02-16T00:00:00",
          "2014-02-17T00:00:00",
          "2014-02-18T00:00:00",
          "2014-02-19T00:00:00",
          "2014-02-20T00:00:00",
          "2014-02-21T00:00:00",
          "2014-02-22T00:00:00",
          "2014-02-23T00:00:00",
          "2014-02-24T00:00:00",
          "2014-02-25T00:00:00",
          "2014-02-26T00:00:00",
          "2014-02-27T00:00:00",
          "2014-02-28T00:00:00",
          "2014-03-01T00:00:00",
          "2014-03-02T00:00:00",
          "2014-03-03T00:00:00",
          "2014-03-04T00:00:00",
          "2014-03-05T00:00:00",
          "2014-03-06T00:00:00",
          "2014-03-07T00:00:00",
          "2014-03-08T00:00:00",
          "2014-03-09T00:00:00",
          "2014-03-10T00:00:00",
          "2014-03-11T00:00:00",
          "2014-03-12T00:00:00",
          "2014-03-13T00:00:00",
          "2014-03-14T00:00:00",
          "2014-03-15T00:00:00",
          "2014-03-16T00:00:00",
          "2014-03-17T00:00:00",
          "2014-03-18T00:00:00",
          "2014-03-19T00:00:00",
          "2014-03-20T00:00:00",
          "2014-03-21T00:00:00",
          "2014-03-22T00:00:00",
          "2014-03-23T00:00:00",
          "2014-03-24T00:00:00",
          "2014-03-25T00:00:00",
          "2014-03-26T00:00:00",
          "2014-03-27T00:00:00",
          "2014-03-28T00:00:00",
          "2014-03-29T00:00:00",
          "2014-03-30T00:00:00",
          "2014-03-31T00:00:00",
          "2014-04-01T00:00:00",
          "2014-04-02T00:00:00",
          "2014-04-03T00:00:00",
          "2014-04-04T00:00:00",
          "2014-04-05T00:00:00",
          "2014-04-06T00:00:00",
          "2014-04-07T00:00:00",
          "2014-04-08T00:00:00",
          "2014-04-09T00:00:00",
          "2014-04-10T00:00:00",
          "2014-04-11T00:00:00",
          "2014-04-12T00:00:00",
          "2014-04-13T00:00:00",
          "2014-04-14T00:00:00",
          "2014-04-15T00:00:00",
          "2014-04-16T00:00:00",
          "2014-04-17T00:00:00",
          "2014-04-18T00:00:00",
          "2014-04-19T00:00:00",
          "2014-04-20T00:00:00",
          "2014-04-21T00:00:00",
          "2014-04-22T00:00:00",
          "2014-04-23T00:00:00",
          "2014-04-24T00:00:00",
          "2014-04-25T00:00:00",
          "2014-04-26T00:00:00",
          "2014-04-27T00:00:00",
          "2014-04-28T00:00:00",
          "2014-04-29T00:00:00",
          "2014-04-30T00:00:00",
          "2014-05-01T00:00:00",
          "2014-05-02T00:00:00",
          "2014-05-03T00:00:00",
          "2014-05-04T00:00:00",
          "2014-05-05T00:00:00",
          "2014-05-06T00:00:00",
          "2014-05-07T00:00:00",
          "2014-05-08T00:00:00",
          "2014-05-09T00:00:00",
          "2014-05-10T00:00:00",
          "2014-05-11T00:00:00",
          "2014-05-12T00:00:00",
          "2014-05-13T00:00:00",
          "2014-05-14T00:00:00",
          "2014-05-15T00:00:00",
          "2014-05-16T00:00:00",
          "2014-05-17T00:00:00",
          "2014-05-18T00:00:00",
          "2014-05-19T00:00:00",
          "2014-05-20T00:00:00",
          "2014-05-21T00:00:00",
          "2014-05-22T00:00:00",
          "2014-05-23T00:00:00",
          "2014-05-24T00:00:00",
          "2014-05-25T00:00:00",
          "2014-05-26T00:00:00",
          "2014-05-27T00:00:00",
          "2014-05-28T00:00:00",
          "2014-05-29T00:00:00",
          "2014-05-30T00:00:00",
          "2014-05-31T00:00:00",
          "2014-06-01T00:00:00",
          "2014-06-02T00:00:00",
          "2014-06-03T00:00:00",
          "2014-06-04T00:00:00",
          "2014-06-05T00:00:00",
          "2014-06-06T00:00:00",
          "2014-06-07T00:00:00",
          "2014-06-08T00:00:00",
          "2014-06-09T00:00:00",
          "2014-06-10T00:00:00",
          "2014-06-11T00:00:00",
          "2014-06-12T00:00:00",
          "2014-06-13T00:00:00",
          "2014-06-14T00:00:00",
          "2014-06-15T00:00:00",
          "2014-06-16T00:00:00",
          "2014-06-17T00:00:00",
          "2014-06-18T00:00:00",
          "2014-06-19T00:00:00",
          "2014-06-20T00:00:00",
          "2014-06-21T00:00:00",
          "2014-06-22T00:00:00",
          "2014-06-23T00:00:00",
          "2014-06-24T00:00:00",
          "2014-06-25T00:00:00",
          "2014-06-26T00:00:00",
          "2014-06-27T00:00:00",
          "2014-06-28T00:00:00",
          "2014-06-29T00:00:00",
          "2014-06-30T00:00:00",
          "2014-07-01T00:00:00",
          "2014-07-02T00:00:00",
          "2014-07-03T00:00:00",
          "2014-07-04T00:00:00",
          "2014-07-05T00:00:00",
          "2014-07-06T00:00:00",
          "2014-07-07T00:00:00",
          "2014-07-08T00:00:00",
          "2014-07-09T00:00:00",
          "2014-07-10T00:00:00",
          "2014-07-11T00:00:00",
          "2014-07-12T00:00:00",
          "2014-07-13T00:00:00",
          "2014-07-14T00:00:00",
          "2014-07-15T00:00:00",
          "2014-07-16T00:00:00",
          "2014-07-17T00:00:00",
          "2014-07-18T00:00:00",
          "2014-07-19T00:00:00",
          "2014-07-20T00:00:00",
          "2014-07-21T00:00:00",
          "2014-07-22T00:00:00",
          "2014-07-23T00:00:00",
          "2014-07-24T00:00:00",
          "2014-07-25T00:00:00",
          "2014-07-26T00:00:00",
          "2014-07-27T00:00:00",
          "2014-07-28T00:00:00",
          "2014-07-29T00:00:00",
          "2014-07-30T00:00:00",
          "2014-07-31T00:00:00",
          "2014-08-01T00:00:00",
          "2014-08-02T00:00:00",
          "2014-08-03T00:00:00",
          "2014-08-04T00:00:00",
          "2014-08-05T00:00:00",
          "2014-08-06T00:00:00",
          "2014-08-07T00:00:00",
          "2014-08-08T00:00:00",
          "2014-08-09T00:00:00",
          "2014-08-10T00:00:00",
          "2014-08-11T00:00:00",
          "2014-08-12T00:00:00",
          "2014-08-13T00:00:00",
          "2014-08-14T00:00:00",
          "2014-08-15T00:00:00",
          "2014-08-16T00:00:00",
          "2014-08-17T00:00:00",
          "2014-08-18T00:00:00",
          "2014-08-19T00:00:00",
          "2014-08-20T00:00:00",
          "2014-08-21T00:00:00",
          "2014-08-22T00:00:00",
          "2014-08-23T00:00:00",
          "2014-08-24T00:00:00",
          "2014-08-25T00:00:00",
          "2014-08-26T00:00:00",
          "2014-08-27T00:00:00",
          "2014-08-28T00:00:00",
          "2014-08-29T00:00:00",
          "2014-08-30T00:00:00",
          "2014-08-31T00:00:00",
          "2014-09-01T00:00:00",
          "2014-09-02T00:00:00",
          "2014-09-03T00:00:00",
          "2014-09-04T00:00:00",
          "2014-09-05T00:00:00",
          "2014-09-06T00:00:00",
          "2014-09-07T00:00:00",
          "2014-09-08T00:00:00",
          "2014-09-09T00:00:00",
          "2014-09-10T00:00:00",
          "2014-09-11T00:00:00",
          "2014-09-12T00:00:00",
          "2014-09-13T00:00:00",
          "2014-09-14T00:00:00",
          "2014-09-15T00:00:00",
          "2014-09-16T00:00:00",
          "2014-09-17T00:00:00",
          "2014-09-18T00:00:00",
          "2014-09-19T00:00:00",
          "2014-09-20T00:00:00",
          "2014-09-21T00:00:00",
          "2014-09-22T00:00:00",
          "2014-09-23T00:00:00",
          "2014-09-24T00:00:00",
          "2014-09-25T00:00:00",
          "2014-09-26T00:00:00",
          "2014-09-27T00:00:00",
          "2014-09-28T00:00:00",
          "2014-09-29T00:00:00",
          "2014-09-30T00:00:00",
          "2014-10-01T00:00:00",
          "2014-10-02T00:00:00",
          "2014-10-03T00:00:00",
          "2014-10-04T00:00:00",
          "2014-10-05T00:00:00",
          "2014-10-06T00:00:00",
          "2014-10-07T00:00:00",
          "2014-10-08T00:00:00",
          "2014-10-09T00:00:00",
          "2014-10-10T00:00:00",
          "2014-10-11T00:00:00",
          "2014-10-12T00:00:00",
          "2014-10-13T00:00:00",
          "2014-10-14T00:00:00",
          "2014-10-15T00:00:00",
          "2014-10-16T00:00:00",
          "2014-10-17T00:00:00",
          "2014-10-18T00:00:00",
          "2014-10-19T00:00:00",
          "2014-10-20T00:00:00",
          "2014-10-21T00:00:00",
          "2014-10-22T00:00:00",
          "2014-10-23T00:00:00",
          "2014-10-24T00:00:00",
          "2014-10-25T00:00:00",
          "2014-10-26T00:00:00",
          "2014-10-27T00:00:00",
          "2014-10-28T00:00:00",
          "2014-10-29T00:00:00",
          "2014-10-30T00:00:00",
          "2014-10-31T00:00:00",
          "2014-11-01T00:00:00",
          "2014-11-02T00:00:00",
          "2014-11-03T00:00:00",
          "2014-11-04T00:00:00",
          "2014-11-05T00:00:00",
          "2014-11-06T00:00:00",
          "2014-11-07T00:00:00",
          "2014-11-08T00:00:00",
          "2014-11-09T00:00:00",
          "2014-11-10T00:00:00",
          "2014-11-11T00:00:00",
          "2014-11-12T00:00:00",
          "2014-11-13T00:00:00",
          "2014-11-14T00:00:00",
          "2014-11-15T00:00:00",
          "2014-11-16T00:00:00",
          "2014-11-17T00:00:00",
          "2014-11-18T00:00:00",
          "2014-11-19T00:00:00",
          "2014-11-20T00:00:00",
          "2014-11-21T00:00:00",
          "2014-11-22T00:00:00",
          "2014-11-23T00:00:00",
          "2014-11-24T00:00:00",
          "2014-11-25T00:00:00",
          "2014-11-26T00:00:00",
          "2014-11-27T00:00:00",
          "2014-11-28T00:00:00",
          "2014-11-29T00:00:00",
          "2014-11-30T00:00:00",
          "2014-12-01T00:00:00",
          "2014-12-02T00:00:00",
          "2014-12-03T00:00:00",
          "2014-12-04T00:00:00",
          "2014-12-05T00:00:00",
          "2014-12-06T00:00:00",
          "2014-12-07T00:00:00",
          "2014-12-08T00:00:00",
          "2014-12-09T00:00:00",
          "2014-12-10T00:00:00",
          "2014-12-11T00:00:00",
          "2014-12-12T00:00:00",
          "2014-12-13T00:00:00",
          "2014-12-14T00:00:00",
          "2014-12-15T00:00:00",
          "2014-12-16T00:00:00",
          "2014-12-17T00:00:00",
          "2014-12-18T00:00:00",
          "2014-12-19T00:00:00",
          "2014-12-20T00:00:00",
          "2014-12-21T00:00:00",
          "2014-12-22T00:00:00",
          "2014-12-23T00:00:00",
          "2014-12-24T00:00:00",
          "2014-12-25T00:00:00",
          "2014-12-26T00:00:00",
          "2014-12-27T00:00:00",
          "2014-12-28T00:00:00",
          "2014-12-29T00:00:00",
          "2014-12-30T00:00:00",
          "2014-12-31T00:00:00",
          "2015-01-01T00:00:00",
          "2015-01-02T00:00:00",
          "2015-01-03T00:00:00",
          "2015-01-04T00:00:00",
          "2015-01-05T00:00:00",
          "2015-01-06T00:00:00",
          "2015-01-07T00:00:00",
          "2015-01-08T00:00:00",
          "2015-01-09T00:00:00",
          "2015-01-10T00:00:00",
          "2015-01-11T00:00:00",
          "2015-01-12T00:00:00",
          "2015-01-13T00:00:00",
          "2015-01-14T00:00:00",
          "2015-01-15T00:00:00",
          "2015-01-16T00:00:00",
          "2015-01-17T00:00:00",
          "2015-01-18T00:00:00",
          "2015-01-19T00:00:00",
          "2015-01-20T00:00:00",
          "2015-01-21T00:00:00",
          "2015-01-22T00:00:00",
          "2015-01-23T00:00:00",
          "2015-01-24T00:00:00",
          "2015-01-25T00:00:00",
          "2015-01-26T00:00:00",
          "2015-01-27T00:00:00",
          "2015-01-28T00:00:00",
          "2015-01-29T00:00:00",
          "2015-01-30T00:00:00",
          "2015-01-31T00:00:00",
          "2015-02-01T00:00:00",
          "2015-02-02T00:00:00",
          "2015-02-03T00:00:00",
          "2015-02-04T00:00:00",
          "2015-02-05T00:00:00",
          "2015-02-06T00:00:00",
          "2015-02-07T00:00:00",
          "2015-02-08T00:00:00",
          "2015-02-09T00:00:00",
          "2015-02-10T00:00:00",
          "2015-02-11T00:00:00",
          "2015-02-12T00:00:00",
          "2015-02-13T00:00:00",
          "2015-02-14T00:00:00",
          "2015-02-15T00:00:00",
          "2015-02-16T00:00:00",
          "2015-02-17T00:00:00",
          "2015-02-18T00:00:00",
          "2015-02-19T00:00:00",
          "2015-02-20T00:00:00",
          "2015-02-21T00:00:00",
          "2015-02-22T00:00:00",
          "2015-02-23T00:00:00",
          "2015-02-24T00:00:00",
          "2015-02-25T00:00:00",
          "2015-02-26T00:00:00",
          "2015-02-27T00:00:00",
          "2015-02-28T00:00:00",
          "2015-03-01T00:00:00",
          "2015-03-02T00:00:00",
          "2015-03-03T00:00:00",
          "2015-03-04T00:00:00",
          "2015-03-05T00:00:00",
          "2015-03-06T00:00:00",
          "2015-03-07T00:00:00",
          "2015-03-08T00:00:00",
          "2015-03-09T00:00:00",
          "2015-03-10T00:00:00",
          "2015-03-11T00:00:00",
          "2015-03-12T00:00:00",
          "2015-03-13T00:00:00",
          "2015-03-14T00:00:00",
          "2015-03-15T00:00:00",
          "2015-03-16T00:00:00",
          "2015-03-17T00:00:00",
          "2015-03-18T00:00:00",
          "2015-03-19T00:00:00",
          "2015-03-20T00:00:00",
          "2015-03-21T00:00:00",
          "2015-03-22T00:00:00",
          "2015-03-23T00:00:00",
          "2015-03-24T00:00:00",
          "2015-03-25T00:00:00",
          "2015-03-26T00:00:00",
          "2015-03-27T00:00:00",
          "2015-03-28T00:00:00",
          "2015-03-29T00:00:00",
          "2015-03-30T00:00:00",
          "2015-03-31T00:00:00",
          "2015-04-01T00:00:00",
          "2015-04-02T00:00:00",
          "2015-04-03T00:00:00",
          "2015-04-04T00:00:00",
          "2015-04-05T00:00:00",
          "2015-04-06T00:00:00",
          "2015-04-07T00:00:00",
          "2015-04-08T00:00:00",
          "2015-04-09T00:00:00",
          "2015-04-10T00:00:00",
          "2015-04-11T00:00:00",
          "2015-04-12T00:00:00",
          "2015-04-13T00:00:00",
          "2015-04-14T00:00:00",
          "2015-04-15T00:00:00",
          "2015-04-16T00:00:00",
          "2015-04-17T00:00:00",
          "2015-04-18T00:00:00",
          "2015-04-19T00:00:00",
          "2015-04-20T00:00:00",
          "2015-04-21T00:00:00",
          "2015-04-22T00:00:00",
          "2015-04-23T00:00:00",
          "2015-04-24T00:00:00",
          "2015-04-25T00:00:00",
          "2015-04-26T00:00:00",
          "2015-04-27T00:00:00",
          "2015-04-28T00:00:00",
          "2015-04-29T00:00:00",
          "2015-04-30T00:00:00",
          "2015-05-01T00:00:00",
          "2015-05-02T00:00:00",
          "2015-05-03T00:00:00",
          "2015-05-04T00:00:00",
          "2015-05-05T00:00:00",
          "2015-05-06T00:00:00",
          "2015-05-07T00:00:00",
          "2015-05-08T00:00:00",
          "2015-05-09T00:00:00",
          "2015-05-10T00:00:00",
          "2015-05-11T00:00:00",
          "2015-05-12T00:00:00",
          "2015-05-13T00:00:00",
          "2015-05-14T00:00:00",
          "2015-05-15T00:00:00",
          "2015-05-16T00:00:00",
          "2015-05-17T00:00:00",
          "2015-05-18T00:00:00",
          "2015-05-19T00:00:00",
          "2015-05-20T00:00:00",
          "2015-05-21T00:00:00",
          "2015-05-22T00:00:00",
          "2015-05-23T00:00:00",
          "2015-05-24T00:00:00",
          "2015-05-25T00:00:00",
          "2015-05-26T00:00:00",
          "2015-05-27T00:00:00",
          "2015-05-28T00:00:00",
          "2015-05-29T00:00:00",
          "2015-05-30T00:00:00",
          "2015-05-31T00:00:00",
          "2015-06-01T00:00:00",
          "2015-06-02T00:00:00",
          "2015-06-03T00:00:00",
          "2015-06-04T00:00:00",
          "2015-06-05T00:00:00",
          "2015-06-06T00:00:00",
          "2015-06-07T00:00:00",
          "2015-06-08T00:00:00",
          "2015-06-09T00:00:00",
          "2015-06-10T00:00:00",
          "2015-06-11T00:00:00",
          "2015-06-12T00:00:00",
          "2015-06-13T00:00:00",
          "2015-06-14T00:00:00",
          "2015-06-15T00:00:00",
          "2015-06-16T00:00:00",
          "2015-06-17T00:00:00",
          "2015-06-18T00:00:00",
          "2015-06-19T00:00:00",
          "2015-06-20T00:00:00",
          "2015-06-21T00:00:00",
          "2015-06-22T00:00:00",
          "2015-06-23T00:00:00",
          "2015-06-24T00:00:00",
          "2015-06-25T00:00:00",
          "2015-06-26T00:00:00",
          "2015-06-27T00:00:00",
          "2015-06-28T00:00:00",
          "2015-06-29T00:00:00",
          "2015-06-30T00:00:00",
          "2015-07-01T00:00:00",
          "2015-07-02T00:00:00",
          "2015-07-03T00:00:00",
          "2015-07-04T00:00:00",
          "2015-07-05T00:00:00",
          "2015-07-06T00:00:00",
          "2015-07-07T00:00:00",
          "2015-07-08T00:00:00",
          "2015-07-09T00:00:00",
          "2015-07-10T00:00:00",
          "2015-07-11T00:00:00",
          "2015-07-12T00:00:00",
          "2015-07-13T00:00:00",
          "2015-07-14T00:00:00",
          "2015-07-15T00:00:00",
          "2015-07-16T00:00:00",
          "2015-07-17T00:00:00",
          "2015-07-18T00:00:00",
          "2015-07-19T00:00:00",
          "2015-07-20T00:00:00",
          "2015-07-21T00:00:00",
          "2015-07-22T00:00:00",
          "2015-07-23T00:00:00",
          "2015-07-24T00:00:00",
          "2015-07-25T00:00:00",
          "2015-07-26T00:00:00",
          "2015-07-27T00:00:00",
          "2015-07-28T00:00:00",
          "2015-07-29T00:00:00",
          "2015-07-30T00:00:00",
          "2015-07-31T00:00:00"
         ],
         "xaxis": "x",
         "y": [
          0,
          7049,
          6377,
          5981,
          7963,
          0,
          11514,
          9307,
          8122,
          9133,
          8199,
          7757,
          0,
          4865,
          4970,
          4965,
          5341,
          5786,
          7307,
          0,
          10478,
          9358,
          7708,
          7001,
          8114,
          6527,
          0,
          5768,
          5587,
          6533,
          9364,
          7057,
          8170,
          0,
          10657,
          9094,
          7466,
          8391,
          8151,
          8075,
          0,
          2059,
          6492,
          6360,
          6124,
          5672,
          7111,
          0,
          11013,
          7859,
          7995,
          7102,
          7584,
          6515,
          0,
          4811,
          5294,
          5966,
          7268,
          7336,
          8501,
          0,
          12294,
          9464,
          7971,
          8243,
          8352,
          7440,
          0,
          6021,
          4008,
          5483,
          5982,
          6000,
          8104,
          0,
          11319,
          8668,
          7066,
          7906,
          8184,
          6964,
          0,
          10260,
          9727,
          10287,
          10824,
          0,
          11004,
          0,
          0,
          7096,
          6013,
          6107,
          5945,
          7048,
          0,
          11048,
          9326,
          7853,
          8448,
          7518,
          7598,
          0,
          5034,
          5622,
          4634,
          5147,
          5666,
          7238,
          0,
          9899,
          8704,
          7081,
          7529,
          6866,
          7187,
          0,
          11714,
          13298,
          0,
          9041,
          9239,
          8472,
          0,
          6115,
          5885,
          6888,
          0,
          8128,
          9082,
          0,
          10115,
          9337,
          7715,
          7723,
          8268,
          7274,
          0,
          0,
          6918,
          4992,
          5234,
          6212,
          8124,
          0,
          10100,
          8489,
          7900,
          0,
          13005,
          8815,
          0,
          11352,
          8547,
          8010,
          7155,
          7916,
          7137,
          0,
          5508,
          5807,
          4944,
          5067,
          6075,
          6690,
          0,
          9673,
          6895,
          6527,
          6227,
          7778,
          7060,
          0,
          5697,
          5174,
          5002,
          6070,
          6762,
          8361,
          0,
          12258,
          8991,
          8130,
          7998,
          8456,
          6641,
          0,
          5732,
          5191,
          5897,
          5913,
          6236,
          7221,
          0,
          11855,
          10402,
          9150,
          8235,
          8293,
          6402,
          0,
          4749,
          4769,
          5141,
          5704,
          5368,
          5789,
          0,
          11999,
          11681,
          13331,
          7521,
          6797,
          7222,
          0,
          6487,
          6067,
          6455,
          6009,
          6198,
          7119,
          0,
          11748,
          9613,
          8214,
          8188,
          7671,
          6280,
          0,
          5518,
          5748,
          4621,
          4833,
          4685,
          5770,
          0,
          10719,
          8008,
          7052,
          6992,
          9444,
          7056,
          0,
          5426,
          6412,
          6126,
          5480,
          5370,
          6418,
          0,
          11888,
          8125,
          8181,
          8390,
          8425,
          6218,
          0,
          5450,
          5132,
          4913,
          5285,
          5194,
          6283,
          0,
          9577,
          7965,
          7881,
          7226,
          7063,
          6447,
          0,
          7259,
          6181,
          6044,
          0,
          7379,
          7206,
          0,
          11641,
          9192,
          8406,
          7934,
          7287,
          7016,
          0,
          6193,
          5124,
          5806,
          5587,
          5897,
          6967,
          0,
          10609,
          7598,
          7617,
          7088,
          7171,
          5875,
          0,
          5062,
          5955,
          6965,
          9629,
          0,
          8819,
          0,
          10202,
          9874,
          8566,
          7868,
          9358,
          7892,
          0,
          6445,
          5695,
          6028,
          5787,
          6170,
          8113,
          0,
          11328,
          8623,
          8437,
          7633,
          7655,
          7699,
          0,
          6200,
          5817,
          5617,
          6459,
          8270,
          9013,
          0,
          13896,
          11857,
          10915,
          10098,
          8858,
          7456,
          0,
          7503,
          7247,
          7396,
          6718,
          7669,
          7888,
          0,
          17143,
          14483,
          13255,
          11069,
          11913,
          10632,
          0,
          12557,
          4165,
          0,
          0,
          7082,
          7027,
          0,
          9587,
          4289,
          0,
          6436,
          7067,
          6999,
          0,
          12667,
          11285,
          8269,
          7371,
          8799,
          6898,
          0,
          6615,
          6313,
          5821,
          5290,
          6293,
          7748,
          0,
          13552,
          9814,
          9202,
          8027,
          8406,
          7458,
          0,
          5664,
          6268,
          6379,
          6642,
          10284,
          7642,
          0,
          14050,
          11551,
          10250,
          8909,
          8156,
          7966,
          0,
          6844,
          6025,
          6398,
          5648,
          7705,
          7702,
          0,
          11081,
          10030,
          8196,
          8093,
          8192,
          6844,
          0,
          5811,
          5451,
          5564,
          6349,
          9009,
          9931,
          0,
          4338,
          12733,
          10874,
          10009,
          10165,
          8984,
          0,
          7304,
          6318,
          6390,
          6572,
          7362,
          7929,
          0,
          11071,
          8381,
          9062,
          7498,
          8747,
          7785,
          0,
          6814,
          6850,
          5095,
          6056,
          7236,
          7829,
          0,
          13706,
          11134,
          9483,
          9508,
          9110,
          8629,
          0,
          7312,
          6638,
          7534,
          6910,
          7116,
          8344,
          0,
          13092,
          12157,
          10218,
          10270,
          0,
          9755,
          0,
          0,
          7120,
          6512,
          6449,
          6689,
          8186,
          0,
          12299,
          11276,
          15252,
          0,
          10646,
          9533,
          0,
          12101,
          10347,
          9369,
          9457,
          9606,
          8233,
          0,
          6828,
          6437,
          6659,
          7408,
          7614,
          7936,
          0,
          10958,
          8999,
          7858,
          8002,
          8407,
          7076,
          0,
          5876,
          5767,
          7547,
          0,
          11257,
          9534,
          0,
          12903,
          11409,
          9336,
          9731,
          8927,
          8832,
          0,
          0,
          8241,
          6843,
          7476,
          7517,
          8916,
          0,
          12629,
          10766,
          10576,
          0,
          11746,
          8170,
          0,
          7023,
          6280,
          6790,
          6341,
          6918,
          8334,
          0,
          15977,
          12500,
          11659,
          9747,
          8223,
          8505,
          0,
          8208,
          6082,
          5578,
          8275,
          6679,
          8591,
          0,
          11024,
          9776,
          9167,
          7976,
          7382,
          6159,
          0,
          6521,
          6765,
          6746,
          6785,
          6747,
          7521,
          0,
          10711,
          10036,
          10452,
          13011,
          8598,
          8082,
          0,
          12434,
          10233,
          8453,
          8746,
          8802,
          7727,
          0,
          7418,
          6497,
          6831,
          6737,
          6857,
          8473,
          0,
          12937,
          10145,
          9951,
          8385,
          8622,
          8371,
          0,
          7075,
          6288,
          6467,
          6950,
          8176,
          10004,
          0,
          13074,
          10508,
          9270,
          9249,
          8702,
          8892,
          0,
          6895,
          7110,
          6597,
          6633,
          6502,
          8466,
          0,
          12126,
          10037,
          8003,
          8410,
          7878,
          7511,
          0,
          6720,
          6109,
          6189,
          6039,
          6467,
          9184,
          0,
          10929,
          13877,
          10889,
          10555,
          0,
          10194,
          0,
          13156,
          9864,
          8626,
          9100,
          9695,
          8445,
          0,
          6777,
          6990,
          7119,
          6365,
          6720,
          8357,
          0,
          11776,
          8709,
          8225,
          9386,
          9201,
          8368,
          0,
          7174,
          6662,
          7888,
          10152,
          11642,
          0,
          0,
          12422,
          11489,
          11348,
          10827,
          10289,
          10560,
          0,
          11775,
          9555,
          8806,
          7129,
          7614,
          7526,
          0,
          6305,
          5422,
          5263,
          5500,
          5535,
          7019,
          0,
          8673,
          7252,
          7027,
          7139,
          10544,
          8676,
          0,
          11347,
          8579,
          8049,
          8542,
          9904,
          7974,
          0,
          7212,
          6029,
          5566,
          5498,
          6416,
          8770,
          0,
          11297,
          11857,
          9122,
          10922,
          8894,
          9381,
          0,
          11003,
          9889,
          4572,
          0,
          0,
          6492,
          0,
          7632,
          8721,
          5588,
          0,
          6846,
          6329,
          0,
          9618,
          7831,
          7876,
          6328,
          7028,
          6507,
          0,
          9215,
          7093,
          7871,
          6771,
          7744,
          6695,
          0,
          5708,
          5009,
          6107,
          5269,
          5019,
          4849,
          0,
          7598,
          7749,
          7980,
          7149,
          9471,
          9660,
          0,
          8687,
          8284,
          8373,
          7526,
          7435,
          6626,
          0,
          6227,
          5278,
          6873,
          5894,
          5545,
          7364,
          0,
          2802,
          8446,
          7645,
          7500,
          7772,
          6211,
          0,
          5127,
          4778,
          5319,
          5323,
          7992,
          8192,
          0,
          10283,
          8220,
          7145,
          7418,
          7754,
          6968,
          0,
          5600,
          5644,
          5110,
          5823,
          5658,
          6934,
          0,
          9318,
          7221,
          6659,
          6706,
          7889,
          6459,
          0,
          5715,
          4892,
          4584,
          5835,
          5981,
          7339,
          0,
          9954,
          9190,
          10325,
          10028,
          0,
          8955,
          0,
          0,
          6599,
          6187,
          5329,
          6062,
          6604,
          0,
          9182,
          7555,
          7899,
          6857,
          8114,
          6823,
          0,
          6064,
          5063,
          7348,
          6037,
          5839,
          6456,
          0,
          9377,
          8394,
          9966,
          11573,
          0,
          8767,
          0,
          9419,
          7371,
          7742,
          7805,
          7849,
          7007,
          0,
          5661,
          5112,
          7246,
          0,
          7381,
          7717,
          0,
          9853,
          7604,
          7525,
          7362,
          7273,
          7236,
          0,
          0,
          7051,
          5935,
          6191,
          7770,
          7549,
          0,
          11363,
          8290,
          8476,
          0,
          8317,
          6980,
          0,
          6748,
          5964,
          5386,
          6054,
          6048,
          6531,
          0,
          10660,
          7895,
          8345,
          6643,
          6953,
          6068,
          0,
          6566,
          6229,
          5765,
          6113,
          5363,
          7717,
          0,
          10840,
          9597,
          7548,
          6694,
          6216,
          5584,
          0,
          6328,
          4947,
          6072,
          6013,
          5398,
          6024,
          0,
          9972,
          7873,
          9101,
          6644,
          7678,
          6105,
          0,
          7181,
          4441,
          8032,
          4995,
          5795,
          4898,
          0,
          10066,
          8673,
          7755,
          9227,
          10134
         ],
         "yaxis": "y"
        }
       ],
       "layout": {
        "legend": {
         "tracegroupgap": 0
        },
        "margin": {
         "t": 60
        },
        "template": {
         "data": {
          "bar": [
           {
            "error_x": {
             "color": "#2a3f5f"
            },
            "error_y": {
             "color": "#2a3f5f"
            },
            "marker": {
             "line": {
              "color": "#E5ECF6",
              "width": 0.5
             },
             "pattern": {
              "fillmode": "overlay",
              "size": 10,
              "solidity": 0.2
             }
            },
            "type": "bar"
           }
          ],
          "barpolar": [
           {
            "marker": {
             "line": {
              "color": "#E5ECF6",
              "width": 0.5
             },
             "pattern": {
              "fillmode": "overlay",
              "size": 10,
              "solidity": 0.2
             }
            },
            "type": "barpolar"
           }
          ],
          "carpet": [
           {
            "aaxis": {
             "endlinecolor": "#2a3f5f",
             "gridcolor": "white",
             "linecolor": "white",
             "minorgridcolor": "white",
             "startlinecolor": "#2a3f5f"
            },
            "baxis": {
             "endlinecolor": "#2a3f5f",
             "gridcolor": "white",
             "linecolor": "white",
             "minorgridcolor": "white",
             "startlinecolor": "#2a3f5f"
            },
            "type": "carpet"
           }
          ],
          "choropleth": [
           {
            "colorbar": {
             "outlinewidth": 0,
             "ticks": ""
            },
            "type": "choropleth"
           }
          ],
          "contour": [
           {
            "colorbar": {
             "outlinewidth": 0,
             "ticks": ""
            },
            "colorscale": [
             [
              0,
              "#0d0887"
             ],
             [
              0.1111111111111111,
              "#46039f"
             ],
             [
              0.2222222222222222,
              "#7201a8"
             ],
             [
              0.3333333333333333,
              "#9c179e"
             ],
             [
              0.4444444444444444,
              "#bd3786"
             ],
             [
              0.5555555555555556,
              "#d8576b"
             ],
             [
              0.6666666666666666,
              "#ed7953"
             ],
             [
              0.7777777777777778,
              "#fb9f3a"
             ],
             [
              0.8888888888888888,
              "#fdca26"
             ],
             [
              1,
              "#f0f921"
             ]
            ],
            "type": "contour"
           }
          ],
          "contourcarpet": [
           {
            "colorbar": {
             "outlinewidth": 0,
             "ticks": ""
            },
            "type": "contourcarpet"
           }
          ],
          "heatmap": [
           {
            "colorbar": {
             "outlinewidth": 0,
             "ticks": ""
            },
            "colorscale": [
             [
              0,
              "#0d0887"
             ],
             [
              0.1111111111111111,
              "#46039f"
             ],
             [
              0.2222222222222222,
              "#7201a8"
             ],
             [
              0.3333333333333333,
              "#9c179e"
             ],
             [
              0.4444444444444444,
              "#bd3786"
             ],
             [
              0.5555555555555556,
              "#d8576b"
             ],
             [
              0.6666666666666666,
              "#ed7953"
             ],
             [
              0.7777777777777778,
              "#fb9f3a"
             ],
             [
              0.8888888888888888,
              "#fdca26"
             ],
             [
              1,
              "#f0f921"
             ]
            ],
            "type": "heatmap"
           }
          ],
          "heatmapgl": [
           {
            "colorbar": {
             "outlinewidth": 0,
             "ticks": ""
            },
            "colorscale": [
             [
              0,
              "#0d0887"
             ],
             [
              0.1111111111111111,
              "#46039f"
             ],
             [
              0.2222222222222222,
              "#7201a8"
             ],
             [
              0.3333333333333333,
              "#9c179e"
             ],
             [
              0.4444444444444444,
              "#bd3786"
             ],
             [
              0.5555555555555556,
              "#d8576b"
             ],
             [
              0.6666666666666666,
              "#ed7953"
             ],
             [
              0.7777777777777778,
              "#fb9f3a"
             ],
             [
              0.8888888888888888,
              "#fdca26"
             ],
             [
              1,
              "#f0f921"
             ]
            ],
            "type": "heatmapgl"
           }
          ],
          "histogram": [
           {
            "marker": {
             "pattern": {
              "fillmode": "overlay",
              "size": 10,
              "solidity": 0.2
             }
            },
            "type": "histogram"
           }
          ],
          "histogram2d": [
           {
            "colorbar": {
             "outlinewidth": 0,
             "ticks": ""
            },
            "colorscale": [
             [
              0,
              "#0d0887"
             ],
             [
              0.1111111111111111,
              "#46039f"
             ],
             [
              0.2222222222222222,
              "#7201a8"
             ],
             [
              0.3333333333333333,
              "#9c179e"
             ],
             [
              0.4444444444444444,
              "#bd3786"
             ],
             [
              0.5555555555555556,
              "#d8576b"
             ],
             [
              0.6666666666666666,
              "#ed7953"
             ],
             [
              0.7777777777777778,
              "#fb9f3a"
             ],
             [
              0.8888888888888888,
              "#fdca26"
             ],
             [
              1,
              "#f0f921"
             ]
            ],
            "type": "histogram2d"
           }
          ],
          "histogram2dcontour": [
           {
            "colorbar": {
             "outlinewidth": 0,
             "ticks": ""
            },
            "colorscale": [
             [
              0,
              "#0d0887"
             ],
             [
              0.1111111111111111,
              "#46039f"
             ],
             [
              0.2222222222222222,
              "#7201a8"
             ],
             [
              0.3333333333333333,
              "#9c179e"
             ],
             [
              0.4444444444444444,
              "#bd3786"
             ],
             [
              0.5555555555555556,
              "#d8576b"
             ],
             [
              0.6666666666666666,
              "#ed7953"
             ],
             [
              0.7777777777777778,
              "#fb9f3a"
             ],
             [
              0.8888888888888888,
              "#fdca26"
             ],
             [
              1,
              "#f0f921"
             ]
            ],
            "type": "histogram2dcontour"
           }
          ],
          "mesh3d": [
           {
            "colorbar": {
             "outlinewidth": 0,
             "ticks": ""
            },
            "type": "mesh3d"
           }
          ],
          "parcoords": [
           {
            "line": {
             "colorbar": {
              "outlinewidth": 0,
              "ticks": ""
             }
            },
            "type": "parcoords"
           }
          ],
          "pie": [
           {
            "automargin": true,
            "type": "pie"
           }
          ],
          "scatter": [
           {
            "fillpattern": {
             "fillmode": "overlay",
             "size": 10,
             "solidity": 0.2
            },
            "type": "scatter"
           }
          ],
          "scatter3d": [
           {
            "line": {
             "colorbar": {
              "outlinewidth": 0,
              "ticks": ""
             }
            },
            "marker": {
             "colorbar": {
              "outlinewidth": 0,
              "ticks": ""
             }
            },
            "type": "scatter3d"
           }
          ],
          "scattercarpet": [
           {
            "marker": {
             "colorbar": {
              "outlinewidth": 0,
              "ticks": ""
             }
            },
            "type": "scattercarpet"
           }
          ],
          "scattergeo": [
           {
            "marker": {
             "colorbar": {
              "outlinewidth": 0,
              "ticks": ""
             }
            },
            "type": "scattergeo"
           }
          ],
          "scattergl": [
           {
            "marker": {
             "colorbar": {
              "outlinewidth": 0,
              "ticks": ""
             }
            },
            "type": "scattergl"
           }
          ],
          "scattermapbox": [
           {
            "marker": {
             "colorbar": {
              "outlinewidth": 0,
              "ticks": ""
             }
            },
            "type": "scattermapbox"
           }
          ],
          "scatterpolar": [
           {
            "marker": {
             "colorbar": {
              "outlinewidth": 0,
              "ticks": ""
             }
            },
            "type": "scatterpolar"
           }
          ],
          "scatterpolargl": [
           {
            "marker": {
             "colorbar": {
              "outlinewidth": 0,
              "ticks": ""
             }
            },
            "type": "scatterpolargl"
           }
          ],
          "scatterternary": [
           {
            "marker": {
             "colorbar": {
              "outlinewidth": 0,
              "ticks": ""
             }
            },
            "type": "scatterternary"
           }
          ],
          "surface": [
           {
            "colorbar": {
             "outlinewidth": 0,
             "ticks": ""
            },
            "colorscale": [
             [
              0,
              "#0d0887"
             ],
             [
              0.1111111111111111,
              "#46039f"
             ],
             [
              0.2222222222222222,
              "#7201a8"
             ],
             [
              0.3333333333333333,
              "#9c179e"
             ],
             [
              0.4444444444444444,
              "#bd3786"
             ],
             [
              0.5555555555555556,
              "#d8576b"
             ],
             [
              0.6666666666666666,
              "#ed7953"
             ],
             [
              0.7777777777777778,
              "#fb9f3a"
             ],
             [
              0.8888888888888888,
              "#fdca26"
             ],
             [
              1,
              "#f0f921"
             ]
            ],
            "type": "surface"
           }
          ],
          "table": [
           {
            "cells": {
             "fill": {
              "color": "#EBF0F8"
             },
             "line": {
              "color": "white"
             }
            },
            "header": {
             "fill": {
              "color": "#C8D4E3"
             },
             "line": {
              "color": "white"
             }
            },
            "type": "table"
           }
          ]
         },
         "layout": {
          "annotationdefaults": {
           "arrowcolor": "#2a3f5f",
           "arrowhead": 0,
           "arrowwidth": 1
          },
          "autotypenumbers": "strict",
          "coloraxis": {
           "colorbar": {
            "outlinewidth": 0,
            "ticks": ""
           }
          },
          "colorscale": {
           "diverging": [
            [
             0,
             "#8e0152"
            ],
            [
             0.1,
             "#c51b7d"
            ],
            [
             0.2,
             "#de77ae"
            ],
            [
             0.3,
             "#f1b6da"
            ],
            [
             0.4,
             "#fde0ef"
            ],
            [
             0.5,
             "#f7f7f7"
            ],
            [
             0.6,
             "#e6f5d0"
            ],
            [
             0.7,
             "#b8e186"
            ],
            [
             0.8,
             "#7fbc41"
            ],
            [
             0.9,
             "#4d9221"
            ],
            [
             1,
             "#276419"
            ]
           ],
           "sequential": [
            [
             0,
             "#0d0887"
            ],
            [
             0.1111111111111111,
             "#46039f"
            ],
            [
             0.2222222222222222,
             "#7201a8"
            ],
            [
             0.3333333333333333,
             "#9c179e"
            ],
            [
             0.4444444444444444,
             "#bd3786"
            ],
            [
             0.5555555555555556,
             "#d8576b"
            ],
            [
             0.6666666666666666,
             "#ed7953"
            ],
            [
             0.7777777777777778,
             "#fb9f3a"
            ],
            [
             0.8888888888888888,
             "#fdca26"
            ],
            [
             1,
             "#f0f921"
            ]
           ],
           "sequentialminus": [
            [
             0,
             "#0d0887"
            ],
            [
             0.1111111111111111,
             "#46039f"
            ],
            [
             0.2222222222222222,
             "#7201a8"
            ],
            [
             0.3333333333333333,
             "#9c179e"
            ],
            [
             0.4444444444444444,
             "#bd3786"
            ],
            [
             0.5555555555555556,
             "#d8576b"
            ],
            [
             0.6666666666666666,
             "#ed7953"
            ],
            [
             0.7777777777777778,
             "#fb9f3a"
            ],
            [
             0.8888888888888888,
             "#fdca26"
            ],
            [
             1,
             "#f0f921"
            ]
           ]
          },
          "colorway": [
           "#636efa",
           "#EF553B",
           "#00cc96",
           "#ab63fa",
           "#FFA15A",
           "#19d3f3",
           "#FF6692",
           "#B6E880",
           "#FF97FF",
           "#FECB52"
          ],
          "font": {
           "color": "#2a3f5f"
          },
          "geo": {
           "bgcolor": "white",
           "lakecolor": "white",
           "landcolor": "#E5ECF6",
           "showlakes": true,
           "showland": true,
           "subunitcolor": "white"
          },
          "hoverlabel": {
           "align": "left"
          },
          "hovermode": "closest",
          "mapbox": {
           "style": "light"
          },
          "paper_bgcolor": "white",
          "plot_bgcolor": "#E5ECF6",
          "polar": {
           "angularaxis": {
            "gridcolor": "white",
            "linecolor": "white",
            "ticks": ""
           },
           "bgcolor": "#E5ECF6",
           "radialaxis": {
            "gridcolor": "white",
            "linecolor": "white",
            "ticks": ""
           }
          },
          "scene": {
           "xaxis": {
            "backgroundcolor": "#E5ECF6",
            "gridcolor": "white",
            "gridwidth": 2,
            "linecolor": "white",
            "showbackground": true,
            "ticks": "",
            "zerolinecolor": "white"
           },
           "yaxis": {
            "backgroundcolor": "#E5ECF6",
            "gridcolor": "white",
            "gridwidth": 2,
            "linecolor": "white",
            "showbackground": true,
            "ticks": "",
            "zerolinecolor": "white"
           },
           "zaxis": {
            "backgroundcolor": "#E5ECF6",
            "gridcolor": "white",
            "gridwidth": 2,
            "linecolor": "white",
            "showbackground": true,
            "ticks": "",
            "zerolinecolor": "white"
           }
          },
          "shapedefaults": {
           "line": {
            "color": "#2a3f5f"
           }
          },
          "ternary": {
           "aaxis": {
            "gridcolor": "white",
            "linecolor": "white",
            "ticks": ""
           },
           "baxis": {
            "gridcolor": "white",
            "linecolor": "white",
            "ticks": ""
           },
           "bgcolor": "#E5ECF6",
           "caxis": {
            "gridcolor": "white",
            "linecolor": "white",
            "ticks": ""
           }
          },
          "title": {
           "x": 0.05
          },
          "xaxis": {
           "automargin": true,
           "gridcolor": "white",
           "linecolor": "white",
           "ticks": "",
           "title": {
            "standoff": 15
           },
           "zerolinecolor": "white",
           "zerolinewidth": 2
          },
          "yaxis": {
           "automargin": true,
           "gridcolor": "white",
           "linecolor": "white",
           "ticks": "",
           "title": {
            "standoff": 15
           },
           "zerolinecolor": "white",
           "zerolinewidth": 2
          }
         }
        },
        "xaxis": {
         "anchor": "y",
         "domain": [
          0,
          1
         ],
         "title": {
          "text": "Date"
         }
        },
        "yaxis": {
         "anchor": "x",
         "domain": [
          0,
          1
         ],
         "title": {
          "text": "Sales"
         }
        }
       }
      }
     },
     "metadata": {},
     "output_type": "display_data"
    }
   ],
   "source": [
    "fig = px.line(df_store_x, x=\"Date\", y=\"Sales\")\n",
    "fig.show()"
   ]
  },
  {
   "cell_type": "markdown",
   "id": "86687b1f-35cd-4dda-9b0e-866580328334",
   "metadata": {},
   "source": [
    "#### Exploring seasonal decomposition using moving averages."
   ]
  },
  {
   "cell_type": "code",
   "execution_count": 16,
   "id": "ca7c675f",
   "metadata": {},
   "outputs": [
    {
     "data": {
      "image/png": "[encoded data removed]",
      "text/plain": [
       "<Figure size 640x480 with 4 Axes>"
      ]
     },
     "execution_count": 16,
     "metadata": {},
     "output_type": "execute_result"
    },
    {
     "data": {
      "image/png": "[encoded data removed]",
      "text/plain": [
       "<Figure size 640x480 with 4 Axes>"
      ]
     },
     "metadata": {},
     "output_type": "display_data"
    }
   ],
   "source": [
    "seasonal_decompose(df_store_x['Sales'], period=365).plot()"
   ]
  },
  {
   "cell_type": "markdown",
   "id": "ea8a04c8",
   "metadata": {},
   "source": [
    "#### Verify stationarity assumtion "
   ]
  },
  {
   "cell_type": "code",
   "execution_count": 17,
   "id": "86bd1539",
   "metadata": {},
   "outputs": [],
   "source": [
    "adf_res = adfuller(df_store_x['Sales'])"
   ]
  },
  {
   "cell_type": "code",
   "execution_count": 18,
   "id": "ad9b6391",
   "metadata": {},
   "outputs": [],
   "source": [
    "labels = ['Augmented Dickey-Fuller test','p-value','number of lags used', 'no of obs', 'critical values', 'icbest']\n",
    "out = pd.Series(adf_res,index=labels)"
   ]
  },
  {
   "cell_type": "code",
   "execution_count": 19,
   "id": "ceb57c6e",
   "metadata": {},
   "outputs": [
    {
     "data": {
      "text/plain": [
       "Augmented Dickey-Fuller test                                            -4.862315\n",
       "p-value                                                                  0.000041\n",
       "number of lags used                                                            21\n",
       "no of obs                                                                     920\n",
       "critical values                 {'1%': -3.4374778690219956, '5%': -2.864686684...\n",
       "icbest                                                               16796.574734\n",
       "dtype: object"
      ]
     },
     "execution_count": 19,
     "metadata": {},
     "output_type": "execute_result"
    }
   ],
   "source": [
    "out"
   ]
  },
  {
   "cell_type": "markdown",
   "id": "a56426ce",
   "metadata": {},
   "source": [
    "Since p value is less than 0.05 there is string evidence that data is stationary"
   ]
  },
  {
   "cell_type": "markdown",
   "id": "9c44250d",
   "metadata": {},
   "source": [
    "### ACF PACF plots"
   ]
  },
  {
   "cell_type": "code",
   "execution_count": 20,
   "id": "e501eecb",
   "metadata": {},
   "outputs": [
    {
     "data": {
      "text/plain": [
       "array([ 1.        , -0.05640717,  0.00334498,  0.04599894, -0.02189872,\n",
       "       -0.1285885 , -0.23812849,  0.48184466, -0.24852527, -0.17217988,\n",
       "       -0.02619316, -0.00576241, -0.058012  , -0.09010434,  0.69873741,\n",
       "       -0.09526309, -0.02886049,  0.01066504, -0.00817778, -0.10765653,\n",
       "       -0.21350794,  0.53254246, -0.22436679, -0.1118264 , -0.00992994,\n",
       "        0.00828895, -0.05460151, -0.1353296 ,  0.65730458, -0.10441206,\n",
       "       -0.03542967,  0.00414869, -0.00487372, -0.0863739 , -0.17839469,\n",
       "        0.55257595, -0.18250545, -0.09852669,  0.00636639,  0.01015266,\n",
       "       -0.07489407, -0.12102585,  0.59380382, -0.14320865, -0.0599614 ,\n",
       "       -0.00159797,  0.0132978 , -0.0886084 , -0.1797799 ,  0.58667622,\n",
       "       -0.19708949])"
      ]
     },
     "execution_count": 20,
     "metadata": {},
     "output_type": "execute_result"
    }
   ],
   "source": [
    "acf(df_store_x['Sales'], nlags=50)"
   ]
  },
  {
   "cell_type": "code",
   "execution_count": 21,
   "id": "03c0ba96",
   "metadata": {},
   "outputs": [
    {
     "data": {
      "image/png": "[encoded data removed]",
      "text/plain": [
       "<Figure size 640x480 with 1 Axes>"
      ]
     },
     "execution_count": 21,
     "metadata": {},
     "output_type": "execute_result"
    },
    {
     "data": {
      "image/png": "[encoded data removed]",
      "text/plain": [
       "<Figure size 640x480 with 1 Axes>"
      ]
     },
     "metadata": {},
     "output_type": "display_data"
    }
   ],
   "source": [
    "# plot_acf(df2,title=title,lags=lags);\n",
    "plot_acf(df_store_x['Sales'], lags=50)"
   ]
  },
  {
   "cell_type": "code",
   "execution_count": 22,
   "id": "566f1297",
   "metadata": {},
   "outputs": [
    {
     "data": {
      "image/png": "[encoded data removed]",
      "text/plain": [
       "<Figure size 640x480 with 1 Axes>"
      ]
     },
     "execution_count": 22,
     "metadata": {},
     "output_type": "execute_result"
    },
    {
     "data": {
      "image/png": "[encoded data removed]",
      "text/plain": [
       "<Figure size 640x480 with 1 Axes>"
      ]
     },
     "metadata": {},
     "output_type": "display_data"
    }
   ],
   "source": [
    "plot_pacf(df_store_x['Sales'], lags=50)"
   ]
  },
  {
   "cell_type": "markdown",
   "id": "6ab90074-1b15-4bd3-b940-c4613721df8b",
   "metadata": {},
   "source": [
    "ACF plot reflects a 7 day seasonality "
   ]
  },
  {
   "cell_type": "markdown",
   "id": "663f746d",
   "metadata": {},
   "source": [
    "#### Train test split "
   ]
  },
  {
   "cell_type": "code",
   "execution_count": 23,
   "id": "2b0d48db",
   "metadata": {},
   "outputs": [],
   "source": [
    "store_train_df = df_store_x[:-50]\n",
    "store_test_df = df_store_x[-50:]"
   ]
  },
  {
   "cell_type": "markdown",
   "id": "6cc688d8-fdca-47ab-a91f-3ed8f6a9eaf9",
   "metadata": {},
   "source": [
    "## SARIMA model"
   ]
  },
  {
   "cell_type": "code",
   "execution_count": 24,
   "id": "ddd96306-50f1-4fe1-9b12-f6c5ff7539b7",
   "metadata": {},
   "outputs": [
    {
     "name": "stdout",
     "output_type": "stream",
     "text": [
      "Performing stepwise search to minimize aic\n",
      " ARIMA(0,0,0)(1,0,1)[7] intercept   : AIC=inf, Time=0.63 sec\n",
      " ARIMA(0,0,0)(0,0,0)[7] intercept   : AIC=18062.020, Time=0.01 sec\n",
      " ARIMA(1,0,0)(1,0,0)[7] intercept   : AIC=17991.450, Time=0.08 sec\n",
      " ARIMA(0,0,1)(0,0,1)[7] intercept   : AIC=17957.563, Time=0.14 sec\n",
      " ARIMA(0,0,0)(0,0,0)[7]             : AIC=19461.490, Time=0.01 sec\n",
      " ARIMA(0,0,1)(0,0,0)[7] intercept   : AIC=18061.274, Time=0.02 sec\n",
      " ARIMA(0,0,1)(1,0,1)[7] intercept   : AIC=17952.404, Time=0.33 sec\n",
      " ARIMA(0,0,1)(1,0,0)[7] intercept   : AIC=18020.764, Time=0.11 sec\n",
      " ARIMA(0,0,1)(2,0,1)[7] intercept   : AIC=17643.569, Time=1.04 sec\n",
      " ARIMA(0,0,1)(2,0,0)[7] intercept   : AIC=17953.702, Time=0.53 sec\n",
      " ARIMA(0,0,1)(3,0,1)[7] intercept   : AIC=inf, Time=3.61 sec\n",
      " ARIMA(0,0,1)(2,0,2)[7] intercept   : AIC=17637.897, Time=2.66 sec\n",
      " ARIMA(0,0,1)(1,0,2)[7] intercept   : AIC=17758.400, Time=1.09 sec\n",
      " ARIMA(0,0,1)(3,0,2)[7] intercept   : AIC=inf, Time=4.46 sec\n",
      " ARIMA(0,0,1)(2,0,3)[7] intercept   : AIC=inf, Time=5.43 sec\n",
      " ARIMA(0,0,1)(1,0,3)[7] intercept   : AIC=17637.589, Time=4.64 sec\n",
      " ARIMA(0,0,1)(0,0,3)[7] intercept   : AIC=17726.263, Time=0.91 sec\n",
      " ARIMA(0,0,1)(1,0,4)[7] intercept   : AIC=17508.565, Time=8.52 sec\n",
      " ARIMA(0,0,1)(0,0,4)[7] intercept   : AIC=17507.547, Time=3.95 sec\n",
      " ARIMA(0,0,1)(0,0,5)[7] intercept   : AIC=17498.822, Time=6.64 sec\n",
      " ARIMA(0,0,1)(1,0,5)[7] intercept   : AIC=17500.640, Time=15.17 sec\n",
      " ARIMA(0,0,1)(0,0,6)[7] intercept   : AIC=17449.112, Time=10.71 sec\n",
      " ARIMA(0,0,1)(1,0,6)[7] intercept   : AIC=17447.609, Time=22.57 sec\n",
      " ARIMA(0,0,1)(2,0,6)[7] intercept   : AIC=17615.252, Time=21.21 sec\n",
      " ARIMA(0,0,1)(1,0,7)[7] intercept   : AIC=17594.488, Time=34.11 sec\n",
      " ARIMA(0,0,1)(0,0,7)[7] intercept   : AIC=17392.469, Time=16.51 sec\n",
      " ARIMA(0,0,1)(0,0,8)[7] intercept   : AIC=17360.658, Time=22.75 sec\n",
      " ARIMA(0,0,1)(1,0,8)[7] intercept   : AIC=inf, Time=46.23 sec\n",
      " ARIMA(0,0,0)(0,0,8)[7] intercept   : AIC=17371.755, Time=20.78 sec\n",
      " ARIMA(1,0,1)(0,0,8)[7] intercept   : AIC=17362.485, Time=28.36 sec\n",
      " ARIMA(0,0,2)(0,0,8)[7] intercept   : AIC=17348.235, Time=27.00 sec\n",
      " ARIMA(0,0,2)(0,0,7)[7] intercept   : AIC=17379.581, Time=17.43 sec\n",
      " ARIMA(0,0,2)(1,0,8)[7] intercept   : AIC=17574.190, Time=56.99 sec\n",
      " ARIMA(0,0,2)(1,0,7)[7] intercept   : AIC=17573.158, Time=33.58 sec\n",
      " ARIMA(1,0,2)(0,0,8)[7] intercept   : AIC=17354.019, Time=40.73 sec\n",
      " ARIMA(0,0,3)(0,0,8)[7] intercept   : AIC=17332.235, Time=27.07 sec\n",
      " ARIMA(0,0,3)(0,0,7)[7] intercept   : AIC=17357.990, Time=21.41 sec\n",
      " ARIMA(0,0,3)(1,0,8)[7] intercept   : AIC=17576.485, Time=53.80 sec\n",
      " ARIMA(0,0,3)(1,0,7)[7] intercept   : AIC=17432.996, Time=38.97 sec\n",
      " ARIMA(1,0,3)(0,0,8)[7] intercept   : AIC=17336.376, Time=35.50 sec\n",
      " ARIMA(0,0,4)(0,0,8)[7] intercept   : AIC=17334.258, Time=32.91 sec\n",
      " ARIMA(1,0,4)(0,0,8)[7] intercept   : AIC=17336.218, Time=53.70 sec\n",
      " ARIMA(0,0,3)(0,0,8)[7]             : AIC=17516.282, Time=35.20 sec\n",
      "\n",
      "Best model:  ARIMA(0,0,3)(0,0,8)[7] intercept\n",
      "Total fit time: 757.553 seconds\n"
     ]
    }
   ],
   "source": [
    "search_res = auto_arima(df_store_x['Sales'], start_p=0, start_q=0, max_p=3, max_q=8, seasonal=True, \n",
    "                        m=7, max_P=8, max_D=4, max_Q=8, trace=True)"
   ]
  },
  {
   "cell_type": "code",
   "execution_count": 25,
   "id": "3cec2b47-99bc-4364-90d2-057cb066d763",
   "metadata": {},
   "outputs": [
    {
     "data": {
      "text/html": [
       "<table class=\"simpletable\">\n",
       "<caption>SARIMAX Results</caption>\n",
       "<tr>\n",
       "  <th>Dep. Variable:</th>                             <td>y</td>                          <th>  No. Observations:  </th>    <td>942</td>   \n",
       "</tr>\n",
       "<tr>\n",
       "  <th>Model:</th>           <td>SARIMAX(0, 0, 3)x(0, 0, [1, 2, 3, 4, 5, 6, 7, 8], 7)</td> <th>  Log Likelihood     </th> <td>-8653.117</td>\n",
       "</tr>\n",
       "<tr>\n",
       "  <th>Date:</th>                              <td>Sat, 01 Jun 2024</td>                   <th>  AIC                </th> <td>17332.235</td>\n",
       "</tr>\n",
       "<tr>\n",
       "  <th>Time:</th>                                  <td>23:12:27</td>                       <th>  BIC                </th> <td>17395.259</td>\n",
       "</tr>\n",
       "<tr>\n",
       "  <th>Sample:</th>                                    <td>0</td>                          <th>  HQIC               </th> <td>17356.258</td>\n",
       "</tr>\n",
       "<tr>\n",
       "  <th></th>                                        <td> - 942</td>                        <th>                     </th>     <td> </td>    \n",
       "</tr>\n",
       "<tr>\n",
       "  <th>Covariance Type:</th>                          <td>opg</td>                         <th>                     </th>     <td> </td>    \n",
       "</tr>\n",
       "</table>\n",
       "<table class=\"simpletable\">\n",
       "<tr>\n",
       "      <td></td>         <th>coef</th>     <th>std err</th>      <th>z</th>      <th>P>|z|</th>  <th>[0.025</th>    <th>0.975]</th>  \n",
       "</tr>\n",
       "<tr>\n",
       "  <th>intercept</th> <td> 6483.2172</td> <td>  346.935</td> <td>   18.687</td> <td> 0.000</td> <td> 5803.236</td> <td> 7163.198</td>\n",
       "</tr>\n",
       "<tr>\n",
       "  <th>ma.L1</th>     <td>    0.1193</td> <td>    0.024</td> <td>    4.952</td> <td> 0.000</td> <td>    0.072</td> <td>    0.167</td>\n",
       "</tr>\n",
       "<tr>\n",
       "  <th>ma.L2</th>     <td>    0.1521</td> <td>    0.033</td> <td>    4.606</td> <td> 0.000</td> <td>    0.087</td> <td>    0.217</td>\n",
       "</tr>\n",
       "<tr>\n",
       "  <th>ma.L3</th>     <td>    0.1474</td> <td>    0.026</td> <td>    5.708</td> <td> 0.000</td> <td>    0.097</td> <td>    0.198</td>\n",
       "</tr>\n",
       "<tr>\n",
       "  <th>ma.S.L7</th>   <td>    0.1140</td> <td>    0.030</td> <td>    3.776</td> <td> 0.000</td> <td>    0.055</td> <td>    0.173</td>\n",
       "</tr>\n",
       "<tr>\n",
       "  <th>ma.S.L14</th>  <td>    0.4530</td> <td>    0.027</td> <td>   16.677</td> <td> 0.000</td> <td>    0.400</td> <td>    0.506</td>\n",
       "</tr>\n",
       "<tr>\n",
       "  <th>ma.S.L21</th>  <td>    0.2192</td> <td>    0.032</td> <td>    6.927</td> <td> 0.000</td> <td>    0.157</td> <td>    0.281</td>\n",
       "</tr>\n",
       "<tr>\n",
       "  <th>ma.S.L28</th>  <td>    0.4419</td> <td>    0.030</td> <td>   14.691</td> <td> 0.000</td> <td>    0.383</td> <td>    0.501</td>\n",
       "</tr>\n",
       "<tr>\n",
       "  <th>ma.S.L35</th>  <td>    0.2061</td> <td>    0.033</td> <td>    6.184</td> <td> 0.000</td> <td>    0.141</td> <td>    0.271</td>\n",
       "</tr>\n",
       "<tr>\n",
       "  <th>ma.S.L42</th>  <td>    0.2753</td> <td>    0.032</td> <td>    8.543</td> <td> 0.000</td> <td>    0.212</td> <td>    0.338</td>\n",
       "</tr>\n",
       "<tr>\n",
       "  <th>ma.S.L49</th>  <td>    0.2405</td> <td>    0.030</td> <td>    7.949</td> <td> 0.000</td> <td>    0.181</td> <td>    0.300</td>\n",
       "</tr>\n",
       "<tr>\n",
       "  <th>ma.S.L56</th>  <td>    0.1726</td> <td>    0.035</td> <td>    4.911</td> <td> 0.000</td> <td>    0.104</td> <td>    0.241</td>\n",
       "</tr>\n",
       "<tr>\n",
       "  <th>sigma2</th>    <td> 5.518e+06</td> <td> 1.98e+05</td> <td>   27.902</td> <td> 0.000</td> <td> 5.13e+06</td> <td> 5.91e+06</td>\n",
       "</tr>\n",
       "</table>\n",
       "<table class=\"simpletable\">\n",
       "<tr>\n",
       "  <th>Ljung-Box (L1) (Q):</th>     <td>0.00</td> <th>  Jarque-Bera (JB):  </th> <td>188.03</td>\n",
       "</tr>\n",
       "<tr>\n",
       "  <th>Prob(Q):</th>                <td>0.98</td> <th>  Prob(JB):          </th>  <td>0.00</td> \n",
       "</tr>\n",
       "<tr>\n",
       "  <th>Heteroskedasticity (H):</th> <td>1.15</td> <th>  Skew:              </th>  <td>-0.45</td>\n",
       "</tr>\n",
       "<tr>\n",
       "  <th>Prob(H) (two-sided):</th>    <td>0.22</td> <th>  Kurtosis:          </th>  <td>5.00</td> \n",
       "</tr>\n",
       "</table><br/><br/>Warnings:<br/>[1] Covariance matrix calculated using the outer product of gradients (complex-step)."
      ],
      "text/latex": [
       "\\begin{center}\n",
       "\\begin{tabular}{lclc}\n",
       "\\toprule\n",
       "\\textbf{Dep. Variable:}          &                          y                           & \\textbf{  No. Observations:  } &    942      \\\\\n",
       "\\textbf{Model:}                  & SARIMAX(0, 0, 3)x(0, 0, [1, 2, 3, 4, 5, 6, 7, 8], 7) & \\textbf{  Log Likelihood     } & -8653.117   \\\\\n",
       "\\textbf{Date:}                   &                   Sat, 01 Jun 2024                   & \\textbf{  AIC                } & 17332.235   \\\\\n",
       "\\textbf{Time:}                   &                       23:12:27                       & \\textbf{  BIC                } & 17395.259   \\\\\n",
       "\\textbf{Sample:}                 &                          0                           & \\textbf{  HQIC               } & 17356.258   \\\\\n",
       "\\textbf{}                        &                         - 942                        & \\textbf{                     } &             \\\\\n",
       "\\textbf{Covariance Type:}        &                         opg                          & \\textbf{                     } &             \\\\\n",
       "\\bottomrule\n",
       "\\end{tabular}\n",
       "\\begin{tabular}{lcccccc}\n",
       "                   & \\textbf{coef} & \\textbf{std err} & \\textbf{z} & \\textbf{P$> |$z$|$} & \\textbf{[0.025} & \\textbf{0.975]}  \\\\\n",
       "\\midrule\n",
       "\\textbf{intercept} &    6483.2172  &      346.935     &    18.687  &         0.000        &     5803.236    &     7163.198     \\\\\n",
       "\\textbf{ma.L1}     &       0.1193  &        0.024     &     4.952  &         0.000        &        0.072    &        0.167     \\\\\n",
       "\\textbf{ma.L2}     &       0.1521  &        0.033     &     4.606  &         0.000        &        0.087    &        0.217     \\\\\n",
       "\\textbf{ma.L3}     &       0.1474  &        0.026     &     5.708  &         0.000        &        0.097    &        0.198     \\\\\n",
       "\\textbf{ma.S.L7}   &       0.1140  &        0.030     &     3.776  &         0.000        &        0.055    &        0.173     \\\\\n",
       "\\textbf{ma.S.L14}  &       0.4530  &        0.027     &    16.677  &         0.000        &        0.400    &        0.506     \\\\\n",
       "\\textbf{ma.S.L21}  &       0.2192  &        0.032     &     6.927  &         0.000        &        0.157    &        0.281     \\\\\n",
       "\\textbf{ma.S.L28}  &       0.4419  &        0.030     &    14.691  &         0.000        &        0.383    &        0.501     \\\\\n",
       "\\textbf{ma.S.L35}  &       0.2061  &        0.033     &     6.184  &         0.000        &        0.141    &        0.271     \\\\\n",
       "\\textbf{ma.S.L42}  &       0.2753  &        0.032     &     8.543  &         0.000        &        0.212    &        0.338     \\\\\n",
       "\\textbf{ma.S.L49}  &       0.2405  &        0.030     &     7.949  &         0.000        &        0.181    &        0.300     \\\\\n",
       "\\textbf{ma.S.L56}  &       0.1726  &        0.035     &     4.911  &         0.000        &        0.104    &        0.241     \\\\\n",
       "\\textbf{sigma2}    &    5.518e+06  &     1.98e+05     &    27.902  &         0.000        &     5.13e+06    &     5.91e+06     \\\\\n",
       "\\bottomrule\n",
       "\\end{tabular}\n",
       "\\begin{tabular}{lclc}\n",
       "\\textbf{Ljung-Box (L1) (Q):}     & 0.00 & \\textbf{  Jarque-Bera (JB):  } & 188.03  \\\\\n",
       "\\textbf{Prob(Q):}                & 0.98 & \\textbf{  Prob(JB):          } &  0.00   \\\\\n",
       "\\textbf{Heteroskedasticity (H):} & 1.15 & \\textbf{  Skew:              } & -0.45   \\\\\n",
       "\\textbf{Prob(H) (two-sided):}    & 0.22 & \\textbf{  Kurtosis:          } &  5.00   \\\\\n",
       "\\bottomrule\n",
       "\\end{tabular}\n",
       "%\\caption{SARIMAX Results}\n",
       "\\end{center}\n",
       "\n",
       "Warnings: \\newline\n",
       " [1] Covariance matrix calculated using the outer product of gradients (complex-step)."
      ],
      "text/plain": [
       "<class 'statsmodels.iolib.summary.Summary'>\n",
       "\"\"\"\n",
       "                                                SARIMAX Results                                                 \n",
       "================================================================================================================\n",
       "Dep. Variable:                                                        y   No. Observations:                  942\n",
       "Model:             SARIMAX(0, 0, 3)x(0, 0, [1, 2, 3, 4, 5, 6, 7, 8], 7)   Log Likelihood               -8653.117\n",
       "Date:                                                  Sat, 01 Jun 2024   AIC                          17332.235\n",
       "Time:                                                          23:12:27   BIC                          17395.259\n",
       "Sample:                                                               0   HQIC                         17356.258\n",
       "                                                                  - 942                                         \n",
       "Covariance Type:                                                    opg                                         \n",
       "==============================================================================\n",
       "                 coef    std err          z      P>|z|      [0.025      0.975]\n",
       "------------------------------------------------------------------------------\n",
       "intercept   6483.2172    346.935     18.687      0.000    5803.236    7163.198\n",
       "ma.L1          0.1193      0.024      4.952      0.000       0.072       0.167\n",
       "ma.L2          0.1521      0.033      4.606      0.000       0.087       0.217\n",
       "ma.L3          0.1474      0.026      5.708      0.000       0.097       0.198\n",
       "ma.S.L7        0.1140      0.030      3.776      0.000       0.055       0.173\n",
       "ma.S.L14       0.4530      0.027     16.677      0.000       0.400       0.506\n",
       "ma.S.L21       0.2192      0.032      6.927      0.000       0.157       0.281\n",
       "ma.S.L28       0.4419      0.030     14.691      0.000       0.383       0.501\n",
       "ma.S.L35       0.2061      0.033      6.184      0.000       0.141       0.271\n",
       "ma.S.L42       0.2753      0.032      8.543      0.000       0.212       0.338\n",
       "ma.S.L49       0.2405      0.030      7.949      0.000       0.181       0.300\n",
       "ma.S.L56       0.1726      0.035      4.911      0.000       0.104       0.241\n",
       "sigma2      5.518e+06   1.98e+05     27.902      0.000    5.13e+06    5.91e+06\n",
       "===================================================================================\n",
       "Ljung-Box (L1) (Q):                   0.00   Jarque-Bera (JB):               188.03\n",
       "Prob(Q):                              0.98   Prob(JB):                         0.00\n",
       "Heteroskedasticity (H):               1.15   Skew:                            -0.45\n",
       "Prob(H) (two-sided):                  0.22   Kurtosis:                         5.00\n",
       "===================================================================================\n",
       "\n",
       "Warnings:\n",
       "[1] Covariance matrix calculated using the outer product of gradients (complex-step).\n",
       "\"\"\""
      ]
     },
     "execution_count": 25,
     "metadata": {},
     "output_type": "execute_result"
    }
   ],
   "source": [
    "search_res.summary()"
   ]
  },
  {
   "cell_type": "code",
   "execution_count": null,
   "id": "bccdcfcc-15c1-427e-a687-5b9461923800",
   "metadata": {},
   "outputs": [],
   "source": [
    "sarima = SARIMAX(store_train_df['Sales'], order=(0, 0, 3), seasonal_order=(0, 0, 8, 7))\n",
    "sarima_model = sarima.fit()\n",
    "sarima_model.summary()"
   ]
  },
  {
   "cell_type": "code",
   "execution_count": null,
   "id": "c71cb1d5",
   "metadata": {},
   "outputs": [],
   "source": [
    "start = len(store_train_df)\n",
    "end = start + len(store_test_df) - 1\n",
    "sarima_forecast = sarima_model.predict(start=start, end=end)"
   ]
  },
  {
   "cell_type": "code",
   "execution_count": null,
   "id": "b0d6d4be",
   "metadata": {},
   "outputs": [],
   "source": [
    "forecast_df = store_test_df[['Store', 'Date', 'Sales']].copy()\n",
    "forecast_df['SarimaForecast'] = np.array(sarima_forecast)\n",
    "forecast_df.head()"
   ]
  },
  {
   "cell_type": "markdown",
   "id": "61e02833",
   "metadata": {},
   "source": [
    "## SARIMAX model (with exogenous)"
   ]
  },
  {
   "cell_type": "code",
   "execution_count": 28,
   "id": "594e62aa",
   "metadata": {},
   "outputs": [
    {
     "data": {
      "text/plain": [
       "Index(['Store', 'DayOfWeek', 'Date', 'Sales', 'Customers', 'Open', 'Promo',\n",
       "       'SchoolHoliday', 'StateHoliday__0', 'StateHoliday__a',\n",
       "       'StateHoliday__b', 'StateHoliday__c'],\n",
       "      dtype='object')"
      ]
     },
     "execution_count": 28,
     "metadata": {},
     "output_type": "execute_result"
    }
   ],
   "source": [
    "df_store_x.columns"
   ]
  },
  {
   "cell_type": "code",
   "execution_count": 29,
   "id": "0c916799",
   "metadata": {},
   "outputs": [
    {
     "name": "stdout",
     "output_type": "stream",
     "text": [
      "(942, 9)\n"
     ]
    },
    {
     "data": {
      "text/plain": [
       "array([[   2,    0,    0, ...,    1,    0,    0],\n",
       "       [   3,  900,    1, ...,    0,    0,    0],\n",
       "       [   4,  802,    1, ...,    0,    0,    0],\n",
       "       ...,\n",
       "       [   3,  732,    1, ...,    0,    0,    0],\n",
       "       [   4,  877,    1, ...,    0,    0,    0],\n",
       "       [   5, 1021,    1, ...,    0,    0,    0]])"
      ]
     },
     "execution_count": 29,
     "metadata": {},
     "output_type": "execute_result"
    }
   ],
   "source": [
    "exog_cols = ['DayOfWeek', 'Customers', 'Open', 'Promo', 'SchoolHoliday', 'StateHoliday__0', 'StateHoliday__a',\n",
    "       'StateHoliday__b', 'StateHoliday__c']\n",
    "exog = df_store_x[exog_cols].to_numpy()\n",
    "print(exog.shape)\n",
    "exog\n"
   ]
  },
  {
   "cell_type": "code",
   "execution_count": 30,
   "id": "1a4e559e",
   "metadata": {},
   "outputs": [
    {
     "name": "stdout",
     "output_type": "stream",
     "text": [
      "Performing stepwise search to minimize aic\n",
      " ARIMA(0,1,0)(1,0,1)[7] intercept   : AIC=inf, Time=1.14 sec\n",
      " ARIMA(0,1,0)(0,0,0)[7] intercept   : AIC=14726.973, Time=0.05 sec\n",
      " ARIMA(1,1,0)(1,0,0)[7] intercept   : AIC=14508.460, Time=1.15 sec\n",
      " ARIMA(0,1,1)(0,0,1)[7] intercept   : AIC=14342.843, Time=2.09 sec\n",
      " ARIMA(0,1,0)(0,0,0)[7]             : AIC=14724.974, Time=0.35 sec\n",
      " ARIMA(0,1,1)(0,0,0)[7] intercept   : AIC=14310.804, Time=0.79 sec\n",
      " ARIMA(0,1,1)(1,0,0)[7] intercept   : AIC=14343.131, Time=1.18 sec\n",
      " ARIMA(0,1,1)(1,0,1)[7] intercept   : AIC=inf, Time=1.88 sec\n",
      " ARIMA(1,1,1)(0,0,0)[7] intercept   : AIC=14311.129, Time=0.82 sec\n",
      " ARIMA(0,1,2)(0,0,0)[7] intercept   : AIC=14315.095, Time=0.76 sec\n",
      " ARIMA(1,1,0)(0,0,0)[7] intercept   : AIC=14506.747, Time=0.64 sec\n",
      " ARIMA(1,1,2)(0,0,0)[7] intercept   : AIC=14314.682, Time=0.93 sec\n",
      " ARIMA(0,1,1)(0,0,0)[7]             : AIC=14309.438, Time=0.64 sec\n",
      " ARIMA(0,1,1)(1,0,0)[7]             : AIC=14310.822, Time=1.09 sec\n",
      " ARIMA(0,1,1)(0,0,1)[7]             : AIC=14339.640, Time=2.00 sec\n",
      " ARIMA(0,1,1)(1,0,1)[7]             : AIC=inf, Time=2.72 sec\n",
      " ARIMA(1,1,1)(0,0,0)[7]             : AIC=14309.867, Time=0.71 sec\n",
      " ARIMA(0,1,2)(0,0,0)[7]             : AIC=14309.144, Time=0.74 sec\n",
      " ARIMA(0,1,2)(1,0,0)[7]             : AIC=14314.243, Time=1.17 sec\n",
      " ARIMA(0,1,2)(0,0,1)[7]             : AIC=14315.008, Time=1.73 sec\n",
      " ARIMA(0,1,2)(1,0,1)[7]             : AIC=inf, Time=1.98 sec\n",
      " ARIMA(1,1,2)(0,0,0)[7]             : AIC=14313.625, Time=0.90 sec\n",
      " ARIMA(0,1,3)(0,0,0)[7]             : AIC=14301.661, Time=0.91 sec\n",
      " ARIMA(0,1,3)(1,0,0)[7]             : AIC=14302.643, Time=1.19 sec\n",
      " ARIMA(0,1,3)(0,0,1)[7]             : AIC=14305.485, Time=1.67 sec\n",
      " ARIMA(0,1,3)(1,0,1)[7]             : AIC=inf, Time=2.14 sec\n",
      " ARIMA(1,1,3)(0,0,0)[7]             : AIC=14330.287, Time=1.06 sec\n",
      " ARIMA(0,1,4)(0,0,0)[7]             : AIC=14303.015, Time=0.99 sec\n",
      " ARIMA(1,1,4)(0,0,0)[7]             : AIC=14300.145, Time=1.06 sec\n",
      " ARIMA(1,1,4)(1,0,0)[7]             : AIC=14302.563, Time=1.70 sec\n",
      " ARIMA(1,1,4)(0,0,1)[7]             : AIC=14302.617, Time=2.31 sec\n",
      " ARIMA(1,1,4)(1,0,1)[7]             : AIC=inf, Time=2.60 sec\n",
      " ARIMA(2,1,4)(0,0,0)[7]             : AIC=14261.040, Time=1.22 sec\n",
      " ARIMA(2,1,4)(1,0,0)[7]             : AIC=14257.466, Time=1.95 sec\n",
      " ARIMA(2,1,4)(2,0,0)[7]             : AIC=14242.378, Time=6.70 sec\n",
      " ARIMA(2,1,4)(3,0,0)[7]             : AIC=14244.879, Time=11.24 sec\n",
      " ARIMA(2,1,4)(2,0,1)[7]             : AIC=14244.945, Time=6.68 sec\n",
      " ARIMA(2,1,4)(1,0,1)[7]             : AIC=14236.696, Time=2.75 sec\n",
      " ARIMA(2,1,4)(0,0,1)[7]             : AIC=14259.409, Time=2.62 sec\n",
      " ARIMA(2,1,4)(1,0,2)[7]             : AIC=14251.386, Time=7.96 sec\n",
      " ARIMA(2,1,4)(0,0,2)[7]             : AIC=14255.829, Time=7.25 sec\n",
      " ARIMA(2,1,4)(2,0,2)[7]             : AIC=14225.628, Time=8.61 sec\n",
      " ARIMA(2,1,4)(3,0,2)[7]             : AIC=inf, Time=12.41 sec\n",
      " ARIMA(2,1,4)(2,0,3)[7]             : AIC=inf, Time=16.89 sec\n",
      " ARIMA(2,1,4)(1,0,3)[7]             : AIC=inf, Time=17.28 sec\n",
      " ARIMA(2,1,4)(3,0,1)[7]             : AIC=inf, Time=11.74 sec\n",
      " ARIMA(2,1,4)(3,0,3)[7]             : AIC=inf, Time=16.92 sec\n",
      " ARIMA(1,1,4)(2,0,2)[7]             : AIC=14223.317, Time=7.62 sec\n",
      " ARIMA(1,1,4)(1,0,2)[7]             : AIC=14244.766, Time=7.67 sec\n",
      " ARIMA(1,1,4)(2,0,1)[7]             : AIC=14238.294, Time=5.22 sec\n",
      " ARIMA(1,1,4)(3,0,2)[7]             : AIC=inf, Time=11.92 sec\n",
      " ARIMA(1,1,4)(2,0,3)[7]             : AIC=inf, Time=15.29 sec\n",
      " ARIMA(1,1,4)(1,0,3)[7]             : AIC=inf, Time=15.12 sec\n",
      " ARIMA(1,1,4)(3,0,1)[7]             : AIC=inf, Time=11.73 sec\n",
      " ARIMA(1,1,4)(3,0,3)[7]             : AIC=inf, Time=15.74 sec\n",
      " ARIMA(0,1,4)(2,0,2)[7]             : AIC=inf, Time=7.10 sec\n",
      " ARIMA(1,1,3)(2,0,2)[7]             : AIC=inf, Time=7.84 sec\n",
      " ARIMA(1,1,5)(2,0,2)[7]             : AIC=14222.901, Time=9.62 sec\n",
      " ARIMA(1,1,5)(1,0,2)[7]             : AIC=14249.832, Time=9.76 sec\n",
      " ARIMA(1,1,5)(2,0,1)[7]             : AIC=14240.601, Time=5.35 sec\n",
      " ARIMA(1,1,5)(3,0,2)[7]             : AIC=14218.161, Time=12.25 sec\n",
      " ARIMA(1,1,5)(3,0,1)[7]             : AIC=inf, Time=12.09 sec\n",
      " ARIMA(1,1,5)(4,0,2)[7]             : AIC=inf, Time=22.15 sec\n",
      " ARIMA(1,1,5)(3,0,3)[7]             : AIC=inf, Time=16.43 sec\n",
      " ARIMA(1,1,5)(2,0,3)[7]             : AIC=inf, Time=15.46 sec\n",
      " ARIMA(1,1,5)(4,0,1)[7]             : AIC=14226.184, Time=21.50 sec\n",
      " ARIMA(1,1,5)(4,0,3)[7]             : AIC=inf, Time=25.29 sec\n",
      " ARIMA(0,1,5)(3,0,2)[7]             : AIC=inf, Time=10.61 sec\n",
      " ARIMA(2,1,5)(3,0,2)[7]             : AIC=inf, Time=12.16 sec\n",
      " ARIMA(1,1,6)(3,0,2)[7]             : AIC=inf, Time=13.44 sec\n",
      " ARIMA(0,1,4)(3,0,2)[7]             : AIC=14233.117, Time=10.16 sec\n",
      " ARIMA(0,1,6)(3,0,2)[7]             : AIC=inf, Time=11.56 sec\n",
      " ARIMA(2,1,6)(3,0,2)[7]             : AIC=inf, Time=13.10 sec\n",
      " ARIMA(1,1,5)(3,0,2)[7] intercept   : AIC=inf, Time=15.37 sec\n",
      "\n",
      "Best model:  ARIMA(1,1,5)(3,0,2)[7]          \n",
      "Total fit time: 515.031 seconds\n"
     ]
    }
   ],
   "source": [
    "search_res = auto_arima(df_store_x['Sales'], exog, start_p=0, start_q=0, max_p=3, max_q=8, seasonal=True, \n",
    "                        m=7, max_P=8, max_D=4, max_Q=8, trace=True)"
   ]
  },
  {
   "cell_type": "code",
   "execution_count": 32,
   "id": "d6ea7c1b",
   "metadata": {},
   "outputs": [
    {
     "data": {
      "text/html": [
       "<table class=\"simpletable\">\n",
       "<caption>SARIMAX Results</caption>\n",
       "<tr>\n",
       "  <th>Dep. Variable:</th>                    <td>y</td>                 <th>  No. Observations:  </th>    <td>942</td>   \n",
       "</tr>\n",
       "<tr>\n",
       "  <th>Model:</th>           <td>SARIMAX(1, 1, 5)x(3, 0, [1, 2], 7)</td> <th>  Log Likelihood     </th> <td>-7088.081</td>\n",
       "</tr>\n",
       "<tr>\n",
       "  <th>Date:</th>                     <td>Sat, 01 Jun 2024</td>          <th>  AIC                </th> <td>14218.161</td>\n",
       "</tr>\n",
       "<tr>\n",
       "  <th>Time:</th>                         <td>21:53:35</td>              <th>  BIC                </th> <td>14319.947</td>\n",
       "</tr>\n",
       "<tr>\n",
       "  <th>Sample:</th>                           <td>0</td>                 <th>  HQIC               </th> <td>14256.961</td>\n",
       "</tr>\n",
       "<tr>\n",
       "  <th></th>                               <td> - 942</td>               <th>                     </th>     <td> </td>    \n",
       "</tr>\n",
       "<tr>\n",
       "  <th>Covariance Type:</th>                 <td>opg</td>                <th>                     </th>     <td> </td>    \n",
       "</tr>\n",
       "</table>\n",
       "<table class=\"simpletable\">\n",
       "<tr>\n",
       "      <td></td>        <th>coef</th>     <th>std err</th>      <th>z</th>      <th>P>|z|</th>  <th>[0.025</th>    <th>0.975]</th>  \n",
       "</tr>\n",
       "<tr>\n",
       "  <th>x1</th>       <td>  -95.0637</td> <td>   43.296</td> <td>   -2.196</td> <td> 0.028</td> <td> -179.922</td> <td>  -10.205</td>\n",
       "</tr>\n",
       "<tr>\n",
       "  <th>x2</th>       <td>    9.5532</td> <td>    0.122</td> <td>   78.039</td> <td> 0.000</td> <td>    9.313</td> <td>    9.793</td>\n",
       "</tr>\n",
       "<tr>\n",
       "  <th>x3</th>       <td>-1975.3456</td> <td>  371.026</td> <td>   -5.324</td> <td> 0.000</td> <td>-2702.544</td> <td>-1248.147</td>\n",
       "</tr>\n",
       "<tr>\n",
       "  <th>x4</th>       <td> 1222.0734</td> <td>   66.745</td> <td>   18.310</td> <td> 0.000</td> <td> 1091.256</td> <td> 1352.891</td>\n",
       "</tr>\n",
       "<tr>\n",
       "  <th>x5</th>       <td>   81.8760</td> <td>   55.847</td> <td>    1.466</td> <td> 0.143</td> <td>  -27.583</td> <td>  191.335</td>\n",
       "</tr>\n",
       "<tr>\n",
       "  <th>x6</th>       <td>  496.0034</td> <td> 4988.166</td> <td>    0.099</td> <td> 0.921</td> <td>-9280.623</td> <td> 1.03e+04</td>\n",
       "</tr>\n",
       "<tr>\n",
       "  <th>x7</th>       <td> -335.8065</td> <td> 4970.355</td> <td>   -0.068</td> <td> 0.946</td> <td>-1.01e+04</td> <td> 9405.911</td>\n",
       "</tr>\n",
       "<tr>\n",
       "  <th>x8</th>       <td>   38.9406</td> <td> 4962.916</td> <td>    0.008</td> <td> 0.994</td> <td>-9688.196</td> <td> 9766.077</td>\n",
       "</tr>\n",
       "<tr>\n",
       "  <th>x9</th>       <td> -199.1429</td> <td> 4974.826</td> <td>   -0.040</td> <td> 0.968</td> <td>-9949.622</td> <td> 9551.336</td>\n",
       "</tr>\n",
       "<tr>\n",
       "  <th>ar.L1</th>    <td>   -0.8434</td> <td>    0.156</td> <td>   -5.411</td> <td> 0.000</td> <td>   -1.149</td> <td>   -0.538</td>\n",
       "</tr>\n",
       "<tr>\n",
       "  <th>ma.L1</th>    <td>    0.1361</td> <td>    0.158</td> <td>    0.862</td> <td> 0.389</td> <td>   -0.173</td> <td>    0.446</td>\n",
       "</tr>\n",
       "<tr>\n",
       "  <th>ma.L2</th>    <td>   -0.7142</td> <td>    0.115</td> <td>   -6.194</td> <td> 0.000</td> <td>   -0.940</td> <td>   -0.488</td>\n",
       "</tr>\n",
       "<tr>\n",
       "  <th>ma.L3</th>    <td>   -0.1605</td> <td>    0.048</td> <td>   -3.369</td> <td> 0.001</td> <td>   -0.254</td> <td>   -0.067</td>\n",
       "</tr>\n",
       "<tr>\n",
       "  <th>ma.L4</th>    <td>   -0.1427</td> <td>    0.041</td> <td>   -3.522</td> <td> 0.000</td> <td>   -0.222</td> <td>   -0.063</td>\n",
       "</tr>\n",
       "<tr>\n",
       "  <th>ma.L5</th>    <td>   -0.0154</td> <td>    0.049</td> <td>   -0.318</td> <td> 0.750</td> <td>   -0.110</td> <td>    0.080</td>\n",
       "</tr>\n",
       "<tr>\n",
       "  <th>ar.S.L7</th>  <td>    0.3989</td> <td>    0.166</td> <td>    2.399</td> <td> 0.016</td> <td>    0.073</td> <td>    0.725</td>\n",
       "</tr>\n",
       "<tr>\n",
       "  <th>ar.S.L14</th> <td>    0.6774</td> <td>    0.112</td> <td>    6.070</td> <td> 0.000</td> <td>    0.459</td> <td>    0.896</td>\n",
       "</tr>\n",
       "<tr>\n",
       "  <th>ar.S.L21</th> <td>   -0.1042</td> <td>    0.060</td> <td>   -1.724</td> <td> 0.085</td> <td>   -0.223</td> <td>    0.014</td>\n",
       "</tr>\n",
       "<tr>\n",
       "  <th>ma.S.L7</th>  <td>   -0.4384</td> <td>    0.163</td> <td>   -2.693</td> <td> 0.007</td> <td>   -0.757</td> <td>   -0.119</td>\n",
       "</tr>\n",
       "<tr>\n",
       "  <th>ma.S.L14</th> <td>   -0.4540</td> <td>    0.134</td> <td>   -3.384</td> <td> 0.001</td> <td>   -0.717</td> <td>   -0.191</td>\n",
       "</tr>\n",
       "<tr>\n",
       "  <th>sigma2</th>   <td> 2.274e+05</td> <td> 9528.884</td> <td>   23.863</td> <td> 0.000</td> <td> 2.09e+05</td> <td> 2.46e+05</td>\n",
       "</tr>\n",
       "</table>\n",
       "<table class=\"simpletable\">\n",
       "<tr>\n",
       "  <th>Ljung-Box (L1) (Q):</th>     <td>0.00</td> <th>  Jarque-Bera (JB):  </th> <td>290.47</td>\n",
       "</tr>\n",
       "<tr>\n",
       "  <th>Prob(Q):</th>                <td>0.99</td> <th>  Prob(JB):          </th>  <td>0.00</td> \n",
       "</tr>\n",
       "<tr>\n",
       "  <th>Heteroskedasticity (H):</th> <td>1.68</td> <th>  Skew:              </th>  <td>0.69</td> \n",
       "</tr>\n",
       "<tr>\n",
       "  <th>Prob(H) (two-sided):</th>    <td>0.00</td> <th>  Kurtosis:          </th>  <td>5.34</td> \n",
       "</tr>\n",
       "</table><br/><br/>Warnings:<br/>[1] Covariance matrix calculated using the outer product of gradients (complex-step)."
      ],
      "text/latex": [
       "\\begin{center}\n",
       "\\begin{tabular}{lclc}\n",
       "\\toprule\n",
       "\\textbf{Dep. Variable:}          &                 y                  & \\textbf{  No. Observations:  } &    942      \\\\\n",
       "\\textbf{Model:}                  & SARIMAX(1, 1, 5)x(3, 0, [1, 2], 7) & \\textbf{  Log Likelihood     } & -7088.081   \\\\\n",
       "\\textbf{Date:}                   &          Sat, 01 Jun 2024          & \\textbf{  AIC                } & 14218.161   \\\\\n",
       "\\textbf{Time:}                   &              21:53:35              & \\textbf{  BIC                } & 14319.947   \\\\\n",
       "\\textbf{Sample:}                 &                 0                  & \\textbf{  HQIC               } & 14256.961   \\\\\n",
       "\\textbf{}                        &                - 942               & \\textbf{                     } &             \\\\\n",
       "\\textbf{Covariance Type:}        &                opg                 & \\textbf{                     } &             \\\\\n",
       "\\bottomrule\n",
       "\\end{tabular}\n",
       "\\begin{tabular}{lcccccc}\n",
       "                  & \\textbf{coef} & \\textbf{std err} & \\textbf{z} & \\textbf{P$> |$z$|$} & \\textbf{[0.025} & \\textbf{0.975]}  \\\\\n",
       "\\midrule\n",
       "\\textbf{x1}       &     -95.0637  &       43.296     &    -2.196  &         0.028        &     -179.922    &      -10.205     \\\\\n",
       "\\textbf{x2}       &       9.5532  &        0.122     &    78.039  &         0.000        &        9.313    &        9.793     \\\\\n",
       "\\textbf{x3}       &   -1975.3456  &      371.026     &    -5.324  &         0.000        &    -2702.544    &    -1248.147     \\\\\n",
       "\\textbf{x4}       &    1222.0734  &       66.745     &    18.310  &         0.000        &     1091.256    &     1352.891     \\\\\n",
       "\\textbf{x5}       &      81.8760  &       55.847     &     1.466  &         0.143        &      -27.583    &      191.335     \\\\\n",
       "\\textbf{x6}       &     496.0034  &     4988.166     &     0.099  &         0.921        &    -9280.623    &     1.03e+04     \\\\\n",
       "\\textbf{x7}       &    -335.8065  &     4970.355     &    -0.068  &         0.946        &    -1.01e+04    &     9405.911     \\\\\n",
       "\\textbf{x8}       &      38.9406  &     4962.916     &     0.008  &         0.994        &    -9688.196    &     9766.077     \\\\\n",
       "\\textbf{x9}       &    -199.1429  &     4974.826     &    -0.040  &         0.968        &    -9949.622    &     9551.336     \\\\\n",
       "\\textbf{ar.L1}    &      -0.8434  &        0.156     &    -5.411  &         0.000        &       -1.149    &       -0.538     \\\\\n",
       "\\textbf{ma.L1}    &       0.1361  &        0.158     &     0.862  &         0.389        &       -0.173    &        0.446     \\\\\n",
       "\\textbf{ma.L2}    &      -0.7142  &        0.115     &    -6.194  &         0.000        &       -0.940    &       -0.488     \\\\\n",
       "\\textbf{ma.L3}    &      -0.1605  &        0.048     &    -3.369  &         0.001        &       -0.254    &       -0.067     \\\\\n",
       "\\textbf{ma.L4}    &      -0.1427  &        0.041     &    -3.522  &         0.000        &       -0.222    &       -0.063     \\\\\n",
       "\\textbf{ma.L5}    &      -0.0154  &        0.049     &    -0.318  &         0.750        &       -0.110    &        0.080     \\\\\n",
       "\\textbf{ar.S.L7}  &       0.3989  &        0.166     &     2.399  &         0.016        &        0.073    &        0.725     \\\\\n",
       "\\textbf{ar.S.L14} &       0.6774  &        0.112     &     6.070  &         0.000        &        0.459    &        0.896     \\\\\n",
       "\\textbf{ar.S.L21} &      -0.1042  &        0.060     &    -1.724  &         0.085        &       -0.223    &        0.014     \\\\\n",
       "\\textbf{ma.S.L7}  &      -0.4384  &        0.163     &    -2.693  &         0.007        &       -0.757    &       -0.119     \\\\\n",
       "\\textbf{ma.S.L14} &      -0.4540  &        0.134     &    -3.384  &         0.001        &       -0.717    &       -0.191     \\\\\n",
       "\\textbf{sigma2}   &    2.274e+05  &     9528.884     &    23.863  &         0.000        &     2.09e+05    &     2.46e+05     \\\\\n",
       "\\bottomrule\n",
       "\\end{tabular}\n",
       "\\begin{tabular}{lclc}\n",
       "\\textbf{Ljung-Box (L1) (Q):}     & 0.00 & \\textbf{  Jarque-Bera (JB):  } & 290.47  \\\\\n",
       "\\textbf{Prob(Q):}                & 0.99 & \\textbf{  Prob(JB):          } &  0.00   \\\\\n",
       "\\textbf{Heteroskedasticity (H):} & 1.68 & \\textbf{  Skew:              } &  0.69   \\\\\n",
       "\\textbf{Prob(H) (two-sided):}    & 0.00 & \\textbf{  Kurtosis:          } &  5.34   \\\\\n",
       "\\bottomrule\n",
       "\\end{tabular}\n",
       "%\\caption{SARIMAX Results}\n",
       "\\end{center}\n",
       "\n",
       "Warnings: \\newline\n",
       " [1] Covariance matrix calculated using the outer product of gradients (complex-step)."
      ],
      "text/plain": [
       "<class 'statsmodels.iolib.summary.Summary'>\n",
       "\"\"\"\n",
       "                                       SARIMAX Results                                        \n",
       "==============================================================================================\n",
       "Dep. Variable:                                      y   No. Observations:                  942\n",
       "Model:             SARIMAX(1, 1, 5)x(3, 0, [1, 2], 7)   Log Likelihood               -7088.081\n",
       "Date:                                Sat, 01 Jun 2024   AIC                          14218.161\n",
       "Time:                                        21:53:35   BIC                          14319.947\n",
       "Sample:                                             0   HQIC                         14256.961\n",
       "                                                - 942                                         \n",
       "Covariance Type:                                  opg                                         \n",
       "==============================================================================\n",
       "                 coef    std err          z      P>|z|      [0.025      0.975]\n",
       "------------------------------------------------------------------------------\n",
       "x1           -95.0637     43.296     -2.196      0.028    -179.922     -10.205\n",
       "x2             9.5532      0.122     78.039      0.000       9.313       9.793\n",
       "x3         -1975.3456    371.026     -5.324      0.000   -2702.544   -1248.147\n",
       "x4          1222.0734     66.745     18.310      0.000    1091.256    1352.891\n",
       "x5            81.8760     55.847      1.466      0.143     -27.583     191.335\n",
       "x6           496.0034   4988.166      0.099      0.921   -9280.623    1.03e+04\n",
       "x7          -335.8065   4970.355     -0.068      0.946   -1.01e+04    9405.911\n",
       "x8            38.9406   4962.916      0.008      0.994   -9688.196    9766.077\n",
       "x9          -199.1429   4974.826     -0.040      0.968   -9949.622    9551.336\n",
       "ar.L1         -0.8434      0.156     -5.411      0.000      -1.149      -0.538\n",
       "ma.L1          0.1361      0.158      0.862      0.389      -0.173       0.446\n",
       "ma.L2         -0.7142      0.115     -6.194      0.000      -0.940      -0.488\n",
       "ma.L3         -0.1605      0.048     -3.369      0.001      -0.254      -0.067\n",
       "ma.L4         -0.1427      0.041     -3.522      0.000      -0.222      -0.063\n",
       "ma.L5         -0.0154      0.049     -0.318      0.750      -0.110       0.080\n",
       "ar.S.L7        0.3989      0.166      2.399      0.016       0.073       0.725\n",
       "ar.S.L14       0.6774      0.112      6.070      0.000       0.459       0.896\n",
       "ar.S.L21      -0.1042      0.060     -1.724      0.085      -0.223       0.014\n",
       "ma.S.L7       -0.4384      0.163     -2.693      0.007      -0.757      -0.119\n",
       "ma.S.L14      -0.4540      0.134     -3.384      0.001      -0.717      -0.191\n",
       "sigma2      2.274e+05   9528.884     23.863      0.000    2.09e+05    2.46e+05\n",
       "===================================================================================\n",
       "Ljung-Box (L1) (Q):                   0.00   Jarque-Bera (JB):               290.47\n",
       "Prob(Q):                              0.99   Prob(JB):                         0.00\n",
       "Heteroskedasticity (H):               1.68   Skew:                             0.69\n",
       "Prob(H) (two-sided):                  0.00   Kurtosis:                         5.34\n",
       "===================================================================================\n",
       "\n",
       "Warnings:\n",
       "[1] Covariance matrix calculated using the outer product of gradients (complex-step).\n",
       "\"\"\""
      ]
     },
     "execution_count": 32,
     "metadata": {},
     "output_type": "execute_result"
    }
   ],
   "source": [
    "search_res.summary()"
   ]
  },
  {
   "cell_type": "code",
   "execution_count": 33,
   "id": "7a010ea1",
   "metadata": {},
   "outputs": [],
   "source": [
    "store_train_df = df_store_x[:-50]\n",
    "store_test_df = df_store_x[-50:]"
   ]
  },
  {
   "cell_type": "code",
   "execution_count": 35,
   "id": "4700f0a9",
   "metadata": {},
   "outputs": [
    {
     "name": "stderr",
     "output_type": "stream",
     "text": [
      "/home/harsh242/mambaforge/envs/notebook/lib/python3.10/site-packages/statsmodels/tsa/base/tsa_model.py:473: ValueWarning:\n",
      "\n",
      "An unsupported index was provided and will be ignored when e.g. forecasting.\n",
      "\n",
      "/home/harsh242/mambaforge/envs/notebook/lib/python3.10/site-packages/statsmodels/tsa/base/tsa_model.py:473: ValueWarning:\n",
      "\n",
      "An unsupported index was provided and will be ignored when e.g. forecasting.\n",
      "\n",
      " This problem is unconstrained.\n"
     ]
    },
    {
     "name": "stdout",
     "output_type": "stream",
     "text": [
      "RUNNING THE L-BFGS-B CODE\n",
      "\n",
      "           * * *\n",
      "\n",
      "Machine precision = 2.220D-16\n",
      " N =           19     M =           10\n",
      "\n",
      "At X0         0 variables are exactly at the bounds\n",
      "\n",
      "At iterate    0    f=  7.55673D+00    |proj g|=  5.65071D-02\n",
      "\n",
      "At iterate    5    f=  7.55355D+00    |proj g|=  3.75152D-03\n",
      "\n",
      "At iterate   10    f=  7.55097D+00    |proj g|=  3.39163D-02\n",
      "\n",
      "At iterate   15    f=  7.54903D+00    |proj g|=  3.89916D-03\n",
      "\n",
      "At iterate   20    f=  7.54854D+00    |proj g|=  1.15554D-03\n",
      "\n",
      "At iterate   25    f=  7.54850D+00    |proj g|=  2.91093D-03\n",
      "\n",
      "At iterate   30    f=  7.54831D+00    |proj g|=  1.41304D-03\n",
      "\n",
      "At iterate   35    f=  7.54828D+00    |proj g|=  1.48839D-03\n",
      "\n",
      "At iterate   40    f=  7.54827D+00    |proj g|=  2.25461D-04\n",
      "\n",
      "At iterate   45    f=  7.54824D+00    |proj g|=  3.10702D-03\n",
      "\n",
      "At iterate   50    f=  7.54749D+00    |proj g|=  1.30179D-02\n",
      "\n",
      "           * * *\n",
      "\n",
      "Tit   = total number of iterations\n",
      "Tnf   = total number of function evaluations\n",
      "Tnint = total number of segments explored during Cauchy searches\n",
      "Skip  = number of BFGS updates skipped\n",
      "Nact  = number of active bounds at final generalized Cauchy point\n",
      "Projg = norm of the final projected gradient\n",
      "F     = final function value\n",
      "\n",
      "           * * *\n",
      "\n",
      "   N    Tit     Tnf  Tnint  Skip  Nact     Projg        F\n",
      "   19     50     58      1     0     0   1.302D-02   7.547D+00\n",
      "  F =   7.5474869756133831     \n",
      "\n",
      "STOP: TOTAL NO. of ITERATIONS REACHED LIMIT                 \n"
     ]
    },
    {
     "name": "stderr",
     "output_type": "stream",
     "text": [
      "/home/harsh242/mambaforge/envs/notebook/lib/python3.10/site-packages/statsmodels/base/model.py:607: ConvergenceWarning:\n",
      "\n",
      "Maximum Likelihood optimization failed to converge. Check mle_retvals\n",
      "\n"
     ]
    },
    {
     "data": {
      "text/html": [
       "<table class=\"simpletable\">\n",
       "<caption>SARIMAX Results</caption>\n",
       "<tr>\n",
       "  <th>Dep. Variable:</th>                <td>Sales</td>             <th>  No. Observations:  </th>    <td>892</td>   \n",
       "</tr>\n",
       "<tr>\n",
       "  <th>Model:</th>           <td>SARIMAX(1, 1, 5)x(3, 0, [], 2)</td> <th>  Log Likelihood     </th> <td>-6732.358</td>\n",
       "</tr>\n",
       "<tr>\n",
       "  <th>Date:</th>                   <td>Sat, 01 Jun 2024</td>        <th>  AIC                </th> <td>13502.717</td>\n",
       "</tr>\n",
       "<tr>\n",
       "  <th>Time:</th>                       <td>21:58:06</td>            <th>  BIC                </th> <td>13593.771</td>\n",
       "</tr>\n",
       "<tr>\n",
       "  <th>Sample:</th>                         <td>0</td>               <th>  HQIC               </th> <td>13537.517</td>\n",
       "</tr>\n",
       "<tr>\n",
       "  <th></th>                             <td> - 892</td>             <th>                     </th>     <td> </td>    \n",
       "</tr>\n",
       "<tr>\n",
       "  <th>Covariance Type:</th>               <td>opg</td>              <th>                     </th>     <td> </td>    \n",
       "</tr>\n",
       "</table>\n",
       "<table class=\"simpletable\">\n",
       "<tr>\n",
       "         <td></td>            <th>coef</th>     <th>std err</th>      <th>z</th>      <th>P>|z|</th>  <th>[0.025</th>    <th>0.975]</th>  \n",
       "</tr>\n",
       "<tr>\n",
       "  <th>DayOfWeek</th>       <td>  -88.4650</td> <td>   12.737</td> <td>   -6.945</td> <td> 0.000</td> <td> -113.430</td> <td>  -63.500</td>\n",
       "</tr>\n",
       "<tr>\n",
       "  <th>Customers</th>       <td>    9.6282</td> <td>    0.107</td> <td>   90.061</td> <td> 0.000</td> <td>    9.419</td> <td>    9.838</td>\n",
       "</tr>\n",
       "<tr>\n",
       "  <th>Open</th>            <td>-2063.4120</td> <td>  134.971</td> <td>  -15.288</td> <td> 0.000</td> <td>-2327.950</td> <td>-1798.874</td>\n",
       "</tr>\n",
       "<tr>\n",
       "  <th>Promo</th>           <td> 1218.7718</td> <td>   61.496</td> <td>   19.819</td> <td> 0.000</td> <td> 1098.241</td> <td> 1339.302</td>\n",
       "</tr>\n",
       "<tr>\n",
       "  <th>SchoolHoliday</th>   <td>   25.8510</td> <td>   52.562</td> <td>    0.492</td> <td> 0.623</td> <td>  -77.169</td> <td>  128.871</td>\n",
       "</tr>\n",
       "<tr>\n",
       "  <th>StateHoliday__0</th> <td>  512.6235</td> <td> 6813.872</td> <td>    0.075</td> <td> 0.940</td> <td>-1.28e+04</td> <td> 1.39e+04</td>\n",
       "</tr>\n",
       "<tr>\n",
       "  <th>StateHoliday__a</th> <td> -354.0714</td> <td> 6815.376</td> <td>   -0.052</td> <td> 0.959</td> <td>-1.37e+04</td> <td>  1.3e+04</td>\n",
       "</tr>\n",
       "<tr>\n",
       "  <th>StateHoliday__b</th> <td>   62.7425</td> <td> 6807.680</td> <td>    0.009</td> <td> 0.993</td> <td>-1.33e+04</td> <td> 1.34e+04</td>\n",
       "</tr>\n",
       "<tr>\n",
       "  <th>StateHoliday__c</th> <td> -221.3007</td> <td> 6817.753</td> <td>   -0.032</td> <td> 0.974</td> <td>-1.36e+04</td> <td> 1.31e+04</td>\n",
       "</tr>\n",
       "<tr>\n",
       "  <th>ar.L1</th>           <td>   -0.9239</td> <td>    0.105</td> <td>   -8.832</td> <td> 0.000</td> <td>   -1.129</td> <td>   -0.719</td>\n",
       "</tr>\n",
       "<tr>\n",
       "  <th>ma.L1</th>           <td>    0.2314</td> <td>    0.112</td> <td>    2.061</td> <td> 0.039</td> <td>    0.011</td> <td>    0.452</td>\n",
       "</tr>\n",
       "<tr>\n",
       "  <th>ma.L2</th>           <td>   -1.4200</td> <td>    0.237</td> <td>   -5.996</td> <td> 0.000</td> <td>   -1.884</td> <td>   -0.956</td>\n",
       "</tr>\n",
       "<tr>\n",
       "  <th>ma.L3</th>           <td>   -0.3457</td> <td>    0.104</td> <td>   -3.335</td> <td> 0.001</td> <td>   -0.549</td> <td>   -0.142</td>\n",
       "</tr>\n",
       "<tr>\n",
       "  <th>ma.L4</th>           <td>    0.4879</td> <td>    0.222</td> <td>    2.195</td> <td> 0.028</td> <td>    0.052</td> <td>    0.924</td>\n",
       "</tr>\n",
       "<tr>\n",
       "  <th>ma.L5</th>           <td>    0.1121</td> <td>    0.065</td> <td>    1.718</td> <td> 0.086</td> <td>   -0.016</td> <td>    0.240</td>\n",
       "</tr>\n",
       "<tr>\n",
       "  <th>ar.S.L2</th>         <td>    0.6432</td> <td>    0.258</td> <td>    2.495</td> <td> 0.013</td> <td>    0.138</td> <td>    1.148</td>\n",
       "</tr>\n",
       "<tr>\n",
       "  <th>ar.S.L4</th>         <td>   -0.1388</td> <td>    0.063</td> <td>   -2.215</td> <td> 0.027</td> <td>   -0.262</td> <td>   -0.016</td>\n",
       "</tr>\n",
       "<tr>\n",
       "  <th>ar.S.L6</th>         <td>   -0.0877</td> <td>    0.050</td> <td>   -1.740</td> <td> 0.082</td> <td>   -0.186</td> <td>    0.011</td>\n",
       "</tr>\n",
       "<tr>\n",
       "  <th>sigma2</th>          <td> 2.212e+05</td> <td> 9407.920</td> <td>   23.510</td> <td> 0.000</td> <td> 2.03e+05</td> <td>  2.4e+05</td>\n",
       "</tr>\n",
       "</table>\n",
       "<table class=\"simpletable\">\n",
       "<tr>\n",
       "  <th>Ljung-Box (L1) (Q):</th>     <td>0.03</td> <th>  Jarque-Bera (JB):  </th> <td>266.85</td>\n",
       "</tr>\n",
       "<tr>\n",
       "  <th>Prob(Q):</th>                <td>0.86</td> <th>  Prob(JB):          </th>  <td>0.00</td> \n",
       "</tr>\n",
       "<tr>\n",
       "  <th>Heteroskedasticity (H):</th> <td>1.53</td> <th>  Skew:              </th>  <td>0.66</td> \n",
       "</tr>\n",
       "<tr>\n",
       "  <th>Prob(H) (two-sided):</th>    <td>0.00</td> <th>  Kurtosis:          </th>  <td>5.33</td> \n",
       "</tr>\n",
       "</table><br/><br/>Warnings:<br/>[1] Covariance matrix calculated using the outer product of gradients (complex-step)."
      ],
      "text/latex": [
       "\\begin{center}\n",
       "\\begin{tabular}{lclc}\n",
       "\\toprule\n",
       "\\textbf{Dep. Variable:}          &             Sales              & \\textbf{  No. Observations:  } &    892      \\\\\n",
       "\\textbf{Model:}                  & SARIMAX(1, 1, 5)x(3, 0, [], 2) & \\textbf{  Log Likelihood     } & -6732.358   \\\\\n",
       "\\textbf{Date:}                   &        Sat, 01 Jun 2024        & \\textbf{  AIC                } & 13502.717   \\\\\n",
       "\\textbf{Time:}                   &            21:58:06            & \\textbf{  BIC                } & 13593.771   \\\\\n",
       "\\textbf{Sample:}                 &               0                & \\textbf{  HQIC               } & 13537.517   \\\\\n",
       "\\textbf{}                        &              - 892             & \\textbf{                     } &             \\\\\n",
       "\\textbf{Covariance Type:}        &              opg               & \\textbf{                     } &             \\\\\n",
       "\\bottomrule\n",
       "\\end{tabular}\n",
       "\\begin{tabular}{lcccccc}\n",
       "                           & \\textbf{coef} & \\textbf{std err} & \\textbf{z} & \\textbf{P$> |$z$|$} & \\textbf{[0.025} & \\textbf{0.975]}  \\\\\n",
       "\\midrule\n",
       "\\textbf{DayOfWeek}         &     -88.4650  &       12.737     &    -6.945  &         0.000        &     -113.430    &      -63.500     \\\\\n",
       "\\textbf{Customers}         &       9.6282  &        0.107     &    90.061  &         0.000        &        9.419    &        9.838     \\\\\n",
       "\\textbf{Open}              &   -2063.4120  &      134.971     &   -15.288  &         0.000        &    -2327.950    &    -1798.874     \\\\\n",
       "\\textbf{Promo}             &    1218.7718  &       61.496     &    19.819  &         0.000        &     1098.241    &     1339.302     \\\\\n",
       "\\textbf{SchoolHoliday}     &      25.8510  &       52.562     &     0.492  &         0.623        &      -77.169    &      128.871     \\\\\n",
       "\\textbf{StateHoliday\\_\\_0} &     512.6235  &     6813.872     &     0.075  &         0.940        &    -1.28e+04    &     1.39e+04     \\\\\n",
       "\\textbf{StateHoliday\\_\\_a} &    -354.0714  &     6815.376     &    -0.052  &         0.959        &    -1.37e+04    &      1.3e+04     \\\\\n",
       "\\textbf{StateHoliday\\_\\_b} &      62.7425  &     6807.680     &     0.009  &         0.993        &    -1.33e+04    &     1.34e+04     \\\\\n",
       "\\textbf{StateHoliday\\_\\_c} &    -221.3007  &     6817.753     &    -0.032  &         0.974        &    -1.36e+04    &     1.31e+04     \\\\\n",
       "\\textbf{ar.L1}             &      -0.9239  &        0.105     &    -8.832  &         0.000        &       -1.129    &       -0.719     \\\\\n",
       "\\textbf{ma.L1}             &       0.2314  &        0.112     &     2.061  &         0.039        &        0.011    &        0.452     \\\\\n",
       "\\textbf{ma.L2}             &      -1.4200  &        0.237     &    -5.996  &         0.000        &       -1.884    &       -0.956     \\\\\n",
       "\\textbf{ma.L3}             &      -0.3457  &        0.104     &    -3.335  &         0.001        &       -0.549    &       -0.142     \\\\\n",
       "\\textbf{ma.L4}             &       0.4879  &        0.222     &     2.195  &         0.028        &        0.052    &        0.924     \\\\\n",
       "\\textbf{ma.L5}             &       0.1121  &        0.065     &     1.718  &         0.086        &       -0.016    &        0.240     \\\\\n",
       "\\textbf{ar.S.L2}           &       0.6432  &        0.258     &     2.495  &         0.013        &        0.138    &        1.148     \\\\\n",
       "\\textbf{ar.S.L4}           &      -0.1388  &        0.063     &    -2.215  &         0.027        &       -0.262    &       -0.016     \\\\\n",
       "\\textbf{ar.S.L6}           &      -0.0877  &        0.050     &    -1.740  &         0.082        &       -0.186    &        0.011     \\\\\n",
       "\\textbf{sigma2}            &    2.212e+05  &     9407.920     &    23.510  &         0.000        &     2.03e+05    &      2.4e+05     \\\\\n",
       "\\bottomrule\n",
       "\\end{tabular}\n",
       "\\begin{tabular}{lclc}\n",
       "\\textbf{Ljung-Box (L1) (Q):}     & 0.03 & \\textbf{  Jarque-Bera (JB):  } & 266.85  \\\\\n",
       "\\textbf{Prob(Q):}                & 0.86 & \\textbf{  Prob(JB):          } &  0.00   \\\\\n",
       "\\textbf{Heteroskedasticity (H):} & 1.53 & \\textbf{  Skew:              } &  0.66   \\\\\n",
       "\\textbf{Prob(H) (two-sided):}    & 0.00 & \\textbf{  Kurtosis:          } &  5.33   \\\\\n",
       "\\bottomrule\n",
       "\\end{tabular}\n",
       "%\\caption{SARIMAX Results}\n",
       "\\end{center}\n",
       "\n",
       "Warnings: \\newline\n",
       " [1] Covariance matrix calculated using the outer product of gradients (complex-step)."
      ],
      "text/plain": [
       "<class 'statsmodels.iolib.summary.Summary'>\n",
       "\"\"\"\n",
       "                                     SARIMAX Results                                      \n",
       "==========================================================================================\n",
       "Dep. Variable:                              Sales   No. Observations:                  892\n",
       "Model:             SARIMAX(1, 1, 5)x(3, 0, [], 2)   Log Likelihood               -6732.358\n",
       "Date:                            Sat, 01 Jun 2024   AIC                          13502.717\n",
       "Time:                                    21:58:06   BIC                          13593.771\n",
       "Sample:                                         0   HQIC                         13537.517\n",
       "                                            - 892                                         \n",
       "Covariance Type:                              opg                                         \n",
       "===================================================================================\n",
       "                      coef    std err          z      P>|z|      [0.025      0.975]\n",
       "-----------------------------------------------------------------------------------\n",
       "DayOfWeek         -88.4650     12.737     -6.945      0.000    -113.430     -63.500\n",
       "Customers           9.6282      0.107     90.061      0.000       9.419       9.838\n",
       "Open            -2063.4120    134.971    -15.288      0.000   -2327.950   -1798.874\n",
       "Promo            1218.7718     61.496     19.819      0.000    1098.241    1339.302\n",
       "SchoolHoliday      25.8510     52.562      0.492      0.623     -77.169     128.871\n",
       "StateHoliday__0   512.6235   6813.872      0.075      0.940   -1.28e+04    1.39e+04\n",
       "StateHoliday__a  -354.0714   6815.376     -0.052      0.959   -1.37e+04     1.3e+04\n",
       "StateHoliday__b    62.7425   6807.680      0.009      0.993   -1.33e+04    1.34e+04\n",
       "StateHoliday__c  -221.3007   6817.753     -0.032      0.974   -1.36e+04    1.31e+04\n",
       "ar.L1              -0.9239      0.105     -8.832      0.000      -1.129      -0.719\n",
       "ma.L1               0.2314      0.112      2.061      0.039       0.011       0.452\n",
       "ma.L2              -1.4200      0.237     -5.996      0.000      -1.884      -0.956\n",
       "ma.L3              -0.3457      0.104     -3.335      0.001      -0.549      -0.142\n",
       "ma.L4               0.4879      0.222      2.195      0.028       0.052       0.924\n",
       "ma.L5               0.1121      0.065      1.718      0.086      -0.016       0.240\n",
       "ar.S.L2             0.6432      0.258      2.495      0.013       0.138       1.148\n",
       "ar.S.L4            -0.1388      0.063     -2.215      0.027      -0.262      -0.016\n",
       "ar.S.L6            -0.0877      0.050     -1.740      0.082      -0.186       0.011\n",
       "sigma2           2.212e+05   9407.920     23.510      0.000    2.03e+05     2.4e+05\n",
       "===================================================================================\n",
       "Ljung-Box (L1) (Q):                   0.03   Jarque-Bera (JB):               266.85\n",
       "Prob(Q):                              0.86   Prob(JB):                         0.00\n",
       "Heteroskedasticity (H):               1.53   Skew:                             0.66\n",
       "Prob(H) (two-sided):                  0.00   Kurtosis:                         5.33\n",
       "===================================================================================\n",
       "\n",
       "Warnings:\n",
       "[1] Covariance matrix calculated using the outer product of gradients (complex-step).\n",
       "\"\"\""
      ]
     },
     "execution_count": 35,
     "metadata": {},
     "output_type": "execute_result"
    }
   ],
   "source": [
    "model = SARIMAX(store_train_df['Sales'], exog=store_train_df[exog_cols], order=(1, 1, 5), seasonal_order=(3, 0, 0, 2))\n",
    "results = model.fit()\n",
    "results.summary()"
   ]
  },
  {
   "cell_type": "code",
   "execution_count": 36,
   "id": "a71a3264",
   "metadata": {},
   "outputs": [
    {
     "name": "stderr",
     "output_type": "stream",
     "text": [
      "/home/harsh242/mambaforge/envs/notebook/lib/python3.10/site-packages/statsmodels/tsa/base/tsa_model.py:836: ValueWarning:\n",
      "\n",
      "No supported index is available. Prediction results will be given with an integer index beginning at `start`.\n",
      "\n",
      "/home/harsh242/mambaforge/envs/notebook/lib/python3.10/site-packages/statsmodels/tsa/base/tsa_model.py:836: FutureWarning:\n",
      "\n",
      "No supported index is available. In the next version, calling this method in a model without a supported index will result in an exception.\n",
      "\n"
     ]
    }
   ],
   "source": [
    "start = len(store_train_df)\n",
    "end = start + len(store_test_df) - 1\n",
    "forecast = results.predict(start=start, end=end, exog=store_test_df[exog_cols])"
   ]
  },
  {
   "cell_type": "code",
   "execution_count": 192,
   "id": "47f1f8d1",
   "metadata": {},
   "outputs": [
    {
     "data": {
      "text/html": [
       "<div>\n",
       "<style scoped>\n",
       "    .dataframe tbody tr th:only-of-type {\n",
       "        vertical-align: middle;\n",
       "    }\n",
       "\n",
       "    .dataframe tbody tr th {\n",
       "        vertical-align: top;\n",
       "    }\n",
       "\n",
       "    .dataframe thead th {\n",
       "        text-align: right;\n",
       "    }\n",
       "</style>\n",
       "<table border=\"1\" class=\"dataframe\">\n",
       "  <thead>\n",
       "    <tr style=\"text-align: right;\">\n",
       "      <th></th>\n",
       "      <th>Store</th>\n",
       "      <th>DayOfWeek</th>\n",
       "      <th>Date</th>\n",
       "      <th>Sales</th>\n",
       "      <th>Customers</th>\n",
       "      <th>Open</th>\n",
       "      <th>Promo</th>\n",
       "      <th>SchoolHoliday</th>\n",
       "      <th>StateHoliday__0</th>\n",
       "      <th>StateHoliday__a</th>\n",
       "      <th>StateHoliday__b</th>\n",
       "      <th>StateHoliday__c</th>\n",
       "    </tr>\n",
       "  </thead>\n",
       "  <tbody>\n",
       "    <tr>\n",
       "      <th>961563</th>\n",
       "      <td>1011</td>\n",
       "      <td>5</td>\n",
       "      <td>2015-06-12</td>\n",
       "      <td>6048</td>\n",
       "      <td>708</td>\n",
       "      <td>1</td>\n",
       "      <td>0</td>\n",
       "      <td>0</td>\n",
       "      <td>1</td>\n",
       "      <td>0</td>\n",
       "      <td>0</td>\n",
       "      <td>0</td>\n",
       "    </tr>\n",
       "    <tr>\n",
       "      <th>962678</th>\n",
       "      <td>1011</td>\n",
       "      <td>6</td>\n",
       "      <td>2015-06-13</td>\n",
       "      <td>6531</td>\n",
       "      <td>853</td>\n",
       "      <td>1</td>\n",
       "      <td>0</td>\n",
       "      <td>0</td>\n",
       "      <td>1</td>\n",
       "      <td>0</td>\n",
       "      <td>0</td>\n",
       "      <td>0</td>\n",
       "    </tr>\n",
       "    <tr>\n",
       "      <th>963793</th>\n",
       "      <td>1011</td>\n",
       "      <td>7</td>\n",
       "      <td>2015-06-14</td>\n",
       "      <td>0</td>\n",
       "      <td>0</td>\n",
       "      <td>0</td>\n",
       "      <td>0</td>\n",
       "      <td>0</td>\n",
       "      <td>1</td>\n",
       "      <td>0</td>\n",
       "      <td>0</td>\n",
       "      <td>0</td>\n",
       "    </tr>\n",
       "    <tr>\n",
       "      <th>964908</th>\n",
       "      <td>1011</td>\n",
       "      <td>1</td>\n",
       "      <td>2015-06-15</td>\n",
       "      <td>10660</td>\n",
       "      <td>1016</td>\n",
       "      <td>1</td>\n",
       "      <td>1</td>\n",
       "      <td>0</td>\n",
       "      <td>1</td>\n",
       "      <td>0</td>\n",
       "      <td>0</td>\n",
       "      <td>0</td>\n",
       "    </tr>\n",
       "    <tr>\n",
       "      <th>966023</th>\n",
       "      <td>1011</td>\n",
       "      <td>2</td>\n",
       "      <td>2015-06-16</td>\n",
       "      <td>7895</td>\n",
       "      <td>854</td>\n",
       "      <td>1</td>\n",
       "      <td>1</td>\n",
       "      <td>0</td>\n",
       "      <td>1</td>\n",
       "      <td>0</td>\n",
       "      <td>0</td>\n",
       "      <td>0</td>\n",
       "    </tr>\n",
       "  </tbody>\n",
       "</table>\n",
       "</div>"
      ],
      "text/plain": [
       "        Store  DayOfWeek       Date  Sales  Customers  Open  Promo  \\\n",
       "961563   1011          5 2015-06-12   6048        708     1      0   \n",
       "962678   1011          6 2015-06-13   6531        853     1      0   \n",
       "963793   1011          7 2015-06-14      0          0     0      0   \n",
       "964908   1011          1 2015-06-15  10660       1016     1      1   \n",
       "966023   1011          2 2015-06-16   7895        854     1      1   \n",
       "\n",
       "        SchoolHoliday  StateHoliday__0  StateHoliday__a  StateHoliday__b  \\\n",
       "961563              0                1                0                0   \n",
       "962678              0                1                0                0   \n",
       "963793              0                1                0                0   \n",
       "964908              0                1                0                0   \n",
       "966023              0                1                0                0   \n",
       "\n",
       "        StateHoliday__c  \n",
       "961563                0  \n",
       "962678                0  \n",
       "963793                0  \n",
       "964908                0  \n",
       "966023                0  "
      ]
     },
     "execution_count": 192,
     "metadata": {},
     "output_type": "execute_result"
    }
   ],
   "source": [
    "store_test_df.head()"
   ]
  },
  {
   "cell_type": "code",
   "execution_count": 204,
   "id": "e5cd40cb",
   "metadata": {},
   "outputs": [
    {
     "data": {
      "text/html": [
       "<div>\n",
       "<style scoped>\n",
       "    .dataframe tbody tr th:only-of-type {\n",
       "        vertical-align: middle;\n",
       "    }\n",
       "\n",
       "    .dataframe tbody tr th {\n",
       "        vertical-align: top;\n",
       "    }\n",
       "\n",
       "    .dataframe thead th {\n",
       "        text-align: right;\n",
       "    }\n",
       "</style>\n",
       "<table border=\"1\" class=\"dataframe\">\n",
       "  <thead>\n",
       "    <tr style=\"text-align: right;\">\n",
       "      <th></th>\n",
       "      <th>Store</th>\n",
       "      <th>Date</th>\n",
       "      <th>Sales</th>\n",
       "      <th>Forecast</th>\n",
       "    </tr>\n",
       "  </thead>\n",
       "  <tbody>\n",
       "    <tr>\n",
       "      <th>961563</th>\n",
       "      <td>1011</td>\n",
       "      <td>2015-06-12</td>\n",
       "      <td>6048</td>\n",
       "      <td>5241.928458</td>\n",
       "    </tr>\n",
       "    <tr>\n",
       "      <th>962678</th>\n",
       "      <td>1011</td>\n",
       "      <td>2015-06-13</td>\n",
       "      <td>6531</td>\n",
       "      <td>6566.749963</td>\n",
       "    </tr>\n",
       "    <tr>\n",
       "      <th>963793</th>\n",
       "      <td>1011</td>\n",
       "      <td>2015-06-14</td>\n",
       "      <td>0</td>\n",
       "      <td>287.330879</td>\n",
       "    </tr>\n",
       "    <tr>\n",
       "      <th>964908</th>\n",
       "      <td>1011</td>\n",
       "      <td>2015-06-15</td>\n",
       "      <td>10660</td>\n",
       "      <td>9750.550440</td>\n",
       "    </tr>\n",
       "    <tr>\n",
       "      <th>966023</th>\n",
       "      <td>1011</td>\n",
       "      <td>2015-06-16</td>\n",
       "      <td>7895</td>\n",
       "      <td>8110.912645</td>\n",
       "    </tr>\n",
       "  </tbody>\n",
       "</table>\n",
       "</div>"
      ],
      "text/plain": [
       "        Store       Date  Sales     Forecast\n",
       "961563   1011 2015-06-12   6048  5241.928458\n",
       "962678   1011 2015-06-13   6531  6566.749963\n",
       "963793   1011 2015-06-14      0   287.330879\n",
       "964908   1011 2015-06-15  10660  9750.550440\n",
       "966023   1011 2015-06-16   7895  8110.912645"
      ]
     },
     "execution_count": 204,
     "metadata": {},
     "output_type": "execute_result"
    }
   ],
   "source": [
    "forecast_df = store_test_df[['Store', 'Date', 'Sales']].copy()\n",
    "forecast_df['Forecast'] = np.array(forecast)\n",
    "forecast_df.head()"
   ]
  },
  {
   "cell_type": "code",
   "execution_count": 205,
   "id": "0d413c9a",
   "metadata": {},
   "outputs": [
    {
     "data": {
      "text/html": [
       "<div>\n",
       "<style scoped>\n",
       "    .dataframe tbody tr th:only-of-type {\n",
       "        vertical-align: middle;\n",
       "    }\n",
       "\n",
       "    .dataframe tbody tr th {\n",
       "        vertical-align: top;\n",
       "    }\n",
       "\n",
       "    .dataframe thead th {\n",
       "        text-align: right;\n",
       "    }\n",
       "</style>\n",
       "<table border=\"1\" class=\"dataframe\">\n",
       "  <thead>\n",
       "    <tr style=\"text-align: right;\">\n",
       "      <th></th>\n",
       "      <th>Store</th>\n",
       "      <th>Date</th>\n",
       "      <th>Sales</th>\n",
       "      <th>Forecast</th>\n",
       "    </tr>\n",
       "  </thead>\n",
       "  <tbody>\n",
       "    <tr>\n",
       "      <th>1011738</th>\n",
       "      <td>1011</td>\n",
       "      <td>2015-07-27</td>\n",
       "      <td>10066</td>\n",
       "      <td>8681.546095</td>\n",
       "    </tr>\n",
       "    <tr>\n",
       "      <th>1012853</th>\n",
       "      <td>1011</td>\n",
       "      <td>2015-07-28</td>\n",
       "      <td>8673</td>\n",
       "      <td>7936.334936</td>\n",
       "    </tr>\n",
       "    <tr>\n",
       "      <th>1013968</th>\n",
       "      <td>1011</td>\n",
       "      <td>2015-07-29</td>\n",
       "      <td>7755</td>\n",
       "      <td>6867.661284</td>\n",
       "    </tr>\n",
       "    <tr>\n",
       "      <th>1015083</th>\n",
       "      <td>1011</td>\n",
       "      <td>2015-07-30</td>\n",
       "      <td>9227</td>\n",
       "      <td>8173.562015</td>\n",
       "    </tr>\n",
       "    <tr>\n",
       "      <th>1016198</th>\n",
       "      <td>1011</td>\n",
       "      <td>2015-07-31</td>\n",
       "      <td>10134</td>\n",
       "      <td>9473.161573</td>\n",
       "    </tr>\n",
       "  </tbody>\n",
       "</table>\n",
       "</div>"
      ],
      "text/plain": [
       "         Store       Date  Sales     Forecast\n",
       "1011738   1011 2015-07-27  10066  8681.546095\n",
       "1012853   1011 2015-07-28   8673  7936.334936\n",
       "1013968   1011 2015-07-29   7755  6867.661284\n",
       "1015083   1011 2015-07-30   9227  8173.562015\n",
       "1016198   1011 2015-07-31  10134  9473.161573"
      ]
     },
     "execution_count": 205,
     "metadata": {},
     "output_type": "execute_result"
    }
   ],
   "source": [
    "forecast_df.tail()"
   ]
  },
  {
   "cell_type": "code",
   "execution_count": 207,
   "id": "18faa719",
   "metadata": {},
   "outputs": [
    {
     "data": {
      "application/vnd.plotly.v1+json": {
       "config": {
        "plotlyServerURL": "https://plot.ly"
       },
       "data": [
        {
         "hovertemplate": "variable=Sales<br>Date=%{x}<br>value=%{y}<extra></extra>",
         "legendgroup": "Sales",
         "line": {
          "color": "#636efa",
          "dash": "solid"
         },
         "marker": {
          "symbol": "circle"
         },
         "mode": "lines",
         "name": "Sales",
         "orientation": "v",
         "showlegend": true,
         "type": "scatter",
         "x": [
          "2015-06-12T00:00:00",
          "2015-06-13T00:00:00",
          "2015-06-14T00:00:00",
          "2015-06-15T00:00:00",
          "2015-06-16T00:00:00",
          "2015-06-17T00:00:00",
          "2015-06-18T00:00:00",
          "2015-06-19T00:00:00",
          "2015-06-20T00:00:00",
          "2015-06-21T00:00:00",
          "2015-06-22T00:00:00",
          "2015-06-23T00:00:00",
          "2015-06-24T00:00:00",
          "2015-06-25T00:00:00",
          "2015-06-26T00:00:00",
          "2015-06-27T00:00:00",
          "2015-06-28T00:00:00",
          "2015-06-29T00:00:00",
          "2015-06-30T00:00:00",
          "2015-07-01T00:00:00",
          "2015-07-02T00:00:00",
          "2015-07-03T00:00:00",
          "2015-07-04T00:00:00",
          "2015-07-05T00:00:00",
          "2015-07-06T00:00:00",
          "2015-07-07T00:00:00",
          "2015-07-08T00:00:00",
          "2015-07-09T00:00:00",
          "2015-07-10T00:00:00",
          "2015-07-11T00:00:00",
          "2015-07-12T00:00:00",
          "2015-07-13T00:00:00",
          "2015-07-14T00:00:00",
          "2015-07-15T00:00:00",
          "2015-07-16T00:00:00",
          "2015-07-17T00:00:00",
          "2015-07-18T00:00:00",
          "2015-07-19T00:00:00",
          "2015-07-20T00:00:00",
          "2015-07-21T00:00:00",
          "2015-07-22T00:00:00",
          "2015-07-23T00:00:00",
          "2015-07-24T00:00:00",
          "2015-07-25T00:00:00",
          "2015-07-26T00:00:00",
          "2015-07-27T00:00:00",
          "2015-07-28T00:00:00",
          "2015-07-29T00:00:00",
          "2015-07-30T00:00:00",
          "2015-07-31T00:00:00"
         ],
         "xaxis": "x",
         "y": [
          6048,
          6531,
          0,
          10660,
          7895,
          8345,
          6643,
          6953,
          6068,
          0,
          6566,
          6229,
          5765,
          6113,
          5363,
          7717,
          0,
          10840,
          9597,
          7548,
          6694,
          6216,
          5584,
          0,
          6328,
          4947,
          6072,
          6013,
          5398,
          6024,
          0,
          9972,
          7873,
          9101,
          6644,
          7678,
          6105,
          0,
          7181,
          4441,
          8032,
          4995,
          5795,
          4898,
          0,
          10066,
          8673,
          7755,
          9227,
          10134
         ],
         "yaxis": "y"
        },
        {
         "hovertemplate": "variable=Forecast<br>Date=%{x}<br>value=%{y}<extra></extra>",
         "legendgroup": "Forecast",
         "line": {
          "color": "#EF553B",
          "dash": "solid"
         },
         "marker": {
          "symbol": "circle"
         },
         "mode": "lines",
         "name": "Forecast",
         "orientation": "v",
         "showlegend": true,
         "type": "scatter",
         "x": [
          "2015-06-12T00:00:00",
          "2015-06-13T00:00:00",
          "2015-06-14T00:00:00",
          "2015-06-15T00:00:00",
          "2015-06-16T00:00:00",
          "2015-06-17T00:00:00",
          "2015-06-18T00:00:00",
          "2015-06-19T00:00:00",
          "2015-06-20T00:00:00",
          "2015-06-21T00:00:00",
          "2015-06-22T00:00:00",
          "2015-06-23T00:00:00",
          "2015-06-24T00:00:00",
          "2015-06-25T00:00:00",
          "2015-06-26T00:00:00",
          "2015-06-27T00:00:00",
          "2015-06-28T00:00:00",
          "2015-06-29T00:00:00",
          "2015-06-30T00:00:00",
          "2015-07-01T00:00:00",
          "2015-07-02T00:00:00",
          "2015-07-03T00:00:00",
          "2015-07-04T00:00:00",
          "2015-07-05T00:00:00",
          "2015-07-06T00:00:00",
          "2015-07-07T00:00:00",
          "2015-07-08T00:00:00",
          "2015-07-09T00:00:00",
          "2015-07-10T00:00:00",
          "2015-07-11T00:00:00",
          "2015-07-12T00:00:00",
          "2015-07-13T00:00:00",
          "2015-07-14T00:00:00",
          "2015-07-15T00:00:00",
          "2015-07-16T00:00:00",
          "2015-07-17T00:00:00",
          "2015-07-18T00:00:00",
          "2015-07-19T00:00:00",
          "2015-07-20T00:00:00",
          "2015-07-21T00:00:00",
          "2015-07-22T00:00:00",
          "2015-07-23T00:00:00",
          "2015-07-24T00:00:00",
          "2015-07-25T00:00:00",
          "2015-07-26T00:00:00",
          "2015-07-27T00:00:00",
          "2015-07-28T00:00:00",
          "2015-07-29T00:00:00",
          "2015-07-30T00:00:00",
          "2015-07-31T00:00:00"
         ],
         "xaxis": "x",
         "y": [
          5241.928458216792,
          6566.749962773159,
          287.33087909705955,
          9750.550439529914,
          8110.912644922139,
          8046.744159557636,
          7202.7997967481715,
          7024.104739152835,
          6077.902092874368,
          297.9773288471659,
          5796.6574011660905,
          5834.6869839706715,
          5083.838744372619,
          5502.565723438811,
          4911.177694821319,
          6362.175118400297,
          273.1621288827352,
          9576.734382040197,
          9026.492122998476,
          7414.021261642246,
          6915.614735265858,
          6648.296120250234,
          4792.087867661508,
          289.4977213815962,
          6281.598303393687,
          5019.325265718476,
          5489.166622763993,
          5515.752048363306,
          4898.89581616987,
          5466.431347817665,
          280.3320902605349,
          8828.14358352191,
          7905.46669589401,
          8121.173885666023,
          7334.224694069073,
          6990.6332145423,
          5845.646322573248,
          285.79643091375624,
          6256.365163853816,
          4698.292289029322,
          5684.942415190754,
          4954.3876088501775,
          4651.325697457521,
          4404.780655886463,
          282.6787975620438,
          8681.54609501314,
          7936.334935898872,
          6867.661283663234,
          8173.562015081554,
          9473.161572592888
         ],
         "yaxis": "y"
        }
       ],
       "layout": {
        "autosize": true,
        "legend": {
         "title": {
          "text": "variable"
         },
         "tracegroupgap": 0
        },
        "margin": {
         "t": 60
        },
        "template": {
         "data": {
          "bar": [
           {
            "error_x": {
             "color": "#2a3f5f"
            },
            "error_y": {
             "color": "#2a3f5f"
            },
            "marker": {
             "line": {
              "color": "#E5ECF6",
              "width": 0.5
             },
             "pattern": {
              "fillmode": "overlay",
              "size": 10,
              "solidity": 0.2
             }
            },
            "type": "bar"
           }
          ],
          "barpolar": [
           {
            "marker": {
             "line": {
              "color": "#E5ECF6",
              "width": 0.5
             },
             "pattern": {
              "fillmode": "overlay",
              "size": 10,
              "solidity": 0.2
             }
            },
            "type": "barpolar"
           }
          ],
          "carpet": [
           {
            "aaxis": {
             "endlinecolor": "#2a3f5f",
             "gridcolor": "white",
             "linecolor": "white",
             "minorgridcolor": "white",
             "startlinecolor": "#2a3f5f"
            },
            "baxis": {
             "endlinecolor": "#2a3f5f",
             "gridcolor": "white",
             "linecolor": "white",
             "minorgridcolor": "white",
             "startlinecolor": "#2a3f5f"
            },
            "type": "carpet"
           }
          ],
          "choropleth": [
           {
            "colorbar": {
             "outlinewidth": 0,
             "ticks": ""
            },
            "type": "choropleth"
           }
          ],
          "contour": [
           {
            "colorbar": {
             "outlinewidth": 0,
             "ticks": ""
            },
            "colorscale": [
             [
              0,
              "#0d0887"
             ],
             [
              0.1111111111111111,
              "#46039f"
             ],
             [
              0.2222222222222222,
              "#7201a8"
             ],
             [
              0.3333333333333333,
              "#9c179e"
             ],
             [
              0.4444444444444444,
              "#bd3786"
             ],
             [
              0.5555555555555556,
              "#d8576b"
             ],
             [
              0.6666666666666666,
              "#ed7953"
             ],
             [
              0.7777777777777778,
              "#fb9f3a"
             ],
             [
              0.8888888888888888,
              "#fdca26"
             ],
             [
              1,
              "#f0f921"
             ]
            ],
            "type": "contour"
           }
          ],
          "contourcarpet": [
           {
            "colorbar": {
             "outlinewidth": 0,
             "ticks": ""
            },
            "type": "contourcarpet"
           }
          ],
          "heatmap": [
           {
            "colorbar": {
             "outlinewidth": 0,
             "ticks": ""
            },
            "colorscale": [
             [
              0,
              "#0d0887"
             ],
             [
              0.1111111111111111,
              "#46039f"
             ],
             [
              0.2222222222222222,
              "#7201a8"
             ],
             [
              0.3333333333333333,
              "#9c179e"
             ],
             [
              0.4444444444444444,
              "#bd3786"
             ],
             [
              0.5555555555555556,
              "#d8576b"
             ],
             [
              0.6666666666666666,
              "#ed7953"
             ],
             [
              0.7777777777777778,
              "#fb9f3a"
             ],
             [
              0.8888888888888888,
              "#fdca26"
             ],
             [
              1,
              "#f0f921"
             ]
            ],
            "type": "heatmap"
           }
          ],
          "heatmapgl": [
           {
            "colorbar": {
             "outlinewidth": 0,
             "ticks": ""
            },
            "colorscale": [
             [
              0,
              "#0d0887"
             ],
             [
              0.1111111111111111,
              "#46039f"
             ],
             [
              0.2222222222222222,
              "#7201a8"
             ],
             [
              0.3333333333333333,
              "#9c179e"
             ],
             [
              0.4444444444444444,
              "#bd3786"
             ],
             [
              0.5555555555555556,
              "#d8576b"
             ],
             [
              0.6666666666666666,
              "#ed7953"
             ],
             [
              0.7777777777777778,
              "#fb9f3a"
             ],
             [
              0.8888888888888888,
              "#fdca26"
             ],
             [
              1,
              "#f0f921"
             ]
            ],
            "type": "heatmapgl"
           }
          ],
          "histogram": [
           {
            "marker": {
             "pattern": {
              "fillmode": "overlay",
              "size": 10,
              "solidity": 0.2
             }
            },
            "type": "histogram"
           }
          ],
          "histogram2d": [
           {
            "colorbar": {
             "outlinewidth": 0,
             "ticks": ""
            },
            "colorscale": [
             [
              0,
              "#0d0887"
             ],
             [
              0.1111111111111111,
              "#46039f"
             ],
             [
              0.2222222222222222,
              "#7201a8"
             ],
             [
              0.3333333333333333,
              "#9c179e"
             ],
             [
              0.4444444444444444,
              "#bd3786"
             ],
             [
              0.5555555555555556,
              "#d8576b"
             ],
             [
              0.6666666666666666,
              "#ed7953"
             ],
             [
              0.7777777777777778,
              "#fb9f3a"
             ],
             [
              0.8888888888888888,
              "#fdca26"
             ],
             [
              1,
              "#f0f921"
             ]
            ],
            "type": "histogram2d"
           }
          ],
          "histogram2dcontour": [
           {
            "colorbar": {
             "outlinewidth": 0,
             "ticks": ""
            },
            "colorscale": [
             [
              0,
              "#0d0887"
             ],
             [
              0.1111111111111111,
              "#46039f"
             ],
             [
              0.2222222222222222,
              "#7201a8"
             ],
             [
              0.3333333333333333,
              "#9c179e"
             ],
             [
              0.4444444444444444,
              "#bd3786"
             ],
             [
              0.5555555555555556,
              "#d8576b"
             ],
             [
              0.6666666666666666,
              "#ed7953"
             ],
             [
              0.7777777777777778,
              "#fb9f3a"
             ],
             [
              0.8888888888888888,
              "#fdca26"
             ],
             [
              1,
              "#f0f921"
             ]
            ],
            "type": "histogram2dcontour"
           }
          ],
          "mesh3d": [
           {
            "colorbar": {
             "outlinewidth": 0,
             "ticks": ""
            },
            "type": "mesh3d"
           }
          ],
          "parcoords": [
           {
            "line": {
             "colorbar": {
              "outlinewidth": 0,
              "ticks": ""
             }
            },
            "type": "parcoords"
           }
          ],
          "pie": [
           {
            "automargin": true,
            "type": "pie"
           }
          ],
          "scatter": [
           {
            "fillpattern": {
             "fillmode": "overlay",
             "size": 10,
             "solidity": 0.2
            },
            "type": "scatter"
           }
          ],
          "scatter3d": [
           {
            "line": {
             "colorbar": {
              "outlinewidth": 0,
              "ticks": ""
             }
            },
            "marker": {
             "colorbar": {
              "outlinewidth": 0,
              "ticks": ""
             }
            },
            "type": "scatter3d"
           }
          ],
          "scattercarpet": [
           {
            "marker": {
             "colorbar": {
              "outlinewidth": 0,
              "ticks": ""
             }
            },
            "type": "scattercarpet"
           }
          ],
          "scattergeo": [
           {
            "marker": {
             "colorbar": {
              "outlinewidth": 0,
              "ticks": ""
             }
            },
            "type": "scattergeo"
           }
          ],
          "scattergl": [
           {
            "marker": {
             "colorbar": {
              "outlinewidth": 0,
              "ticks": ""
             }
            },
            "type": "scattergl"
           }
          ],
          "scattermapbox": [
           {
            "marker": {
             "colorbar": {
              "outlinewidth": 0,
              "ticks": ""
             }
            },
            "type": "scattermapbox"
           }
          ],
          "scatterpolar": [
           {
            "marker": {
             "colorbar": {
              "outlinewidth": 0,
              "ticks": ""
             }
            },
            "type": "scatterpolar"
           }
          ],
          "scatterpolargl": [
           {
            "marker": {
             "colorbar": {
              "outlinewidth": 0,
              "ticks": ""
             }
            },
            "type": "scatterpolargl"
           }
          ],
          "scatterternary": [
           {
            "marker": {
             "colorbar": {
              "outlinewidth": 0,
              "ticks": ""
             }
            },
            "type": "scatterternary"
           }
          ],
          "surface": [
           {
            "colorbar": {
             "outlinewidth": 0,
             "ticks": ""
            },
            "colorscale": [
             [
              0,
              "#0d0887"
             ],
             [
              0.1111111111111111,
              "#46039f"
             ],
             [
              0.2222222222222222,
              "#7201a8"
             ],
             [
              0.3333333333333333,
              "#9c179e"
             ],
             [
              0.4444444444444444,
              "#bd3786"
             ],
             [
              0.5555555555555556,
              "#d8576b"
             ],
             [
              0.6666666666666666,
              "#ed7953"
             ],
             [
              0.7777777777777778,
              "#fb9f3a"
             ],
             [
              0.8888888888888888,
              "#fdca26"
             ],
             [
              1,
              "#f0f921"
             ]
            ],
            "type": "surface"
           }
          ],
          "table": [
           {
            "cells": {
             "fill": {
              "color": "#EBF0F8"
             },
             "line": {
              "color": "white"
             }
            },
            "header": {
             "fill": {
              "color": "#C8D4E3"
             },
             "line": {
              "color": "white"
             }
            },
            "type": "table"
           }
          ]
         },
         "layout": {
          "annotationdefaults": {
           "arrowcolor": "#2a3f5f",
           "arrowhead": 0,
           "arrowwidth": 1
          },
          "autotypenumbers": "strict",
          "coloraxis": {
           "colorbar": {
            "outlinewidth": 0,
            "ticks": ""
           }
          },
          "colorscale": {
           "diverging": [
            [
             0,
             "#8e0152"
            ],
            [
             0.1,
             "#c51b7d"
            ],
            [
             0.2,
             "#de77ae"
            ],
            [
             0.3,
             "#f1b6da"
            ],
            [
             0.4,
             "#fde0ef"
            ],
            [
             0.5,
             "#f7f7f7"
            ],
            [
             0.6,
             "#e6f5d0"
            ],
            [
             0.7,
             "#b8e186"
            ],
            [
             0.8,
             "#7fbc41"
            ],
            [
             0.9,
             "#4d9221"
            ],
            [
             1,
             "#276419"
            ]
           ],
           "sequential": [
            [
             0,
             "#0d0887"
            ],
            [
             0.1111111111111111,
             "#46039f"
            ],
            [
             0.2222222222222222,
             "#7201a8"
            ],
            [
             0.3333333333333333,
             "#9c179e"
            ],
            [
             0.4444444444444444,
             "#bd3786"
            ],
            [
             0.5555555555555556,
             "#d8576b"
            ],
            [
             0.6666666666666666,
             "#ed7953"
            ],
            [
             0.7777777777777778,
             "#fb9f3a"
            ],
            [
             0.8888888888888888,
             "#fdca26"
            ],
            [
             1,
             "#f0f921"
            ]
           ],
           "sequentialminus": [
            [
             0,
             "#0d0887"
            ],
            [
             0.1111111111111111,
             "#46039f"
            ],
            [
             0.2222222222222222,
             "#7201a8"
            ],
            [
             0.3333333333333333,
             "#9c179e"
            ],
            [
             0.4444444444444444,
             "#bd3786"
            ],
            [
             0.5555555555555556,
             "#d8576b"
            ],
            [
             0.6666666666666666,
             "#ed7953"
            ],
            [
             0.7777777777777778,
             "#fb9f3a"
            ],
            [
             0.8888888888888888,
             "#fdca26"
            ],
            [
             1,
             "#f0f921"
            ]
           ]
          },
          "colorway": [
           "#636efa",
           "#EF553B",
           "#00cc96",
           "#ab63fa",
           "#FFA15A",
           "#19d3f3",
           "#FF6692",
           "#B6E880",
           "#FF97FF",
           "#FECB52"
          ],
          "font": {
           "color": "#2a3f5f"
          },
          "geo": {
           "bgcolor": "white",
           "lakecolor": "white",
           "landcolor": "#E5ECF6",
           "showlakes": true,
           "showland": true,
           "subunitcolor": "white"
          },
          "hoverlabel": {
           "align": "left"
          },
          "hovermode": "closest",
          "mapbox": {
           "style": "light"
          },
          "paper_bgcolor": "white",
          "plot_bgcolor": "#E5ECF6",
          "polar": {
           "angularaxis": {
            "gridcolor": "white",
            "linecolor": "white",
            "ticks": ""
           },
           "bgcolor": "#E5ECF6",
           "radialaxis": {
            "gridcolor": "white",
            "linecolor": "white",
            "ticks": ""
           }
          },
          "scene": {
           "xaxis": {
            "backgroundcolor": "#E5ECF6",
            "gridcolor": "white",
            "gridwidth": 2,
            "linecolor": "white",
            "showbackground": true,
            "ticks": "",
            "zerolinecolor": "white"
           },
           "yaxis": {
            "backgroundcolor": "#E5ECF6",
            "gridcolor": "white",
            "gridwidth": 2,
            "linecolor": "white",
            "showbackground": true,
            "ticks": "",
            "zerolinecolor": "white"
           },
           "zaxis": {
            "backgroundcolor": "#E5ECF6",
            "gridcolor": "white",
            "gridwidth": 2,
            "linecolor": "white",
            "showbackground": true,
            "ticks": "",
            "zerolinecolor": "white"
           }
          },
          "shapedefaults": {
           "line": {
            "color": "#2a3f5f"
           }
          },
          "ternary": {
           "aaxis": {
            "gridcolor": "white",
            "linecolor": "white",
            "ticks": ""
           },
           "baxis": {
            "gridcolor": "white",
            "linecolor": "white",
            "ticks": ""
           },
           "bgcolor": "#E5ECF6",
           "caxis": {
            "gridcolor": "white",
            "linecolor": "white",
            "ticks": ""
           }
          },
          "title": {
           "x": 0.05
          },
          "xaxis": {
           "automargin": true,
           "gridcolor": "white",
           "linecolor": "white",
           "ticks": "",
           "title": {
            "standoff": 15
           },
           "zerolinecolor": "white",
           "zerolinewidth": 2
          },
          "yaxis": {
           "automargin": true,
           "gridcolor": "white",
           "linecolor": "white",
           "ticks": "",
           "title": {
            "standoff": 15
           },
           "zerolinecolor": "white",
           "zerolinewidth": 2
          }
         }
        },
        "xaxis": {
         "anchor": "y",
         "autorange": true,
         "domain": [
          0,
          1
         ],
         "range": [
          "2015-06-12",
          "2015-07-31"
         ],
         "title": {
          "text": "Date"
         },
         "type": "date"
        },
        "yaxis": {
         "anchor": "x",
         "autorange": true,
         "domain": [
          0,
          1
         ],
         "range": [
          -602.2222222222222,
          11442.222222222223
         ],
         "title": {
          "text": "value"
         },
         "type": "linear"
        }
       }
      },
      "image/png": "[encoded data removed]"
     },
     "metadata": {},
     "output_type": "display_data"
    }
   ],
   "source": [
    "fig = px.line(forecast_df, x=\"Date\", y=[\"Sales\", \"Forecast\"])\n",
    "fig.show()"
   ]
  },
  {
   "cell_type": "code",
   "execution_count": 209,
   "id": "08c1150b",
   "metadata": {},
   "outputs": [
    {
     "data": {
      "text/plain": [
       "723.1067071032126"
      ]
     },
     "execution_count": 209,
     "metadata": {},
     "output_type": "execute_result"
    }
   ],
   "source": [
    "rmse = np.sqrt(mean_squared_error(forecast_df['Sales'], forecast_df['Forecast']))\n",
    "rmse"
   ]
  },
  {
   "cell_type": "code",
   "execution_count": 213,
   "id": "785572c0",
   "metadata": {},
   "outputs": [
    {
     "data": {
      "text/plain": [
       "Store              0\n",
       "DayOfWeek          0\n",
       "Date               0\n",
       "Sales              0\n",
       "Customers          0\n",
       "Open               0\n",
       "Promo              0\n",
       "SchoolHoliday      0\n",
       "StateHoliday__0    0\n",
       "StateHoliday__a    0\n",
       "StateHoliday__b    0\n",
       "StateHoliday__c    0\n",
       "dtype: int64"
      ]
     },
     "execution_count": 213,
     "metadata": {},
     "output_type": "execute_result"
    }
   ],
   "source": [
    "df_store_x.isnull().sum()"
   ]
  }
 ],
 "metadata": {
  "kernelspec": {
   "display_name": "Python 3 (ipykernel)",
   "language": "python",
   "name": "python3"
  },
  "language_info": {
   "codemirror_mode": {
    "name": "ipython",
    "version": 3
   },
   "file_extension": ".py",
   "mimetype": "text/x-python",
   "name": "python",
   "nbconvert_exporter": "python",
   "pygments_lexer": "ipython3",
   "version": "3.10.4"
  }
 },
 "nbformat": 4,
 "nbformat_minor": 5
}
